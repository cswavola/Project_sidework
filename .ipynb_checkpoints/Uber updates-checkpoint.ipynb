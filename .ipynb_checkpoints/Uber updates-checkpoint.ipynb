{
 "cells": [
  {
   "cell_type": "code",
   "execution_count": 2,
   "metadata": {
    "collapsed": true
   },
   "outputs": [],
   "source": [
    "    %matplotlib inline\n",
    "import numpy as np\n",
    "import pandas as pd\n",
    "import matplotlib.pyplot as plt\n",
    "import os"
   ]
  },
  {
   "cell_type": "markdown",
   "metadata": {},
   "source": [
    "# Uber data "
   ]
  },
  {
   "cell_type": "code",
   "execution_count": 4,
   "metadata": {
    "collapsed": false
   },
   "outputs": [],
   "source": [
    "os.chdir('C:/Users/Charlotte/Desktop/python_course/Download')\n",
    "\n",
    "\n",
    "Uber_april=pd.read_csv('uber-raw-data-apr14.csv',parse_dates=True, infer_datetime_format=True)\n",
    "Uber_may=pd.read_csv('uber-raw-data-may14.csv',parse_dates=True, infer_datetime_format=True)\n",
    "Uber_june=pd.read_csv('uber-raw-data-jun14.csv',parse_dates=True, infer_datetime_format=True)\n",
    "Uber_july=pd.read_csv('uber-raw-data-jul14.csv',parse_dates=True, infer_datetime_format=True)\n",
    "Uber_aug=pd.read_csv('uber-raw-data-aug14.csv',parse_dates=True, infer_datetime_format=True)\n",
    "Uber_sep=pd.read_csv('uber-raw-data-sep14.csv',parse_dates=True, infer_datetime_format=True)\n",
    "\n",
    "Uber= pd.concat([Uber_april,Uber_may,Uber_june,Uber_july,Uber_aug, Uber_sep])"
   ]
  },
  {
   "cell_type": "markdown",
   "metadata": {},
   "source": [
    "os.chdir('C:/Users/Charlotte/Desktop/python_course/Download')\n",
    "\n",
    "\n",
    "Uber=pd.read_csv('uber_janjun15.csv',parse_dates=True, infer_datetime_format=True)\n"
   ]
  },
  {
   "cell_type": "code",
   "execution_count": 5,
   "metadata": {
    "collapsed": true
   },
   "outputs": [],
   "source": [
    "dir_str='C:/Users/Charlotte/Desktop/python_course/Download'"
   ]
  },
  {
   "cell_type": "code",
   "execution_count": 6,
   "metadata": {
    "collapsed": false
   },
   "outputs": [
    {
     "name": "stdout",
     "output_type": "stream",
     "text": [
      "(4534327, 4)\n",
      "Index(['Date/Time', 'Lat', 'Lon', 'Base'], dtype='object')\n"
     ]
    },
    {
     "data": {
      "text/html": [
       "<div>\n",
       "<table border=\"1\" class=\"dataframe\">\n",
       "  <thead>\n",
       "    <tr style=\"text-align: right;\">\n",
       "      <th></th>\n",
       "      <th>Date/Time</th>\n",
       "      <th>Lat</th>\n",
       "      <th>Lon</th>\n",
       "      <th>Base</th>\n",
       "    </tr>\n",
       "  </thead>\n",
       "  <tbody>\n",
       "    <tr>\n",
       "      <th>0</th>\n",
       "      <td>4/1/2014 0:11:00</td>\n",
       "      <td>40.7690</td>\n",
       "      <td>-73.9549</td>\n",
       "      <td>B02512</td>\n",
       "    </tr>\n",
       "    <tr>\n",
       "      <th>1</th>\n",
       "      <td>4/1/2014 0:17:00</td>\n",
       "      <td>40.7267</td>\n",
       "      <td>-74.0345</td>\n",
       "      <td>B02512</td>\n",
       "    </tr>\n",
       "    <tr>\n",
       "      <th>2</th>\n",
       "      <td>4/1/2014 0:21:00</td>\n",
       "      <td>40.7316</td>\n",
       "      <td>-73.9873</td>\n",
       "      <td>B02512</td>\n",
       "    </tr>\n",
       "    <tr>\n",
       "      <th>3</th>\n",
       "      <td>4/1/2014 0:28:00</td>\n",
       "      <td>40.7588</td>\n",
       "      <td>-73.9776</td>\n",
       "      <td>B02512</td>\n",
       "    </tr>\n",
       "    <tr>\n",
       "      <th>4</th>\n",
       "      <td>4/1/2014 0:33:00</td>\n",
       "      <td>40.7594</td>\n",
       "      <td>-73.9722</td>\n",
       "      <td>B02512</td>\n",
       "    </tr>\n",
       "  </tbody>\n",
       "</table>\n",
       "</div>"
      ],
      "text/plain": [
       "          Date/Time      Lat      Lon    Base\n",
       "0  4/1/2014 0:11:00  40.7690 -73.9549  B02512\n",
       "1  4/1/2014 0:17:00  40.7267 -74.0345  B02512\n",
       "2  4/1/2014 0:21:00  40.7316 -73.9873  B02512\n",
       "3  4/1/2014 0:28:00  40.7588 -73.9776  B02512\n",
       "4  4/1/2014 0:33:00  40.7594 -73.9722  B02512"
      ]
     },
     "execution_count": 6,
     "metadata": {},
     "output_type": "execute_result"
    }
   ],
   "source": [
    "print(Uber.shape)\n",
    "print(Uber.columns)\n",
    "Uber.head(5)"
   ]
  },
  {
   "cell_type": "code",
   "execution_count": null,
   "metadata": {
    "collapsed": true
   },
   "outputs": [],
   "source": [
    "Uber_datetime=pd.to_datetime(Uber['Date/Time'], infer_datetime_format=True)\n",
    "Uber_time=Uber_datetime.dt.time\n",
    "Uber_date=Uber_datetime.dt.date"
   ]
  },
  {
   "cell_type": "code",
   "execution_count": 8,
   "metadata": {
    "collapsed": true
   },
   "outputs": [],
   "source": [
    "Pickup_Time=pd.DataFrame(Uber_time)\n",
    "Pickup_Date=pd.DataFrame(Uber_date)"
   ]
  },
  {
   "cell_type": "code",
   "execution_count": 9,
   "metadata": {
    "collapsed": false
   },
   "outputs": [
    {
     "data": {
      "text/html": [
       "<div>\n",
       "<table border=\"1\" class=\"dataframe\">\n",
       "  <thead>\n",
       "    <tr style=\"text-align: right;\">\n",
       "      <th></th>\n",
       "      <th>Pickup_time</th>\n",
       "    </tr>\n",
       "  </thead>\n",
       "  <tbody>\n",
       "    <tr>\n",
       "      <th>0</th>\n",
       "      <td>00:11:00</td>\n",
       "    </tr>\n",
       "    <tr>\n",
       "      <th>1</th>\n",
       "      <td>00:17:00</td>\n",
       "    </tr>\n",
       "    <tr>\n",
       "      <th>2</th>\n",
       "      <td>00:21:00</td>\n",
       "    </tr>\n",
       "    <tr>\n",
       "      <th>3</th>\n",
       "      <td>00:28:00</td>\n",
       "    </tr>\n",
       "    <tr>\n",
       "      <th>4</th>\n",
       "      <td>00:33:00</td>\n",
       "    </tr>\n",
       "  </tbody>\n",
       "</table>\n",
       "</div>"
      ],
      "text/plain": [
       "  Pickup_time\n",
       "0    00:11:00\n",
       "1    00:17:00\n",
       "2    00:21:00\n",
       "3    00:28:00\n",
       "4    00:33:00"
      ]
     },
     "execution_count": 9,
     "metadata": {},
     "output_type": "execute_result"
    }
   ],
   "source": [
    "Pickup_Time.columns=['Pickup_time']\n",
    "Pickup_Time.head(5)"
   ]
  },
  {
   "cell_type": "code",
   "execution_count": 10,
   "metadata": {
    "collapsed": false
   },
   "outputs": [
    {
     "data": {
      "text/html": [
       "<div>\n",
       "<table border=\"1\" class=\"dataframe\">\n",
       "  <thead>\n",
       "    <tr style=\"text-align: right;\">\n",
       "      <th></th>\n",
       "      <th>Pickup_date</th>\n",
       "    </tr>\n",
       "  </thead>\n",
       "  <tbody>\n",
       "    <tr>\n",
       "      <th>0</th>\n",
       "      <td>2014-04-01</td>\n",
       "    </tr>\n",
       "    <tr>\n",
       "      <th>1</th>\n",
       "      <td>2014-04-01</td>\n",
       "    </tr>\n",
       "    <tr>\n",
       "      <th>2</th>\n",
       "      <td>2014-04-01</td>\n",
       "    </tr>\n",
       "    <tr>\n",
       "      <th>3</th>\n",
       "      <td>2014-04-01</td>\n",
       "    </tr>\n",
       "    <tr>\n",
       "      <th>4</th>\n",
       "      <td>2014-04-01</td>\n",
       "    </tr>\n",
       "  </tbody>\n",
       "</table>\n",
       "</div>"
      ],
      "text/plain": [
       "  Pickup_date\n",
       "0  2014-04-01\n",
       "1  2014-04-01\n",
       "2  2014-04-01\n",
       "3  2014-04-01\n",
       "4  2014-04-01"
      ]
     },
     "execution_count": 10,
     "metadata": {},
     "output_type": "execute_result"
    }
   ],
   "source": [
    "Pickup_Date.columns=['Pickup_date']\n",
    "Pickup_Date.head(5)"
   ]
  },
  {
   "cell_type": "code",
   "execution_count": 11,
   "metadata": {
    "collapsed": false
   },
   "outputs": [
    {
     "data": {
      "text/html": [
       "<div>\n",
       "<table border=\"1\" class=\"dataframe\">\n",
       "  <thead>\n",
       "    <tr style=\"text-align: right;\">\n",
       "      <th></th>\n",
       "      <th>Date/Time</th>\n",
       "      <th>Lat</th>\n",
       "      <th>Lon</th>\n",
       "      <th>Base</th>\n",
       "      <th>Pickup_date</th>\n",
       "      <th>Pickup_time</th>\n",
       "    </tr>\n",
       "  </thead>\n",
       "  <tbody>\n",
       "    <tr>\n",
       "      <th>0</th>\n",
       "      <td>4/1/2014 0:11:00</td>\n",
       "      <td>40.7690</td>\n",
       "      <td>-73.9549</td>\n",
       "      <td>B02512</td>\n",
       "      <td>2014-04-01</td>\n",
       "      <td>00:11:00</td>\n",
       "    </tr>\n",
       "    <tr>\n",
       "      <th>1</th>\n",
       "      <td>4/1/2014 0:17:00</td>\n",
       "      <td>40.7267</td>\n",
       "      <td>-74.0345</td>\n",
       "      <td>B02512</td>\n",
       "      <td>2014-04-01</td>\n",
       "      <td>00:17:00</td>\n",
       "    </tr>\n",
       "    <tr>\n",
       "      <th>2</th>\n",
       "      <td>4/1/2014 0:21:00</td>\n",
       "      <td>40.7316</td>\n",
       "      <td>-73.9873</td>\n",
       "      <td>B02512</td>\n",
       "      <td>2014-04-01</td>\n",
       "      <td>00:21:00</td>\n",
       "    </tr>\n",
       "    <tr>\n",
       "      <th>3</th>\n",
       "      <td>4/1/2014 0:28:00</td>\n",
       "      <td>40.7588</td>\n",
       "      <td>-73.9776</td>\n",
       "      <td>B02512</td>\n",
       "      <td>2014-04-01</td>\n",
       "      <td>00:28:00</td>\n",
       "    </tr>\n",
       "    <tr>\n",
       "      <th>4</th>\n",
       "      <td>4/1/2014 0:33:00</td>\n",
       "      <td>40.7594</td>\n",
       "      <td>-73.9722</td>\n",
       "      <td>B02512</td>\n",
       "      <td>2014-04-01</td>\n",
       "      <td>00:33:00</td>\n",
       "    </tr>\n",
       "  </tbody>\n",
       "</table>\n",
       "</div>"
      ],
      "text/plain": [
       "          Date/Time      Lat      Lon    Base Pickup_date Pickup_time\n",
       "0  4/1/2014 0:11:00  40.7690 -73.9549  B02512  2014-04-01    00:11:00\n",
       "1  4/1/2014 0:17:00  40.7267 -74.0345  B02512  2014-04-01    00:17:00\n",
       "2  4/1/2014 0:21:00  40.7316 -73.9873  B02512  2014-04-01    00:21:00\n",
       "3  4/1/2014 0:28:00  40.7588 -73.9776  B02512  2014-04-01    00:28:00\n",
       "4  4/1/2014 0:33:00  40.7594 -73.9722  B02512  2014-04-01    00:33:00"
      ]
     },
     "execution_count": 11,
     "metadata": {},
     "output_type": "execute_result"
    }
   ],
   "source": [
    "Pickups=Pickup_Date.join(Pickup_Time)\n",
    "Uber['Pickup_date']=Pickup_Date\n",
    "Uber['Pickup_time']=Pickup_Time\n",
    "Uber.head(5)"
   ]
  },
  {
   "cell_type": "markdown",
   "metadata": {
    "collapsed": false
   },
   "source": [
    "Uber=pd.DataFrame(Uber[['Pickup_date','Pickup_time','Affiliated_base_num','locationID']])\n",
    "Uber.head(5)"
   ]
  },
  {
   "cell_type": "code",
   "execution_count": 13,
   "metadata": {
    "collapsed": true
   },
   "outputs": [],
   "source": [
    "rides_date=pd.DataFrame((Uber['Pickup_date'].value_counts()))"
   ]
  },
  {
   "cell_type": "code",
   "execution_count": 14,
   "metadata": {
    "collapsed": false
   },
   "outputs": [
    {
     "data": {
      "text/plain": [
       "<matplotlib.axes._subplots.AxesSubplot at 0x2609c11a128>"
      ]
     },
     "execution_count": 14,
     "metadata": {},
     "output_type": "execute_result"
    },
    {
     "data": {
      "image/png": "[encoded data removed]",
      "text/plain": [
       "<matplotlib.figure.Figure at 0x2609c0705c0>"
      ]
     },
     "metadata": {},
     "output_type": "display_data"
    }
   ],
   "source": [
    "rides_date.plot()"
   ]
  },
  {
   "cell_type": "markdown",
   "metadata": {
    "collapsed": false
   },
   "source": [
    "Loc_ID=pd.read_csv('taxi-zones.csv')"
   ]
  },
  {
   "cell_type": "markdown",
   "metadata": {
    "collapsed": false,
    "scrolled": true
   },
   "source": [
    "##### Older Uber data\n",
    "Loc_ID.set_index('LocationID',inplace=True)\n",
    "Loc_ID.head(5)"
   ]
  },
  {
   "cell_type": "markdown",
   "metadata": {
    "collapsed": false
   },
   "source": [
    "Location_name=Loc_ID['Zone']+', '+Loc_ID['Borough']"
   ]
  },
  {
   "cell_type": "markdown",
   "metadata": {
    "collapsed": false
   },
   "source": [
    "print(Location_name[0:7])"
   ]
  },
  {
   "cell_type": "markdown",
   "metadata": {
    "collapsed": true
   },
   "source": [
    "Loc_ID['Location_name']=Location_name"
   ]
  },
  {
   "cell_type": "markdown",
   "metadata": {
    "collapsed": false
   },
   "source": [
    "Loc_ID.head(5)"
   ]
  },
  {
   "cell_type": "code",
   "execution_count": null,
   "metadata": {
    "collapsed": true
   },
   "outputs": [],
   "source": [
    "Loc_ID['Station_Coord'] = Loc_ID['Location_name'].map(lambda x: geolocator.geocode(x))"
   ]
  },
  {
   "cell_type": "code",
   "execution_count": null,
   "metadata": {
    "collapsed": false
   },
   "outputs": [],
   "source": [
    "Loc_ID.head(5)"
   ]
  },
  {
   "cell_type": "raw",
   "metadata": {},
   "source": []
  },
  {
   "cell_type": "markdown",
   "metadata": {},
   "source": [
    "# Citi bike data import and manipulation"
   ]
  },
  {
   "cell_type": "code",
   "execution_count": null,
   "metadata": {
    "collapsed": true
   },
   "outputs": [],
   "source": []
  },
  {
   "cell_type": "code",
   "execution_count": 17,
   "metadata": {
    "collapsed": false
   },
   "outputs": [],
   "source": [
    "#citibike = pd.read_csv('citibike2014Q4.csv')\n",
    "\n",
    "citibike2014Q1 = pd.read_csv('Citibike2014-Q1.csv')\n",
    "citibike2014Q2 = pd.read_csv('Citibike2014-Q2.csv')\n",
    "citibike2014Q3 = pd.read_csv('Citibike2014-Q3.csv')\n",
    "citibike2014Q4 = pd.read_csv('Citibike2014-Q4.csv')\n",
    "citibike = pd.concat([citibike2014Q1, citibike2014Q2,citibike2014Q3,citibike2014Q4])"
   ]
  },
  {
   "cell_type": "code",
   "execution_count": 18,
   "metadata": {
    "collapsed": false
   },
   "outputs": [
    {
     "data": {
      "text/html": [
       "<div>\n",
       "<table border=\"1\" class=\"dataframe\">\n",
       "  <thead>\n",
       "    <tr style=\"text-align: right;\">\n",
       "      <th></th>\n",
       "      <th>24-Hour Passes Purchased (midnight to 11:59 pm)</th>\n",
       "      <th>7-Day Passes Purchased (midnight to 11:59 pm)</th>\n",
       "      <th>Annual Member Sign-Ups (midnight to 11:59 pm)</th>\n",
       "      <th>Cumulative trips (since launch):</th>\n",
       "      <th>Date</th>\n",
       "      <th>Miles traveled to date:</th>\n",
       "      <th>Miles traveled today (midnight to 11:59 pm)</th>\n",
       "      <th>Total Annual Members</th>\n",
       "      <th>Total Annual Memberships Sold</th>\n",
       "      <th>Trips over the past 24-hours (midnight to 11:59pm)</th>\n",
       "    </tr>\n",
       "  </thead>\n",
       "  <tbody>\n",
       "    <tr>\n",
       "      <th>0</th>\n",
       "      <td>268</td>\n",
       "      <td>10</td>\n",
       "      <td>29</td>\n",
       "      <td>6323722</td>\n",
       "      <td>1/1/2014</td>\n",
       "      <td>11,243,581</td>\n",
       "      <td>9.254</td>\n",
       "      <td>95971.0</td>\n",
       "      <td>NaN</td>\n",
       "      <td>6559</td>\n",
       "    </tr>\n",
       "    <tr>\n",
       "      <th>1</th>\n",
       "      <td>66</td>\n",
       "      <td>3</td>\n",
       "      <td>42</td>\n",
       "      <td>6333056</td>\n",
       "      <td>1/2/2014</td>\n",
       "      <td>11,255,317</td>\n",
       "      <td>11.736</td>\n",
       "      <td>96000.0</td>\n",
       "      <td>NaN</td>\n",
       "      <td>9334</td>\n",
       "    </tr>\n",
       "    <tr>\n",
       "      <th>2</th>\n",
       "      <td>1</td>\n",
       "      <td>1</td>\n",
       "      <td>23</td>\n",
       "      <td>6334344</td>\n",
       "      <td>1/3/2014</td>\n",
       "      <td>11,257,172</td>\n",
       "      <td>1.855</td>\n",
       "      <td>96042.0</td>\n",
       "      <td>NaN</td>\n",
       "      <td>1288</td>\n",
       "    </tr>\n",
       "    <tr>\n",
       "      <th>3</th>\n",
       "      <td>14</td>\n",
       "      <td>1</td>\n",
       "      <td>19</td>\n",
       "      <td>6336838</td>\n",
       "      <td>1/4/2014</td>\n",
       "      <td>11,260,878</td>\n",
       "      <td>3.706</td>\n",
       "      <td>96065.0</td>\n",
       "      <td>NaN</td>\n",
       "      <td>2494</td>\n",
       "    </tr>\n",
       "    <tr>\n",
       "      <th>4</th>\n",
       "      <td>17</td>\n",
       "      <td>4</td>\n",
       "      <td>18</td>\n",
       "      <td>6339775</td>\n",
       "      <td>1/5/2014</td>\n",
       "      <td>11,264,598</td>\n",
       "      <td>3.720</td>\n",
       "      <td>96084.0</td>\n",
       "      <td>NaN</td>\n",
       "      <td>2937</td>\n",
       "    </tr>\n",
       "  </tbody>\n",
       "</table>\n",
       "</div>"
      ],
      "text/plain": [
       "  24-Hour Passes Purchased (midnight to 11:59 pm)  \\\n",
       "0                                             268   \n",
       "1                                              66   \n",
       "2                                               1   \n",
       "3                                              14   \n",
       "4                                              17   \n",
       "\n",
       "  7-Day Passes Purchased (midnight to 11:59 pm)  \\\n",
       "0                                            10   \n",
       "1                                             3   \n",
       "2                                             1   \n",
       "3                                             1   \n",
       "4                                             4   \n",
       "\n",
       "  Annual Member Sign-Ups (midnight to 11:59 pm)  \\\n",
       "0                                            29   \n",
       "1                                            42   \n",
       "2                                            23   \n",
       "3                                            19   \n",
       "4                                            18   \n",
       "\n",
       "   Cumulative trips (since launch):      Date Miles traveled to date:  \\\n",
       "0                           6323722  1/1/2014              11,243,581   \n",
       "1                           6333056  1/2/2014              11,255,317   \n",
       "2                           6334344  1/3/2014              11,257,172   \n",
       "3                           6336838  1/4/2014              11,260,878   \n",
       "4                           6339775  1/5/2014              11,264,598   \n",
       "\n",
       "   Miles traveled today (midnight to 11:59 pm)  Total Annual Members  \\\n",
       "0                                        9.254               95971.0   \n",
       "1                                       11.736               96000.0   \n",
       "2                                        1.855               96042.0   \n",
       "3                                        3.706               96065.0   \n",
       "4                                        3.720               96084.0   \n",
       "\n",
       "   Total Annual Memberships Sold  \\\n",
       "0                            NaN   \n",
       "1                            NaN   \n",
       "2                            NaN   \n",
       "3                            NaN   \n",
       "4                            NaN   \n",
       "\n",
       "   Trips over the past 24-hours (midnight to 11:59pm)  \n",
       "0                                               6559   \n",
       "1                                               9334   \n",
       "2                                               1288   \n",
       "3                                               2494   \n",
       "4                                               2937   "
      ]
     },
     "execution_count": 18,
     "metadata": {},
     "output_type": "execute_result"
    }
   ],
   "source": [
    "citibike.head(5)"
   ]
  },
  {
   "cell_type": "code",
   "execution_count": 187,
   "metadata": {
    "collapsed": false
   },
   "outputs": [],
   "source": [
    "Jan = pd.read_csv('201501-citibike-tripdata.csv')\n",
    "Feb = pd.read_csv('201502-citibike-tripdata.csv')\n",
    "Mar = pd.read_csv('201503-citibike-tripdata.csv')\n",
    "Apr = pd.read_csv('201504-citibike-tripdata.csv')\n",
    "May = pd.read_csv('201505-citibike-tripdata.csv')"
   ]
  },
  {
   "cell_type": "code",
   "execution_count": 188,
   "metadata": {
    "collapsed": true
   },
   "outputs": [],
   "source": [
    "citibike_trip = pd.concat([Jan,Feb,Mar,Apr,May])"
   ]
  },
  {
   "cell_type": "markdown",
   "metadata": {
    "collapsed": false
   },
   "source": [
    "citibike_trip.head(5)"
   ]
  },
  {
   "cell_type": "code",
   "execution_count": 191,
   "metadata": {
    "collapsed": false
   },
   "outputs": [],
   "source": [
    "#weather_bike=pd.DataFrame(citibike_trip[''])"
   ]
  },
  {
   "cell_type": "code",
   "execution_count": 192,
   "metadata": {
    "collapsed": true
   },
   "outputs": [],
   "source": [
    "def parseDate(dateStr):\n",
    "    dateStr=str(dateStr)\n",
    "    return(list(dateStr.split(' '))[0])"
   ]
  },
  {
   "cell_type": "code",
   "execution_count": 193,
   "metadata": {
    "collapsed": false
   },
   "outputs": [
    {
     "data": {
      "text/plain": [
       "'1/1/2015'"
      ]
     },
     "execution_count": 193,
     "metadata": {},
     "output_type": "execute_result"
    }
   ],
   "source": [
    "parseDate('1/1/2015 0:04')"
   ]
  },
  {
   "cell_type": "markdown",
   "metadata": {
    "collapsed": false
   },
   "source": [
    "#clean up the Date column- new df\n",
    "total_bikes=pd.DataFrame(citibike['starttime'])\n",
    "total_bikes['starttime'] = total_bikes['starttime'].map(parseDate)\n",
    "total_bikes['starttime'] = pd.to_datetime(total_bikes['starttime'],infer_datetime_format=True)\n",
    "total_bikes['starttime'] = total_bikes['starttime'].map(lambda d: d.date())\n",
    "total_bikes.head(5)\n",
    "#temp_date=pd.DataFrame(total_bikes['starttime'].map(lambda x: x 1/1/2015))\n"
   ]
  },
  {
   "cell_type": "code",
   "execution_count": 60,
   "metadata": {
    "collapsed": false
   },
   "outputs": [
    {
     "data": {
      "text/html": [
       "<div>\n",
       "<table border=\"1\" class=\"dataframe\">\n",
       "  <thead>\n",
       "    <tr style=\"text-align: right;\">\n",
       "      <th></th>\n",
       "      <th>DATE</th>\n",
       "      <th>Total_rides</th>\n",
       "    </tr>\n",
       "  </thead>\n",
       "  <tbody>\n",
       "    <tr>\n",
       "      <th>0</th>\n",
       "      <td>1/1/2014</td>\n",
       "      <td>6559</td>\n",
       "    </tr>\n",
       "    <tr>\n",
       "      <th>1</th>\n",
       "      <td>1/2/2014</td>\n",
       "      <td>9334</td>\n",
       "    </tr>\n",
       "    <tr>\n",
       "      <th>2</th>\n",
       "      <td>1/3/2014</td>\n",
       "      <td>1288</td>\n",
       "    </tr>\n",
       "    <tr>\n",
       "      <th>3</th>\n",
       "      <td>1/4/2014</td>\n",
       "      <td>2494</td>\n",
       "    </tr>\n",
       "    <tr>\n",
       "      <th>4</th>\n",
       "      <td>1/5/2014</td>\n",
       "      <td>2937</td>\n",
       "    </tr>\n",
       "  </tbody>\n",
       "</table>\n",
       "</div>"
      ],
      "text/plain": [
       "       DATE  Total_rides\n",
       "0  1/1/2014         6559\n",
       "1  1/2/2014         9334\n",
       "2  1/3/2014         1288\n",
       "3  1/4/2014         2494\n",
       "4  1/5/2014         2937"
      ]
     },
     "execution_count": 60,
     "metadata": {},
     "output_type": "execute_result"
    }
   ],
   "source": [
    "weather_bikes=pd.DataFrame(citibike[['Date','Trips over the past 24-hours (midnight to 11:59pm)']])\n",
    "weather_bikes.columns=[['DATE','Total_rides']]\n",
    "weather_bikes.head(5)"
   ]
  },
  {
   "cell_type": "code",
   "execution_count": 61,
   "metadata": {
    "collapsed": false
   },
   "outputs": [
    {
     "data": {
      "text/html": [
       "<div>\n",
       "<table border=\"1\" class=\"dataframe\">\n",
       "  <thead>\n",
       "    <tr style=\"text-align: right;\">\n",
       "      <th></th>\n",
       "      <th>DATE</th>\n",
       "      <th>Total_rides</th>\n",
       "    </tr>\n",
       "  </thead>\n",
       "  <tbody>\n",
       "    <tr>\n",
       "      <th>0</th>\n",
       "      <td>1/1/2014</td>\n",
       "      <td>6559</td>\n",
       "    </tr>\n",
       "    <tr>\n",
       "      <th>1</th>\n",
       "      <td>1/2/2014</td>\n",
       "      <td>9334</td>\n",
       "    </tr>\n",
       "    <tr>\n",
       "      <th>2</th>\n",
       "      <td>1/3/2014</td>\n",
       "      <td>1288</td>\n",
       "    </tr>\n",
       "    <tr>\n",
       "      <th>3</th>\n",
       "      <td>1/4/2014</td>\n",
       "      <td>2494</td>\n",
       "    </tr>\n",
       "    <tr>\n",
       "      <th>4</th>\n",
       "      <td>1/5/2014</td>\n",
       "      <td>2937</td>\n",
       "    </tr>\n",
       "  </tbody>\n",
       "</table>\n",
       "</div>"
      ],
      "text/plain": [
       "       DATE  Total_rides\n",
       "0  1/1/2014         6559\n",
       "1  1/2/2014         9334\n",
       "2  1/3/2014         1288\n",
       "3  1/4/2014         2494\n",
       "4  1/5/2014         2937"
      ]
     },
     "execution_count": 61,
     "metadata": {},
     "output_type": "execute_result"
    }
   ],
   "source": [
    "weather_bikes.head(5)\n"
   ]
  },
  {
   "cell_type": "code",
   "execution_count": 62,
   "metadata": {
    "collapsed": true
   },
   "outputs": [],
   "source": [
    "weather_bikes['DATE']=pd.to_datetime(weather_bikes['DATE'])\n",
    "weather_bikes['Weekday']=weather_bikes['DATE'].map(lambda t: t.weekday())"
   ]
  },
  {
   "cell_type": "code",
   "execution_count": 63,
   "metadata": {
    "collapsed": false
   },
   "outputs": [],
   "source": [
    "Weekday_rides=weather_bikes[(weather_bikes['Weekday']<5)]\n",
    "Weekend_rides=weather_bikes[(weather_bikes['Weekday']>4)]"
   ]
  },
  {
   "cell_type": "code",
   "execution_count": 64,
   "metadata": {
    "collapsed": false
   },
   "outputs": [
    {
     "name": "stdout",
     "output_type": "stream",
     "text": [
      "         DATE  Total_rides  Weekday\n",
      "0  2014-01-01         6559        2\n",
      "1  2014-01-02         9334        3\n",
      "2  2014-01-03         1288        4\n",
      "5  2014-01-06        10481        0\n",
      "6  2014-01-07         7144        1\n",
      "7  2014-01-08        10162        2\n",
      "8  2014-01-09        14571        3\n",
      "9  2014-01-10        10685        4\n",
      "12 2014-01-13        22377        0\n",
      "13 2014-01-14        10849        1\n"
     ]
    },
    {
     "data": {
      "text/html": [
       "<div>\n",
       "<table border=\"1\" class=\"dataframe\">\n",
       "  <thead>\n",
       "    <tr style=\"text-align: right;\">\n",
       "      <th></th>\n",
       "      <th>DATE</th>\n",
       "      <th>Total_rides</th>\n",
       "      <th>Weekday</th>\n",
       "    </tr>\n",
       "  </thead>\n",
       "  <tbody>\n",
       "    <tr>\n",
       "      <th>0</th>\n",
       "      <td>2014-01-01</td>\n",
       "      <td>6559</td>\n",
       "      <td>2</td>\n",
       "    </tr>\n",
       "    <tr>\n",
       "      <th>1</th>\n",
       "      <td>2014-01-02</td>\n",
       "      <td>9334</td>\n",
       "      <td>3</td>\n",
       "    </tr>\n",
       "    <tr>\n",
       "      <th>2</th>\n",
       "      <td>2014-01-03</td>\n",
       "      <td>1288</td>\n",
       "      <td>4</td>\n",
       "    </tr>\n",
       "    <tr>\n",
       "      <th>3</th>\n",
       "      <td>2014-01-04</td>\n",
       "      <td>2494</td>\n",
       "      <td>5</td>\n",
       "    </tr>\n",
       "    <tr>\n",
       "      <th>4</th>\n",
       "      <td>2014-01-05</td>\n",
       "      <td>2937</td>\n",
       "      <td>6</td>\n",
       "    </tr>\n",
       "  </tbody>\n",
       "</table>\n",
       "</div>"
      ],
      "text/plain": [
       "        DATE  Total_rides  Weekday\n",
       "0 2014-01-01         6559        2\n",
       "1 2014-01-02         9334        3\n",
       "2 2014-01-03         1288        4\n",
       "3 2014-01-04         2494        5\n",
       "4 2014-01-05         2937        6"
      ]
     },
     "execution_count": 64,
     "metadata": {},
     "output_type": "execute_result"
    }
   ],
   "source": [
    "print(Weekday_rides[0:10])\n",
    "weather_bikes.head(5)"
   ]
  },
  {
   "cell_type": "code",
   "execution_count": 65,
   "metadata": {
    "collapsed": false
   },
   "outputs": [],
   "source": [
    "Weekday_rides=pd.DataFrame(Weekday_rides)\n",
    "Weekday_rides.columns=[['DATE','Weekday_rides','Weekday_num']]"
   ]
  },
  {
   "cell_type": "code",
   "execution_count": 66,
   "metadata": {
    "collapsed": false
   },
   "outputs": [
    {
     "name": "stdout",
     "output_type": "stream",
     "text": [
      "         DATE  Total_rides  Weekday\n",
      "3  2014-01-04         2494        5\n",
      "4  2014-01-05         2937        6\n",
      "10 2014-01-11         8333        5\n",
      "11 2014-01-12        13549        6\n",
      "17 2014-01-18        10222        5\n",
      "18 2014-01-19         9768        6\n",
      "24 2014-01-25         4716        5\n",
      "25 2014-01-26         5462        6\n",
      "31 2014-02-01        13797        5\n",
      "32 2014-02-02        15009        6\n"
     ]
    }
   ],
   "source": [
    "print(Weekend_rides[0:10])"
   ]
  },
  {
   "cell_type": "code",
   "execution_count": 67,
   "metadata": {
    "collapsed": false
   },
   "outputs": [
    {
     "data": {
      "text/html": [
       "<div>\n",
       "<table border=\"1\" class=\"dataframe\">\n",
       "  <thead>\n",
       "    <tr style=\"text-align: right;\">\n",
       "      <th></th>\n",
       "      <th>DATE</th>\n",
       "      <th>Weekend_rides</th>\n",
       "      <th>Weekday_num</th>\n",
       "    </tr>\n",
       "  </thead>\n",
       "  <tbody>\n",
       "    <tr>\n",
       "      <th>3</th>\n",
       "      <td>2014-01-04</td>\n",
       "      <td>2494</td>\n",
       "      <td>5</td>\n",
       "    </tr>\n",
       "    <tr>\n",
       "      <th>4</th>\n",
       "      <td>2014-01-05</td>\n",
       "      <td>2937</td>\n",
       "      <td>6</td>\n",
       "    </tr>\n",
       "    <tr>\n",
       "      <th>10</th>\n",
       "      <td>2014-01-11</td>\n",
       "      <td>8333</td>\n",
       "      <td>5</td>\n",
       "    </tr>\n",
       "    <tr>\n",
       "      <th>11</th>\n",
       "      <td>2014-01-12</td>\n",
       "      <td>13549</td>\n",
       "      <td>6</td>\n",
       "    </tr>\n",
       "    <tr>\n",
       "      <th>17</th>\n",
       "      <td>2014-01-18</td>\n",
       "      <td>10222</td>\n",
       "      <td>5</td>\n",
       "    </tr>\n",
       "  </tbody>\n",
       "</table>\n",
       "</div>"
      ],
      "text/plain": [
       "         DATE  Weekend_rides  Weekday_num\n",
       "3  2014-01-04           2494            5\n",
       "4  2014-01-05           2937            6\n",
       "10 2014-01-11           8333            5\n",
       "11 2014-01-12          13549            6\n",
       "17 2014-01-18          10222            5"
      ]
     },
     "execution_count": 67,
     "metadata": {},
     "output_type": "execute_result"
    }
   ],
   "source": [
    "Weekend_rides=pd.DataFrame(Weekend_rides)\n",
    "Weekend_rides.columns=[['DATE','Weekend_rides','Weekday_num']]\n",
    "Weekend_rides.head(5)"
   ]
  },
  {
   "cell_type": "code",
   "execution_count": 73,
   "metadata": {
    "collapsed": true
   },
   "outputs": [],
   "source": [
    "weather_bikes=pd.merge(weather_bikes,Weekend_rides,on='DATE',how='left')\n"
   ]
  },
  {
   "cell_type": "code",
   "execution_count": 69,
   "metadata": {
    "collapsed": false
   },
   "outputs": [],
   "source": [
    "weather_bikes=pd.merge(weather_bikes,Weekday_rides,on='DATE',how='left')\n",
    "\n",
    "#weather_bikes['Weekend_rides']=Weekend_rides['Total_rides']"
   ]
  },
  {
   "cell_type": "code",
   "execution_count": 74,
   "metadata": {
    "collapsed": false
   },
   "outputs": [
    {
     "data": {
      "text/html": [
       "<div>\n",
       "<table border=\"1\" class=\"dataframe\">\n",
       "  <thead>\n",
       "    <tr style=\"text-align: right;\">\n",
       "      <th></th>\n",
       "      <th>DATE</th>\n",
       "      <th>Total_rides</th>\n",
       "      <th>Weekday</th>\n",
       "      <th>Weekday_rides</th>\n",
       "      <th>Weekend_rides</th>\n",
       "      <th>Weekday_num</th>\n",
       "    </tr>\n",
       "  </thead>\n",
       "  <tbody>\n",
       "    <tr>\n",
       "      <th>0</th>\n",
       "      <td>2014-01-01</td>\n",
       "      <td>6559</td>\n",
       "      <td>2</td>\n",
       "      <td>6559.0</td>\n",
       "      <td>NaN</td>\n",
       "      <td>NaN</td>\n",
       "    </tr>\n",
       "    <tr>\n",
       "      <th>1</th>\n",
       "      <td>2014-01-02</td>\n",
       "      <td>9334</td>\n",
       "      <td>3</td>\n",
       "      <td>9334.0</td>\n",
       "      <td>NaN</td>\n",
       "      <td>NaN</td>\n",
       "    </tr>\n",
       "    <tr>\n",
       "      <th>2</th>\n",
       "      <td>2014-01-03</td>\n",
       "      <td>1288</td>\n",
       "      <td>4</td>\n",
       "      <td>1288.0</td>\n",
       "      <td>NaN</td>\n",
       "      <td>NaN</td>\n",
       "    </tr>\n",
       "    <tr>\n",
       "      <th>3</th>\n",
       "      <td>2014-01-04</td>\n",
       "      <td>2494</td>\n",
       "      <td>5</td>\n",
       "      <td>NaN</td>\n",
       "      <td>2494.0</td>\n",
       "      <td>5.0</td>\n",
       "    </tr>\n",
       "    <tr>\n",
       "      <th>4</th>\n",
       "      <td>2014-01-05</td>\n",
       "      <td>2937</td>\n",
       "      <td>6</td>\n",
       "      <td>NaN</td>\n",
       "      <td>2937.0</td>\n",
       "      <td>6.0</td>\n",
       "    </tr>\n",
       "  </tbody>\n",
       "</table>\n",
       "</div>"
      ],
      "text/plain": [
       "        DATE  Total_rides  Weekday  Weekday_rides  Weekend_rides  Weekday_num\n",
       "0 2014-01-01         6559        2         6559.0            NaN          NaN\n",
       "1 2014-01-02         9334        3         9334.0            NaN          NaN\n",
       "2 2014-01-03         1288        4         1288.0            NaN          NaN\n",
       "3 2014-01-04         2494        5            NaN         2494.0          5.0\n",
       "4 2014-01-05         2937        6            NaN         2937.0          6.0"
      ]
     },
     "execution_count": 74,
     "metadata": {},
     "output_type": "execute_result"
    }
   ],
   "source": [
    "weather_bikes.head(5)"
   ]
  },
  {
   "cell_type": "code",
   "execution_count": 75,
   "metadata": {
    "collapsed": false
   },
   "outputs": [
    {
     "data": {
      "text/html": [
       "<div>\n",
       "<table border=\"1\" class=\"dataframe\">\n",
       "  <thead>\n",
       "    <tr style=\"text-align: right;\">\n",
       "      <th></th>\n",
       "      <th>DATE</th>\n",
       "      <th>Total_rides</th>\n",
       "      <th>Weekday</th>\n",
       "      <th>Weekday_rides</th>\n",
       "      <th>Weekend_rides</th>\n",
       "    </tr>\n",
       "  </thead>\n",
       "  <tbody>\n",
       "    <tr>\n",
       "      <th>0</th>\n",
       "      <td>2014-01-01</td>\n",
       "      <td>6559</td>\n",
       "      <td>2</td>\n",
       "      <td>6559.0</td>\n",
       "      <td>NaN</td>\n",
       "    </tr>\n",
       "    <tr>\n",
       "      <th>1</th>\n",
       "      <td>2014-01-02</td>\n",
       "      <td>9334</td>\n",
       "      <td>3</td>\n",
       "      <td>9334.0</td>\n",
       "      <td>NaN</td>\n",
       "    </tr>\n",
       "    <tr>\n",
       "      <th>2</th>\n",
       "      <td>2014-01-03</td>\n",
       "      <td>1288</td>\n",
       "      <td>4</td>\n",
       "      <td>1288.0</td>\n",
       "      <td>NaN</td>\n",
       "    </tr>\n",
       "    <tr>\n",
       "      <th>3</th>\n",
       "      <td>2014-01-04</td>\n",
       "      <td>2494</td>\n",
       "      <td>5</td>\n",
       "      <td>NaN</td>\n",
       "      <td>2494.0</td>\n",
       "    </tr>\n",
       "    <tr>\n",
       "      <th>4</th>\n",
       "      <td>2014-01-05</td>\n",
       "      <td>2937</td>\n",
       "      <td>6</td>\n",
       "      <td>NaN</td>\n",
       "      <td>2937.0</td>\n",
       "    </tr>\n",
       "  </tbody>\n",
       "</table>\n",
       "</div>"
      ],
      "text/plain": [
       "        DATE  Total_rides  Weekday  Weekday_rides  Weekend_rides\n",
       "0 2014-01-01         6559        2         6559.0            NaN\n",
       "1 2014-01-02         9334        3         9334.0            NaN\n",
       "2 2014-01-03         1288        4         1288.0            NaN\n",
       "3 2014-01-04         2494        5            NaN         2494.0\n",
       "4 2014-01-05         2937        6            NaN         2937.0"
      ]
     },
     "execution_count": 75,
     "metadata": {},
     "output_type": "execute_result"
    }
   ],
   "source": [
    "weather_bikes=weather_bikes[['DATE','Total_rides','Weekday','Weekday_rides','Weekend_rides']]\n",
    "weather_bikes.head(5)"
   ]
  },
  {
   "cell_type": "code",
   "execution_count": 79,
   "metadata": {
    "collapsed": false
   },
   "outputs": [],
   "source": [
    "def per_riders(input):\n",
    "    if input is None:\n",
    "        return None\n",
    "    else:\n",
    "        max_r=weather_bikes['Total_rides'].max()\n",
    "        return (100*input/max_r)"
   ]
  },
  {
   "cell_type": "code",
   "execution_count": 80,
   "metadata": {
    "collapsed": false
   },
   "outputs": [
    {
     "name": "stdout",
     "output_type": "stream",
     "text": [
      "5.93866082484\n"
     ]
    }
   ],
   "source": [
    "print(per_riders(2494))"
   ]
  },
  {
   "cell_type": "code",
   "execution_count": 82,
   "metadata": {
    "collapsed": false
   },
   "outputs": [
    {
     "name": "stdout",
     "output_type": "stream",
     "text": [
      "0    15.618154\n",
      "1    22.225926\n",
      "2     3.066959\n",
      "3          NaN\n",
      "4          NaN\n",
      "5    24.957139\n",
      "6    17.011144\n",
      "7    24.197543\n",
      "8    34.696162\n",
      "9    25.442899\n",
      "Name: Weekday_rides, dtype: float64\n"
     ]
    },
    {
     "data": {
      "text/html": [
       "<div>\n",
       "<table border=\"1\" class=\"dataframe\">\n",
       "  <thead>\n",
       "    <tr style=\"text-align: right;\">\n",
       "      <th></th>\n",
       "      <th>DATE</th>\n",
       "      <th>Total_rides</th>\n",
       "      <th>Weekday</th>\n",
       "      <th>Weekday_rides</th>\n",
       "      <th>Weekend_rides</th>\n",
       "      <th>Weekday_per</th>\n",
       "    </tr>\n",
       "  </thead>\n",
       "  <tbody>\n",
       "    <tr>\n",
       "      <th>0</th>\n",
       "      <td>2014-01-01</td>\n",
       "      <td>6559</td>\n",
       "      <td>2</td>\n",
       "      <td>6559.0</td>\n",
       "      <td>NaN</td>\n",
       "      <td>15.618154</td>\n",
       "    </tr>\n",
       "    <tr>\n",
       "      <th>1</th>\n",
       "      <td>2014-01-02</td>\n",
       "      <td>9334</td>\n",
       "      <td>3</td>\n",
       "      <td>9334.0</td>\n",
       "      <td>NaN</td>\n",
       "      <td>22.225926</td>\n",
       "    </tr>\n",
       "    <tr>\n",
       "      <th>2</th>\n",
       "      <td>2014-01-03</td>\n",
       "      <td>1288</td>\n",
       "      <td>4</td>\n",
       "      <td>1288.0</td>\n",
       "      <td>NaN</td>\n",
       "      <td>3.066959</td>\n",
       "    </tr>\n",
       "    <tr>\n",
       "      <th>3</th>\n",
       "      <td>2014-01-04</td>\n",
       "      <td>2494</td>\n",
       "      <td>5</td>\n",
       "      <td>NaN</td>\n",
       "      <td>2494.0</td>\n",
       "      <td>NaN</td>\n",
       "    </tr>\n",
       "    <tr>\n",
       "      <th>4</th>\n",
       "      <td>2014-01-05</td>\n",
       "      <td>2937</td>\n",
       "      <td>6</td>\n",
       "      <td>NaN</td>\n",
       "      <td>2937.0</td>\n",
       "      <td>NaN</td>\n",
       "    </tr>\n",
       "  </tbody>\n",
       "</table>\n",
       "</div>"
      ],
      "text/plain": [
       "        DATE  Total_rides  Weekday  Weekday_rides  Weekend_rides  Weekday_per\n",
       "0 2014-01-01         6559        2         6559.0            NaN    15.618154\n",
       "1 2014-01-02         9334        3         9334.0            NaN    22.225926\n",
       "2 2014-01-03         1288        4         1288.0            NaN     3.066959\n",
       "3 2014-01-04         2494        5            NaN         2494.0          NaN\n",
       "4 2014-01-05         2937        6            NaN         2937.0          NaN"
      ]
     },
     "execution_count": 82,
     "metadata": {},
     "output_type": "execute_result"
    }
   ],
   "source": [
    "weekday_per=weather_bikes['Weekday_rides'].map(per_riders)\n",
    "print(weekday_per[0:10])\n",
    "weather_bikes['Weekday_per']=weekday_per\n",
    "weather_bikes.head(5)"
   ]
  },
  {
   "cell_type": "code",
   "execution_count": 83,
   "metadata": {
    "collapsed": false
   },
   "outputs": [
    {
     "data": {
      "text/html": [
       "<div>\n",
       "<table border=\"1\" class=\"dataframe\">\n",
       "  <thead>\n",
       "    <tr style=\"text-align: right;\">\n",
       "      <th></th>\n",
       "      <th>DATE</th>\n",
       "      <th>Total_rides</th>\n",
       "      <th>Weekday</th>\n",
       "      <th>Weekday_rides</th>\n",
       "      <th>Weekend_rides</th>\n",
       "      <th>Weekday_per</th>\n",
       "      <th>Weekend_per</th>\n",
       "    </tr>\n",
       "  </thead>\n",
       "  <tbody>\n",
       "    <tr>\n",
       "      <th>0</th>\n",
       "      <td>2014-01-01</td>\n",
       "      <td>6559</td>\n",
       "      <td>2</td>\n",
       "      <td>6559.0</td>\n",
       "      <td>NaN</td>\n",
       "      <td>15.618154</td>\n",
       "      <td>NaN</td>\n",
       "    </tr>\n",
       "    <tr>\n",
       "      <th>1</th>\n",
       "      <td>2014-01-02</td>\n",
       "      <td>9334</td>\n",
       "      <td>3</td>\n",
       "      <td>9334.0</td>\n",
       "      <td>NaN</td>\n",
       "      <td>22.225926</td>\n",
       "      <td>NaN</td>\n",
       "    </tr>\n",
       "    <tr>\n",
       "      <th>2</th>\n",
       "      <td>2014-01-03</td>\n",
       "      <td>1288</td>\n",
       "      <td>4</td>\n",
       "      <td>1288.0</td>\n",
       "      <td>NaN</td>\n",
       "      <td>3.066959</td>\n",
       "      <td>NaN</td>\n",
       "    </tr>\n",
       "    <tr>\n",
       "      <th>3</th>\n",
       "      <td>2014-01-04</td>\n",
       "      <td>2494</td>\n",
       "      <td>5</td>\n",
       "      <td>NaN</td>\n",
       "      <td>2494.0</td>\n",
       "      <td>NaN</td>\n",
       "      <td>5.938661</td>\n",
       "    </tr>\n",
       "    <tr>\n",
       "      <th>4</th>\n",
       "      <td>2014-01-05</td>\n",
       "      <td>2937</td>\n",
       "      <td>6</td>\n",
       "      <td>NaN</td>\n",
       "      <td>2937.0</td>\n",
       "      <td>NaN</td>\n",
       "      <td>6.993523</td>\n",
       "    </tr>\n",
       "  </tbody>\n",
       "</table>\n",
       "</div>"
      ],
      "text/plain": [
       "        DATE  Total_rides  Weekday  Weekday_rides  Weekend_rides  Weekday_per  \\\n",
       "0 2014-01-01         6559        2         6559.0            NaN    15.618154   \n",
       "1 2014-01-02         9334        3         9334.0            NaN    22.225926   \n",
       "2 2014-01-03         1288        4         1288.0            NaN     3.066959   \n",
       "3 2014-01-04         2494        5            NaN         2494.0          NaN   \n",
       "4 2014-01-05         2937        6            NaN         2937.0          NaN   \n",
       "\n",
       "   Weekend_per  \n",
       "0          NaN  \n",
       "1          NaN  \n",
       "2          NaN  \n",
       "3     5.938661  \n",
       "4     6.993523  "
      ]
     },
     "execution_count": 83,
     "metadata": {},
     "output_type": "execute_result"
    }
   ],
   "source": [
    "weekend_per=weather_bikes['Weekend_rides'].map(per_riders)\n",
    "weather_bikes['Weekend_per']=weekend_per\n",
    "weather_bikes.head(5)"
   ]
  },
  {
   "cell_type": "code",
   "execution_count": 318,
   "metadata": {
    "collapsed": false
   },
   "outputs": [
    {
     "data": {
      "text/html": [
       "<div>\n",
       "<table border=\"1\" class=\"dataframe\">\n",
       "  <thead>\n",
       "    <tr style=\"text-align: right;\">\n",
       "      <th></th>\n",
       "      <th>DATE</th>\n",
       "      <th>Weekday_rides</th>\n",
       "      <th>Weekend_rides</th>\n",
       "    </tr>\n",
       "  </thead>\n",
       "  <tbody>\n",
       "    <tr>\n",
       "      <th>0</th>\n",
       "      <td>2015-05-14</td>\n",
       "      <td>40826.0</td>\n",
       "      <td>NaN</td>\n",
       "    </tr>\n",
       "    <tr>\n",
       "      <th>1</th>\n",
       "      <td>2015-05-29</td>\n",
       "      <td>37756.0</td>\n",
       "      <td>NaN</td>\n",
       "    </tr>\n",
       "    <tr>\n",
       "      <th>2</th>\n",
       "      <td>2015-05-28</td>\n",
       "      <td>35934.0</td>\n",
       "      <td>NaN</td>\n",
       "    </tr>\n",
       "    <tr>\n",
       "      <th>3</th>\n",
       "      <td>2015-05-26</td>\n",
       "      <td>35786.0</td>\n",
       "      <td>NaN</td>\n",
       "    </tr>\n",
       "    <tr>\n",
       "      <th>4</th>\n",
       "      <td>2015-05-12</td>\n",
       "      <td>35225.0</td>\n",
       "      <td>NaN</td>\n",
       "    </tr>\n",
       "  </tbody>\n",
       "</table>\n",
       "</div>"
      ],
      "text/plain": [
       "        DATE  Weekday_rides  Weekend_rides\n",
       "0 2015-05-14        40826.0            NaN\n",
       "1 2015-05-29        37756.0            NaN\n",
       "2 2015-05-28        35934.0            NaN\n",
       "3 2015-05-26        35786.0            NaN\n",
       "4 2015-05-12        35225.0            NaN"
      ]
     },
     "execution_count": 318,
     "metadata": {},
     "output_type": "execute_result"
    }
   ],
   "source": [
    "weather_bikes.head(5)"
   ]
  },
  {
   "cell_type": "markdown",
   "metadata": {},
   "source": [
    "# Weather data import and manipulation "
   ]
  },
  {
   "cell_type": "code",
   "execution_count": 84,
   "metadata": {
    "collapsed": false
   },
   "outputs": [
    {
     "data": {
      "text/html": [
       "<div>\n",
       "<table border=\"1\" class=\"dataframe\">\n",
       "  <thead>\n",
       "    <tr style=\"text-align: right;\">\n",
       "      <th></th>\n",
       "      <th>STATION_NAME</th>\n",
       "      <th>ELEVATION</th>\n",
       "      <th>LATITUDE</th>\n",
       "      <th>LONGITUDE</th>\n",
       "      <th>DATE</th>\n",
       "      <th>PRCP</th>\n",
       "      <th>SNWD</th>\n",
       "      <th>SNOW</th>\n",
       "      <th>TAVG</th>\n",
       "      <th>TMAX</th>\n",
       "      <th>...</th>\n",
       "      <th>WDF2</th>\n",
       "      <th>WDF5</th>\n",
       "      <th>WSF2</th>\n",
       "      <th>WSF5</th>\n",
       "      <th>PGTM</th>\n",
       "      <th>WT01</th>\n",
       "      <th>WT06</th>\n",
       "      <th>WT02</th>\n",
       "      <th>WT04</th>\n",
       "      <th>WT08</th>\n",
       "    </tr>\n",
       "  </thead>\n",
       "  <tbody>\n",
       "    <tr>\n",
       "      <th>0</th>\n",
       "      <td>NY CITY CENTRAL PARK NY US</td>\n",
       "      <td>39.6</td>\n",
       "      <td>40.77889</td>\n",
       "      <td>-73.96917</td>\n",
       "      <td>20140101</td>\n",
       "      <td>0.00</td>\n",
       "      <td>0.0</td>\n",
       "      <td>0.0</td>\n",
       "      <td>None</td>\n",
       "      <td>33</td>\n",
       "      <td>...</td>\n",
       "      <td>280</td>\n",
       "      <td>300</td>\n",
       "      <td>14.1</td>\n",
       "      <td>23.0</td>\n",
       "      <td>-9999</td>\n",
       "      <td>-9999</td>\n",
       "      <td>-9999</td>\n",
       "      <td>-9999</td>\n",
       "      <td>-9999</td>\n",
       "      <td>-9999</td>\n",
       "    </tr>\n",
       "    <tr>\n",
       "      <th>1</th>\n",
       "      <td>NY CITY CENTRAL PARK NY US</td>\n",
       "      <td>39.6</td>\n",
       "      <td>40.77889</td>\n",
       "      <td>-73.96917</td>\n",
       "      <td>20140102</td>\n",
       "      <td>0.33</td>\n",
       "      <td>0.0</td>\n",
       "      <td>3.1</td>\n",
       "      <td>None</td>\n",
       "      <td>33</td>\n",
       "      <td>...</td>\n",
       "      <td>50</td>\n",
       "      <td>50</td>\n",
       "      <td>21.0</td>\n",
       "      <td>28.0</td>\n",
       "      <td>-9999</td>\n",
       "      <td>-9999</td>\n",
       "      <td>-9999</td>\n",
       "      <td>-9999</td>\n",
       "      <td>-9999</td>\n",
       "      <td>-9999</td>\n",
       "    </tr>\n",
       "  </tbody>\n",
       "</table>\n",
       "<p>2 rows × 22 columns</p>\n",
       "</div>"
      ],
      "text/plain": [
       "                 STATION_NAME  ELEVATION  LATITUDE  LONGITUDE      DATE  PRCP  \\\n",
       "0  NY CITY CENTRAL PARK NY US       39.6  40.77889  -73.96917  20140101  0.00   \n",
       "1  NY CITY CENTRAL PARK NY US       39.6  40.77889  -73.96917  20140102  0.33   \n",
       "\n",
       "   SNWD  SNOW  TAVG  TMAX  ...   WDF2  WDF5  WSF2  WSF5  PGTM  WT01  WT06  \\\n",
       "0   0.0   0.0  None    33  ...    280   300  14.1  23.0 -9999 -9999 -9999   \n",
       "1   0.0   3.1  None    33  ...     50    50  21.0  28.0 -9999 -9999 -9999   \n",
       "\n",
       "   WT02  WT04  WT08  \n",
       "0 -9999 -9999 -9999  \n",
       "1 -9999 -9999 -9999  \n",
       "\n",
       "[2 rows x 22 columns]"
      ]
     },
     "execution_count": 84,
     "metadata": {},
     "output_type": "execute_result"
    }
   ],
   "source": [
    "os.chdir(dir_str)\n",
    "weatherData2014 = pd.read_csv('2014WeatherData.csv')\n",
    "#Only looking at central park data\n",
    "weatherData2014 = weatherData2014[(weatherData2014['STATION_NAME'] == 'NY CITY CENTRAL PARK NY US')]\n",
    "\n",
    "weatherData2014['TAVG'] = weatherData2014['TAVG'].map(lambda x: x if x > -100 else None)\n",
    "del weatherData2014['STATION']\n",
    "\n",
    "weatherData2014.head(2)"
   ]
  },
  {
   "cell_type": "code",
   "execution_count": 86,
   "metadata": {
    "collapsed": false
   },
   "outputs": [],
   "source": [
    "#clean up the Date column\n",
    "weatherData2014['DATE'] = pd.to_datetime(weatherData2014['DATE'],format='%Y%m%d')\n",
    "weatherData2014['DATE'] = pd.to_datetime(weatherData2014['DATE'], format='%m-%d-%Y')\n",
    "weatherData2014['DATE'] = weatherData2014['DATE'].map(lambda t: t.strftime('%m-%d-%Y'))\n"
   ]
  },
  {
   "cell_type": "code",
   "execution_count": 263,
   "metadata": {
    "collapsed": false
   },
   "outputs": [
    {
     "data": {
      "text/html": [
       "<div>\n",
       "<table border=\"1\" class=\"dataframe\">\n",
       "  <thead>\n",
       "    <tr style=\"text-align: right;\">\n",
       "      <th></th>\n",
       "      <th>DATE</th>\n",
       "      <th>PRCP</th>\n",
       "      <th>SNWD</th>\n",
       "      <th>SNOW</th>\n",
       "      <th>TMAX</th>\n",
       "    </tr>\n",
       "  </thead>\n",
       "  <tbody>\n",
       "    <tr>\n",
       "      <th>18703</th>\n",
       "      <td>01-01-2015</td>\n",
       "      <td>0.00</td>\n",
       "      <td>0.0</td>\n",
       "      <td>0.0</td>\n",
       "      <td>39</td>\n",
       "    </tr>\n",
       "    <tr>\n",
       "      <th>18704</th>\n",
       "      <td>01-02-2015</td>\n",
       "      <td>0.00</td>\n",
       "      <td>0.0</td>\n",
       "      <td>0.0</td>\n",
       "      <td>42</td>\n",
       "    </tr>\n",
       "    <tr>\n",
       "      <th>18705</th>\n",
       "      <td>01-03-2015</td>\n",
       "      <td>0.71</td>\n",
       "      <td>0.0</td>\n",
       "      <td>0.0</td>\n",
       "      <td>42</td>\n",
       "    </tr>\n",
       "    <tr>\n",
       "      <th>18706</th>\n",
       "      <td>01-04-2015</td>\n",
       "      <td>0.30</td>\n",
       "      <td>0.0</td>\n",
       "      <td>0.0</td>\n",
       "      <td>56</td>\n",
       "    </tr>\n",
       "    <tr>\n",
       "      <th>18707</th>\n",
       "      <td>01-05-2015</td>\n",
       "      <td>0.00</td>\n",
       "      <td>0.0</td>\n",
       "      <td>0.0</td>\n",
       "      <td>49</td>\n",
       "    </tr>\n",
       "  </tbody>\n",
       "</table>\n",
       "</div>"
      ],
      "text/plain": [
       "             DATE  PRCP  SNWD  SNOW  TMAX\n",
       "18703  01-01-2015  0.00   0.0   0.0    39\n",
       "18704  01-02-2015  0.00   0.0   0.0    42\n",
       "18705  01-03-2015  0.71   0.0   0.0    42\n",
       "18706  01-04-2015  0.30   0.0   0.0    56\n",
       "18707  01-05-2015  0.00   0.0   0.0    49"
      ]
     },
     "execution_count": 263,
     "metadata": {},
     "output_type": "execute_result"
    }
   ],
   "source": [
    "weatherData2015=pd.DataFrame(weatherData2015[['DATE','PRCP','SNWD','SNOW','TMAX']])\n",
    "weatherData2015.head(5)"
   ]
  },
  {
   "cell_type": "code",
   "execution_count": 87,
   "metadata": {
    "collapsed": false
   },
   "outputs": [
    {
     "name": "stdout",
     "output_type": "stream",
     "text": [
      "[0, 1, 2, 3, 4]\n"
     ]
    }
   ],
   "source": [
    "import math \n",
    "import numpy as np\n",
    "T_sample=list(range(0,110))\n",
    "print(T_sample[0:5])\n",
    "T_factor=pd.DataFrame(T_sample)\n",
    "T_factor['T_Factor']=T_factor[0].map(lambda x: -100*np.exp(-(.002*((x-65)**2))))"
   ]
  },
  {
   "cell_type": "code",
   "execution_count": 90,
   "metadata": {
    "collapsed": false
   },
   "outputs": [
    {
     "data": {
      "text/html": [
       "<div>\n",
       "<table border=\"1\" class=\"dataframe\">\n",
       "  <thead>\n",
       "    <tr style=\"text-align: right;\">\n",
       "      <th></th>\n",
       "      <th>Temp</th>\n",
       "      <th>T_Factor</th>\n",
       "    </tr>\n",
       "  </thead>\n",
       "  <tbody>\n",
       "    <tr>\n",
       "      <th>0</th>\n",
       "      <td>33</td>\n",
       "      <td>87.100737</td>\n",
       "    </tr>\n",
       "    <tr>\n",
       "      <th>1</th>\n",
       "      <td>33</td>\n",
       "      <td>87.100737</td>\n",
       "    </tr>\n",
       "    <tr>\n",
       "      <th>2</th>\n",
       "      <td>18</td>\n",
       "      <td>98.794168</td>\n",
       "    </tr>\n",
       "    <tr>\n",
       "      <th>3</th>\n",
       "      <td>29</td>\n",
       "      <td>92.512985</td>\n",
       "    </tr>\n",
       "    <tr>\n",
       "      <th>4</th>\n",
       "      <td>40</td>\n",
       "      <td>71.349520</td>\n",
       "    </tr>\n",
       "  </tbody>\n",
       "</table>\n",
       "</div>"
      ],
      "text/plain": [
       "   Temp   T_Factor\n",
       "0    33  87.100737\n",
       "1    33  87.100737\n",
       "2    18  98.794168\n",
       "3    29  92.512985\n",
       "4    40  71.349520"
      ]
     },
     "execution_count": 90,
     "metadata": {},
     "output_type": "execute_result"
    }
   ],
   "source": [
    "Temp_2014=weatherData2014['TMAX']\n",
    "T_factor=pd.DataFrame(Temp_2014)\n",
    "T_factor.columns=['Temp']\n",
    "T_factor['T_Factor']=T_factor['Temp'].map(lambda x: 100-100*np.exp(-(.002*((x-65)**2))))\n",
    "T_factor.head(5)"
   ]
  },
  {
   "cell_type": "code",
   "execution_count": 91,
   "metadata": {
    "collapsed": true
   },
   "outputs": [],
   "source": [
    "T_factor['Date']=weatherData2014['DATE']"
   ]
  },
  {
   "cell_type": "code",
   "execution_count": 92,
   "metadata": {
    "collapsed": false
   },
   "outputs": [
    {
     "data": {
      "text/html": [
       "<div>\n",
       "<table border=\"1\" class=\"dataframe\">\n",
       "  <thead>\n",
       "    <tr style=\"text-align: right;\">\n",
       "      <th></th>\n",
       "      <th>Temp</th>\n",
       "      <th>T_Factor</th>\n",
       "      <th>Date</th>\n",
       "    </tr>\n",
       "  </thead>\n",
       "  <tbody>\n",
       "    <tr>\n",
       "      <th>0</th>\n",
       "      <td>33</td>\n",
       "      <td>87.100737</td>\n",
       "      <td>01-01-2014</td>\n",
       "    </tr>\n",
       "    <tr>\n",
       "      <th>1</th>\n",
       "      <td>33</td>\n",
       "      <td>87.100737</td>\n",
       "      <td>01-02-2014</td>\n",
       "    </tr>\n",
       "    <tr>\n",
       "      <th>2</th>\n",
       "      <td>18</td>\n",
       "      <td>98.794168</td>\n",
       "      <td>01-03-2014</td>\n",
       "    </tr>\n",
       "    <tr>\n",
       "      <th>3</th>\n",
       "      <td>29</td>\n",
       "      <td>92.512985</td>\n",
       "      <td>01-04-2014</td>\n",
       "    </tr>\n",
       "    <tr>\n",
       "      <th>4</th>\n",
       "      <td>40</td>\n",
       "      <td>71.349520</td>\n",
       "      <td>01-05-2014</td>\n",
       "    </tr>\n",
       "  </tbody>\n",
       "</table>\n",
       "</div>"
      ],
      "text/plain": [
       "   Temp   T_Factor        Date\n",
       "0    33  87.100737  01-01-2014\n",
       "1    33  87.100737  01-02-2014\n",
       "2    18  98.794168  01-03-2014\n",
       "3    29  92.512985  01-04-2014\n",
       "4    40  71.349520  01-05-2014"
      ]
     },
     "execution_count": 92,
     "metadata": {},
     "output_type": "execute_result"
    }
   ],
   "source": [
    "T_factor.head(5)"
   ]
  },
  {
   "cell_type": "code",
   "execution_count": 93,
   "metadata": {
    "collapsed": false
   },
   "outputs": [
    {
     "data": {
      "text/html": [
       "<div>\n",
       "<table border=\"1\" class=\"dataframe\">\n",
       "  <thead>\n",
       "    <tr style=\"text-align: right;\">\n",
       "      <th></th>\n",
       "      <th>Temp</th>\n",
       "      <th>T_Factor</th>\n",
       "      <th>Date</th>\n",
       "    </tr>\n",
       "  </thead>\n",
       "  <tbody>\n",
       "    <tr>\n",
       "      <th>0</th>\n",
       "      <td>33</td>\n",
       "      <td>87.100737</td>\n",
       "      <td>01-01-2014</td>\n",
       "    </tr>\n",
       "    <tr>\n",
       "      <th>1</th>\n",
       "      <td>33</td>\n",
       "      <td>87.100737</td>\n",
       "      <td>01-02-2014</td>\n",
       "    </tr>\n",
       "    <tr>\n",
       "      <th>2</th>\n",
       "      <td>18</td>\n",
       "      <td>98.794168</td>\n",
       "      <td>01-03-2014</td>\n",
       "    </tr>\n",
       "    <tr>\n",
       "      <th>3</th>\n",
       "      <td>29</td>\n",
       "      <td>92.512985</td>\n",
       "      <td>01-04-2014</td>\n",
       "    </tr>\n",
       "    <tr>\n",
       "      <th>4</th>\n",
       "      <td>40</td>\n",
       "      <td>71.349520</td>\n",
       "      <td>01-05-2014</td>\n",
       "    </tr>\n",
       "  </tbody>\n",
       "</table>\n",
       "</div>"
      ],
      "text/plain": [
       "   Temp   T_Factor        Date\n",
       "0    33  87.100737  01-01-2014\n",
       "1    33  87.100737  01-02-2014\n",
       "2    18  98.794168  01-03-2014\n",
       "3    29  92.512985  01-04-2014\n",
       "4    40  71.349520  01-05-2014"
      ]
     },
     "execution_count": 93,
     "metadata": {},
     "output_type": "execute_result"
    }
   ],
   "source": [
    "T_factor.set_index('Date')\n",
    "T_factor.head(5)"
   ]
  },
  {
   "cell_type": "code",
   "execution_count": 94,
   "metadata": {
    "collapsed": false
   },
   "outputs": [
    {
     "data": {
      "text/plain": [
       "(array([   0.,   50.,  100.,  150.,  200.,  250.,  300.,  350.,  400.]),\n",
       " <a list of 9 Text xticklabel objects>)"
      ]
     },
     "execution_count": 94,
     "metadata": {},
     "output_type": "execute_result"
    },
    {
     "data": {
      "image/png": "[encoded data removed]",
      "text/plain": [
       "<matplotlib.figure.Figure at 0x2609ca34e80>"
      ]
     },
     "metadata": {},
     "output_type": "display_data"
    }
   ],
   "source": [
    "Wplt=T_factor.plot(kind='line',x='Date')\n",
    "plt.xticks(rotation=90)"
   ]
  },
  {
   "cell_type": "code",
   "execution_count": 95,
   "metadata": {
    "collapsed": false
   },
   "outputs": [],
   "source": [
    "T_temp=list(range(0,100))\n",
    "T_Temp=pd.DataFrame(T_temp)\n",
    "T_Temp.columns=['Temp']\n",
    "T_Temp.set_index('Temp')\n",
    "T_Temp['T_factor']=T_Temp['Temp'].map(lambda x: 100-100*np.exp(-(.002*((x-65)**2))))"
   ]
  },
  {
   "cell_type": "code",
   "execution_count": 96,
   "metadata": {
    "collapsed": false
   },
   "outputs": [
    {
     "data": {
      "text/html": [
       "<div>\n",
       "<table border=\"1\" class=\"dataframe\">\n",
       "  <thead>\n",
       "    <tr style=\"text-align: right;\">\n",
       "      <th></th>\n",
       "      <th>Temp</th>\n",
       "      <th>T_factor</th>\n",
       "    </tr>\n",
       "  </thead>\n",
       "  <tbody>\n",
       "    <tr>\n",
       "      <th>0</th>\n",
       "      <td>0</td>\n",
       "      <td>99.978610</td>\n",
       "    </tr>\n",
       "    <tr>\n",
       "      <th>1</th>\n",
       "      <td>1</td>\n",
       "      <td>99.972314</td>\n",
       "    </tr>\n",
       "    <tr>\n",
       "      <th>2</th>\n",
       "      <td>2</td>\n",
       "      <td>99.964308</td>\n",
       "    </tr>\n",
       "    <tr>\n",
       "      <th>3</th>\n",
       "      <td>3</td>\n",
       "      <td>99.954171</td>\n",
       "    </tr>\n",
       "    <tr>\n",
       "      <th>4</th>\n",
       "      <td>4</td>\n",
       "      <td>99.941389</td>\n",
       "    </tr>\n",
       "  </tbody>\n",
       "</table>\n",
       "</div>"
      ],
      "text/plain": [
       "   Temp   T_factor\n",
       "0     0  99.978610\n",
       "1     1  99.972314\n",
       "2     2  99.964308\n",
       "3     3  99.954171\n",
       "4     4  99.941389"
      ]
     },
     "execution_count": 96,
     "metadata": {},
     "output_type": "execute_result"
    }
   ],
   "source": [
    "T_Temp.head(5)"
   ]
  },
  {
   "cell_type": "code",
   "execution_count": null,
   "metadata": {
    "collapsed": true
   },
   "outputs": [],
   "source": []
  },
  {
   "cell_type": "code",
   "execution_count": 97,
   "metadata": {
    "collapsed": false
   },
   "outputs": [
    {
     "data": {
      "text/plain": [
       "<matplotlib.axes._subplots.AxesSubplot at 0x2608af52e80>"
      ]
     },
     "execution_count": 97,
     "metadata": {},
     "output_type": "execute_result"
    },
    {
     "data": {
      "image/png": "[encoded data removed]",
      "text/plain": [
       "<matplotlib.figure.Figure at 0x2609cc15208>"
      ]
     },
     "metadata": {},
     "output_type": "display_data"
    }
   ],
   "source": [
    "T_Temp.plot(kind='line')"
   ]
  },
  {
   "cell_type": "markdown",
   "metadata": {},
   "source": [
    "## weather eqns"
   ]
  },
  {
   "cell_type": "code",
   "execution_count": 98,
   "metadata": {
    "collapsed": false
   },
   "outputs": [],
   "source": [
    "def precip_factor(prcp_var):\n",
    "    if prcp_var==0:\n",
    "        return 0\n",
    "    factor= ((100/np.e)*np.log(7.5*prcp_var))\n",
    "    if factor>100:\n",
    "        return 100\n",
    "    elif factor<0:\n",
    "        return 0\n",
    "    else:\n",
    "        return ((100/np.e)*np.log(7.5*prcp_var))"
   ]
  },
  {
   "cell_type": "code",
   "execution_count": 99,
   "metadata": {
    "collapsed": true
   },
   "outputs": [],
   "source": [
    "def snowfall_factor(prcp_var):\n",
    "    if prcp_var==0:\n",
    "        return 0\n",
    "    if ((100/np.e)*np.log(15*prcp_var))>100:\n",
    "        return 100\n",
    "    else:\n",
    "        return ((100/np.e)*np.log(13.5*prcp_var))"
   ]
  },
  {
   "cell_type": "code",
   "execution_count": 100,
   "metadata": {
    "collapsed": true
   },
   "outputs": [],
   "source": [
    "def temp_factor(temp):\n",
    "    factor= 100-100*np.exp(-(.002*((temp-65)**2)))\n",
    "    return factor"
   ]
  },
  {
   "cell_type": "code",
   "execution_count": 101,
   "metadata": {
    "collapsed": false
   },
   "outputs": [
    {
     "name": "stdout",
     "output_type": "stream",
     "text": [
      "0\n"
     ]
    }
   ],
   "source": [
    "print(precip_factor(0))"
   ]
  },
  {
   "cell_type": "code",
   "execution_count": 102,
   "metadata": {
    "collapsed": false
   },
   "outputs": [],
   "source": [
    "rain_temp=list(range(0,7))\n",
    "rain_test=pd.DataFrame(rain_temp)\n",
    "rain_test.columns=['In_Prcp']"
   ]
  },
  {
   "cell_type": "code",
   "execution_count": 103,
   "metadata": {
    "collapsed": false
   },
   "outputs": [],
   "source": [
    "rain_test['P_factor']=rain_test['In_Prcp'].map(snowfall_factor)"
   ]
  },
  {
   "cell_type": "code",
   "execution_count": 104,
   "metadata": {
    "collapsed": false
   },
   "outputs": [
    {
     "data": {
      "text/html": [
       "<div>\n",
       "<table border=\"1\" class=\"dataframe\">\n",
       "  <thead>\n",
       "    <tr style=\"text-align: right;\">\n",
       "      <th></th>\n",
       "      <th>In_Prcp</th>\n",
       "      <th>P_factor</th>\n",
       "    </tr>\n",
       "  </thead>\n",
       "  <tbody>\n",
       "    <tr>\n",
       "      <th>0</th>\n",
       "      <td>0</td>\n",
       "      <td>0.000000</td>\n",
       "    </tr>\n",
       "    <tr>\n",
       "      <th>1</th>\n",
       "      <td>1</td>\n",
       "      <td>95.747603</td>\n",
       "    </tr>\n",
       "    <tr>\n",
       "      <th>2</th>\n",
       "      <td>2</td>\n",
       "      <td>100.000000</td>\n",
       "    </tr>\n",
       "    <tr>\n",
       "      <th>3</th>\n",
       "      <td>3</td>\n",
       "      <td>100.000000</td>\n",
       "    </tr>\n",
       "    <tr>\n",
       "      <th>4</th>\n",
       "      <td>4</td>\n",
       "      <td>100.000000</td>\n",
       "    </tr>\n",
       "  </tbody>\n",
       "</table>\n",
       "</div>"
      ],
      "text/plain": [
       "   In_Prcp    P_factor\n",
       "0        0    0.000000\n",
       "1        1   95.747603\n",
       "2        2  100.000000\n",
       "3        3  100.000000\n",
       "4        4  100.000000"
      ]
     },
     "execution_count": 104,
     "metadata": {},
     "output_type": "execute_result"
    }
   ],
   "source": [
    "rain_test.head(5)"
   ]
  },
  {
   "cell_type": "code",
   "execution_count": 105,
   "metadata": {
    "collapsed": false
   },
   "outputs": [
    {
     "data": {
      "text/plain": [
       "<matplotlib.axes._subplots.AxesSubplot at 0x2608af63780>"
      ]
     },
     "execution_count": 105,
     "metadata": {},
     "output_type": "execute_result"
    },
    {
     "data": {
      "image/png": "[encoded data removed]",
      "text/plain": [
       "<matplotlib.figure.Figure at 0x2608afc1c88>"
      ]
     },
     "metadata": {},
     "output_type": "display_data"
    }
   ],
   "source": [
    "rain_test.plot(kind='line',x='In_Prcp')"
   ]
  },
  {
   "cell_type": "code",
   "execution_count": 106,
   "metadata": {
    "collapsed": true
   },
   "outputs": [],
   "source": [
    "weather_factors=pd.DataFrame(weatherData2014[['DATE','PRCP','SNWD','SNOW','TMAX']])"
   ]
  },
  {
   "cell_type": "code",
   "execution_count": 107,
   "metadata": {
    "collapsed": false
   },
   "outputs": [],
   "source": [
    "weather_factors['P_factor']=weather_factors['PRCP'].map(precip_factor)"
   ]
  },
  {
   "cell_type": "code",
   "execution_count": 108,
   "metadata": {
    "collapsed": false
   },
   "outputs": [
    {
     "data": {
      "text/html": [
       "<div>\n",
       "<table border=\"1\" class=\"dataframe\">\n",
       "  <thead>\n",
       "    <tr style=\"text-align: right;\">\n",
       "      <th></th>\n",
       "      <th>DATE</th>\n",
       "      <th>PRCP</th>\n",
       "      <th>SNWD</th>\n",
       "      <th>SNOW</th>\n",
       "      <th>TMAX</th>\n",
       "      <th>P_factor</th>\n",
       "      <th>S_factor</th>\n",
       "      <th>T_factor</th>\n",
       "    </tr>\n",
       "  </thead>\n",
       "  <tbody>\n",
       "    <tr>\n",
       "      <th>0</th>\n",
       "      <td>01-01-2014</td>\n",
       "      <td>0.00</td>\n",
       "      <td>0.0</td>\n",
       "      <td>0.0</td>\n",
       "      <td>33</td>\n",
       "      <td>0.000000</td>\n",
       "      <td>0.0</td>\n",
       "      <td>87.100737</td>\n",
       "    </tr>\n",
       "    <tr>\n",
       "      <th>1</th>\n",
       "      <td>01-02-2014</td>\n",
       "      <td>0.33</td>\n",
       "      <td>0.0</td>\n",
       "      <td>3.1</td>\n",
       "      <td>33</td>\n",
       "      <td>33.338721</td>\n",
       "      <td>100.0</td>\n",
       "      <td>87.100737</td>\n",
       "    </tr>\n",
       "    <tr>\n",
       "      <th>2</th>\n",
       "      <td>01-03-2014</td>\n",
       "      <td>0.29</td>\n",
       "      <td>5.9</td>\n",
       "      <td>3.3</td>\n",
       "      <td>18</td>\n",
       "      <td>28.585287</td>\n",
       "      <td>100.0</td>\n",
       "      <td>98.794168</td>\n",
       "    </tr>\n",
       "    <tr>\n",
       "      <th>3</th>\n",
       "      <td>01-04-2014</td>\n",
       "      <td>0.00</td>\n",
       "      <td>5.9</td>\n",
       "      <td>0.0</td>\n",
       "      <td>29</td>\n",
       "      <td>0.000000</td>\n",
       "      <td>0.0</td>\n",
       "      <td>92.512985</td>\n",
       "    </tr>\n",
       "    <tr>\n",
       "      <th>4</th>\n",
       "      <td>01-05-2014</td>\n",
       "      <td>0.14</td>\n",
       "      <td>3.9</td>\n",
       "      <td>0.0</td>\n",
       "      <td>40</td>\n",
       "      <td>1.794890</td>\n",
       "      <td>0.0</td>\n",
       "      <td>71.349520</td>\n",
       "    </tr>\n",
       "  </tbody>\n",
       "</table>\n",
       "</div>"
      ],
      "text/plain": [
       "         DATE  PRCP  SNWD  SNOW  TMAX   P_factor  S_factor   T_factor\n",
       "0  01-01-2014  0.00   0.0   0.0    33   0.000000       0.0  87.100737\n",
       "1  01-02-2014  0.33   0.0   3.1    33  33.338721     100.0  87.100737\n",
       "2  01-03-2014  0.29   5.9   3.3    18  28.585287     100.0  98.794168\n",
       "3  01-04-2014  0.00   5.9   0.0    29   0.000000       0.0  92.512985\n",
       "4  01-05-2014  0.14   3.9   0.0    40   1.794890       0.0  71.349520"
      ]
     },
     "execution_count": 108,
     "metadata": {},
     "output_type": "execute_result"
    }
   ],
   "source": [
    "weather_factors['S_factor']=weather_factors['SNOW'].map(snowfall_factor)\n",
    "weather_factors['T_factor']=weather_factors['TMAX'].map(temp_factor)\n",
    "weather_factors.head(5)"
   ]
  },
  {
   "cell_type": "code",
   "execution_count": 109,
   "metadata": {
    "collapsed": false
   },
   "outputs": [
    {
     "data": {
      "image/png": "[encoded data removed]",
      "text/plain": [
       "<matplotlib.figure.Figure at 0x2608afe80b8>"
      ]
     },
     "metadata": {},
     "output_type": "display_data"
    }
   ],
   "source": [
    "Pplt=weather_factors.plot(kind='line',x='DATE',y=['P_factor'])"
   ]
  },
  {
   "cell_type": "code",
   "execution_count": 110,
   "metadata": {
    "collapsed": false
   },
   "outputs": [
    {
     "data": {
      "text/plain": [
       "(array([   0.,   50.,  100.,  150.,  200.,  250.,  300.,  350.,  400.]),\n",
       " <a list of 9 Text xticklabel objects>)"
      ]
     },
     "execution_count": 110,
     "metadata": {},
     "output_type": "execute_result"
    },
    {
     "data": {
      "image/png": "[encoded data removed]",
      "text/plain": [
       "<matplotlib.figure.Figure at 0x2608b092d30>"
      ]
     },
     "metadata": {},
     "output_type": "display_data"
    }
   ],
   "source": [
    "Wplt=weather_factors.plot(kind='line',x='DATE',y=['P_factor','S_factor','T_factor'])\n",
    "plt.xticks(rotation=90)"
   ]
  },
  {
   "cell_type": "code",
   "execution_count": 111,
   "metadata": {
    "collapsed": true
   },
   "outputs": [],
   "source": [
    "def weather_scale(prcp,snow,temp):\n",
    "    return ((.33*prcp)+(.33*snow)+(.33*temp))"
   ]
  },
  {
   "cell_type": "code",
   "execution_count": 112,
   "metadata": {
    "collapsed": false
   },
   "outputs": [
    {
     "name": "stdout",
     "output_type": "stream",
     "text": [
      "0    28.743243\n",
      "1    72.745021\n",
      "2    75.035220\n",
      "3    30.529285\n",
      "4    24.137655\n",
      "5    18.039983\n",
      "6    32.520731\n",
      "7    32.182490\n",
      "8    29.262161\n",
      "9    26.120764\n",
      "dtype: float64\n"
     ]
    }
   ],
   "source": [
    "weather_rating=weather_scale(weather_factors['P_factor'],weather_factors['S_factor'],weather_factors['T_factor'])\n",
    "print(weather_rating[0:10])"
   ]
  },
  {
   "cell_type": "code",
   "execution_count": 113,
   "metadata": {
    "collapsed": true
   },
   "outputs": [],
   "source": [
    "weather_factors['Rating']=weather_rating"
   ]
  },
  {
   "cell_type": "code",
   "execution_count": 114,
   "metadata": {
    "collapsed": false
   },
   "outputs": [
    {
     "data": {
      "text/html": [
       "<div>\n",
       "<table border=\"1\" class=\"dataframe\">\n",
       "  <thead>\n",
       "    <tr style=\"text-align: right;\">\n",
       "      <th></th>\n",
       "      <th>DATE</th>\n",
       "      <th>PRCP</th>\n",
       "      <th>SNWD</th>\n",
       "      <th>SNOW</th>\n",
       "      <th>TMAX</th>\n",
       "      <th>P_factor</th>\n",
       "      <th>S_factor</th>\n",
       "      <th>T_factor</th>\n",
       "      <th>Rating</th>\n",
       "    </tr>\n",
       "  </thead>\n",
       "  <tbody>\n",
       "    <tr>\n",
       "      <th>0</th>\n",
       "      <td>01-01-2014</td>\n",
       "      <td>0.00</td>\n",
       "      <td>0.0</td>\n",
       "      <td>0.0</td>\n",
       "      <td>33</td>\n",
       "      <td>0.000000</td>\n",
       "      <td>0.0</td>\n",
       "      <td>87.100737</td>\n",
       "      <td>28.743243</td>\n",
       "    </tr>\n",
       "    <tr>\n",
       "      <th>1</th>\n",
       "      <td>01-02-2014</td>\n",
       "      <td>0.33</td>\n",
       "      <td>0.0</td>\n",
       "      <td>3.1</td>\n",
       "      <td>33</td>\n",
       "      <td>33.338721</td>\n",
       "      <td>100.0</td>\n",
       "      <td>87.100737</td>\n",
       "      <td>72.745021</td>\n",
       "    </tr>\n",
       "    <tr>\n",
       "      <th>2</th>\n",
       "      <td>01-03-2014</td>\n",
       "      <td>0.29</td>\n",
       "      <td>5.9</td>\n",
       "      <td>3.3</td>\n",
       "      <td>18</td>\n",
       "      <td>28.585287</td>\n",
       "      <td>100.0</td>\n",
       "      <td>98.794168</td>\n",
       "      <td>75.035220</td>\n",
       "    </tr>\n",
       "    <tr>\n",
       "      <th>3</th>\n",
       "      <td>01-04-2014</td>\n",
       "      <td>0.00</td>\n",
       "      <td>5.9</td>\n",
       "      <td>0.0</td>\n",
       "      <td>29</td>\n",
       "      <td>0.000000</td>\n",
       "      <td>0.0</td>\n",
       "      <td>92.512985</td>\n",
       "      <td>30.529285</td>\n",
       "    </tr>\n",
       "    <tr>\n",
       "      <th>4</th>\n",
       "      <td>01-05-2014</td>\n",
       "      <td>0.14</td>\n",
       "      <td>3.9</td>\n",
       "      <td>0.0</td>\n",
       "      <td>40</td>\n",
       "      <td>1.794890</td>\n",
       "      <td>0.0</td>\n",
       "      <td>71.349520</td>\n",
       "      <td>24.137655</td>\n",
       "    </tr>\n",
       "  </tbody>\n",
       "</table>\n",
       "</div>"
      ],
      "text/plain": [
       "         DATE  PRCP  SNWD  SNOW  TMAX   P_factor  S_factor   T_factor  \\\n",
       "0  01-01-2014  0.00   0.0   0.0    33   0.000000       0.0  87.100737   \n",
       "1  01-02-2014  0.33   0.0   3.1    33  33.338721     100.0  87.100737   \n",
       "2  01-03-2014  0.29   5.9   3.3    18  28.585287     100.0  98.794168   \n",
       "3  01-04-2014  0.00   5.9   0.0    29   0.000000       0.0  92.512985   \n",
       "4  01-05-2014  0.14   3.9   0.0    40   1.794890       0.0  71.349520   \n",
       "\n",
       "      Rating  \n",
       "0  28.743243  \n",
       "1  72.745021  \n",
       "2  75.035220  \n",
       "3  30.529285  \n",
       "4  24.137655  "
      ]
     },
     "execution_count": 114,
     "metadata": {},
     "output_type": "execute_result"
    }
   ],
   "source": [
    "weather_factors.head(5)"
   ]
  },
  {
   "cell_type": "code",
   "execution_count": 115,
   "metadata": {
    "collapsed": false
   },
   "outputs": [],
   "source": [
    "weather_factors.sort_values('Rating',inplace=True)"
   ]
  },
  {
   "cell_type": "code",
   "execution_count": 120,
   "metadata": {
    "collapsed": false
   },
   "outputs": [
    {
     "data": {
      "text/html": [
       "<div>\n",
       "<table border=\"1\" class=\"dataframe\">\n",
       "  <thead>\n",
       "    <tr style=\"text-align: right;\">\n",
       "      <th></th>\n",
       "      <th>DATE</th>\n",
       "      <th>PRCP</th>\n",
       "      <th>SNWD</th>\n",
       "      <th>SNOW</th>\n",
       "      <th>TMAX</th>\n",
       "      <th>P_factor</th>\n",
       "      <th>S_factor</th>\n",
       "      <th>T_factor</th>\n",
       "      <th>Rating</th>\n",
       "      <th>Rating_Class</th>\n",
       "    </tr>\n",
       "  </thead>\n",
       "  <tbody>\n",
       "    <tr>\n",
       "      <th>285</th>\n",
       "      <td>2014-10-13</td>\n",
       "      <td>0.05</td>\n",
       "      <td>0.0</td>\n",
       "      <td>0.0</td>\n",
       "      <td>65</td>\n",
       "      <td>0.0</td>\n",
       "      <td>0.0</td>\n",
       "      <td>0.0000</td>\n",
       "      <td>0.000000</td>\n",
       "      <td>Excellent</td>\n",
       "    </tr>\n",
       "    <tr>\n",
       "      <th>273</th>\n",
       "      <td>2014-10-01</td>\n",
       "      <td>0.02</td>\n",
       "      <td>0.0</td>\n",
       "      <td>0.0</td>\n",
       "      <td>65</td>\n",
       "      <td>0.0</td>\n",
       "      <td>0.0</td>\n",
       "      <td>0.0000</td>\n",
       "      <td>0.000000</td>\n",
       "      <td>Excellent</td>\n",
       "    </tr>\n",
       "    <tr>\n",
       "      <th>315</th>\n",
       "      <td>2014-11-12</td>\n",
       "      <td>0.00</td>\n",
       "      <td>0.0</td>\n",
       "      <td>0.0</td>\n",
       "      <td>65</td>\n",
       "      <td>0.0</td>\n",
       "      <td>0.0</td>\n",
       "      <td>0.0000</td>\n",
       "      <td>0.000000</td>\n",
       "      <td>Excellent</td>\n",
       "    </tr>\n",
       "    <tr>\n",
       "      <th>334</th>\n",
       "      <td>2014-12-01</td>\n",
       "      <td>0.09</td>\n",
       "      <td>0.0</td>\n",
       "      <td>0.0</td>\n",
       "      <td>65</td>\n",
       "      <td>0.0</td>\n",
       "      <td>0.0</td>\n",
       "      <td>0.0000</td>\n",
       "      <td>0.000000</td>\n",
       "      <td>Excellent</td>\n",
       "    </tr>\n",
       "    <tr>\n",
       "      <th>123</th>\n",
       "      <td>2014-05-04</td>\n",
       "      <td>0.02</td>\n",
       "      <td>0.0</td>\n",
       "      <td>0.0</td>\n",
       "      <td>65</td>\n",
       "      <td>0.0</td>\n",
       "      <td>0.0</td>\n",
       "      <td>0.0000</td>\n",
       "      <td>0.000000</td>\n",
       "      <td>Excellent</td>\n",
       "    </tr>\n",
       "    <tr>\n",
       "      <th>261</th>\n",
       "      <td>2014-09-19</td>\n",
       "      <td>0.00</td>\n",
       "      <td>0.0</td>\n",
       "      <td>0.0</td>\n",
       "      <td>66</td>\n",
       "      <td>0.0</td>\n",
       "      <td>0.0</td>\n",
       "      <td>0.1998</td>\n",
       "      <td>0.065934</td>\n",
       "      <td>Excellent</td>\n",
       "    </tr>\n",
       "    <tr>\n",
       "      <th>308</th>\n",
       "      <td>2014-11-05</td>\n",
       "      <td>0.00</td>\n",
       "      <td>0.0</td>\n",
       "      <td>0.0</td>\n",
       "      <td>64</td>\n",
       "      <td>0.0</td>\n",
       "      <td>0.0</td>\n",
       "      <td>0.1998</td>\n",
       "      <td>0.065934</td>\n",
       "      <td>Excellent</td>\n",
       "    </tr>\n",
       "  </tbody>\n",
       "</table>\n",
       "</div>"
      ],
      "text/plain": [
       "          DATE  PRCP  SNWD  SNOW  TMAX  P_factor  S_factor  T_factor  \\\n",
       "285 2014-10-13  0.05   0.0   0.0    65       0.0       0.0    0.0000   \n",
       "273 2014-10-01  0.02   0.0   0.0    65       0.0       0.0    0.0000   \n",
       "315 2014-11-12  0.00   0.0   0.0    65       0.0       0.0    0.0000   \n",
       "334 2014-12-01  0.09   0.0   0.0    65       0.0       0.0    0.0000   \n",
       "123 2014-05-04  0.02   0.0   0.0    65       0.0       0.0    0.0000   \n",
       "261 2014-09-19  0.00   0.0   0.0    66       0.0       0.0    0.1998   \n",
       "308 2014-11-05  0.00   0.0   0.0    64       0.0       0.0    0.1998   \n",
       "\n",
       "       Rating Rating_Class  \n",
       "285  0.000000    Excellent  \n",
       "273  0.000000    Excellent  \n",
       "315  0.000000    Excellent  \n",
       "334  0.000000    Excellent  \n",
       "123  0.000000    Excellent  \n",
       "261  0.065934    Excellent  \n",
       "308  0.065934    Excellent  "
      ]
     },
     "execution_count": 120,
     "metadata": {},
     "output_type": "execute_result"
    }
   ],
   "source": [
    "weather_factors['Rating_Class']=weather_factors['Rating_Class'].fillna(value=\"Excellent\")\n",
    "weather_factors.head(7)"
   ]
  },
  {
   "cell_type": "code",
   "execution_count": 121,
   "metadata": {
    "collapsed": false
   },
   "outputs": [
    {
     "data": {
      "text/plain": [
       "(array([   0.,   50.,  100.,  150.,  200.,  250.,  300.,  350.,  400.]),\n",
       " <a list of 9 Text xticklabel objects>)"
      ]
     },
     "execution_count": 121,
     "metadata": {},
     "output_type": "execute_result"
    },
    {
     "data": {
      "image/png": "[encoded data removed]",
      "text/plain": [
       "<matplotlib.figure.Figure at 0x2608b0262b0>"
      ]
     },
     "metadata": {},
     "output_type": "display_data"
    }
   ],
   "source": [
    "Wplt=weather_factors.plot(kind='line',x='Rating_Class',y=['P_factor','S_factor','T_factor'])\n",
    "plt.xticks(rotation=90)"
   ]
  },
  {
   "cell_type": "code",
   "execution_count": 117,
   "metadata": {
    "collapsed": false
   },
   "outputs": [
    {
     "data": {
      "text/plain": [
       "Excellent    228\n",
       "Good         109\n",
       "Fair          13\n",
       "Poor           8\n",
       "Abysmal        2\n",
       "Name: Rating_Class, dtype: int64"
      ]
     },
     "execution_count": 117,
     "metadata": {},
     "output_type": "execute_result"
    }
   ],
   "source": [
    "bins = list(range(0,120,20))\n",
    "binlabels=['Excellent','Good','Fair','Poor','Abysmal']\n",
    "weather_factors['Rating_Class']=pd.cut(weather_factors['Rating'], bins, labels=binlabels)\n",
    "weather_factors['Rating_Class'].value_counts()"
   ]
  },
  {
   "cell_type": "code",
   "execution_count": 118,
   "metadata": {
    "collapsed": false
   },
   "outputs": [
    {
     "data": {
      "text/html": [
       "<div>\n",
       "<table border=\"1\" class=\"dataframe\">\n",
       "  <thead>\n",
       "    <tr style=\"text-align: right;\">\n",
       "      <th></th>\n",
       "      <th>DATE</th>\n",
       "      <th>PRCP</th>\n",
       "      <th>SNWD</th>\n",
       "      <th>SNOW</th>\n",
       "      <th>TMAX</th>\n",
       "      <th>P_factor</th>\n",
       "      <th>S_factor</th>\n",
       "      <th>T_factor</th>\n",
       "      <th>Rating</th>\n",
       "      <th>Rating_Class</th>\n",
       "    </tr>\n",
       "  </thead>\n",
       "  <tbody>\n",
       "    <tr>\n",
       "      <th>35</th>\n",
       "      <td>02-05-2014</td>\n",
       "      <td>1.43</td>\n",
       "      <td>9.1</td>\n",
       "      <td>4.0</td>\n",
       "      <td>34</td>\n",
       "      <td>87.282247</td>\n",
       "      <td>100.0</td>\n",
       "      <td>85.368596</td>\n",
       "      <td>89.974778</td>\n",
       "      <td>Abysmal</td>\n",
       "    </tr>\n",
       "    <tr>\n",
       "      <th>43</th>\n",
       "      <td>02-13-2014</td>\n",
       "      <td>1.78</td>\n",
       "      <td>11.8</td>\n",
       "      <td>9.5</td>\n",
       "      <td>36</td>\n",
       "      <td>95.336560</td>\n",
       "      <td>100.0</td>\n",
       "      <td>81.399840</td>\n",
       "      <td>91.323012</td>\n",
       "      <td>Abysmal</td>\n",
       "    </tr>\n",
       "  </tbody>\n",
       "</table>\n",
       "</div>"
      ],
      "text/plain": [
       "          DATE  PRCP  SNWD  SNOW  TMAX   P_factor  S_factor   T_factor  \\\n",
       "35  02-05-2014  1.43   9.1   4.0    34  87.282247     100.0  85.368596   \n",
       "43  02-13-2014  1.78  11.8   9.5    36  95.336560     100.0  81.399840   \n",
       "\n",
       "       Rating Rating_Class  \n",
       "35  89.974778      Abysmal  \n",
       "43  91.323012      Abysmal  "
      ]
     },
     "execution_count": 118,
     "metadata": {},
     "output_type": "execute_result"
    }
   ],
   "source": [
    "weather_factors[weather_factors['Rating_Class']=='Abysmal']"
   ]
  },
  {
   "cell_type": "code",
   "execution_count": 122,
   "metadata": {
    "collapsed": false
   },
   "outputs": [
    {
     "name": "stdout",
     "output_type": "stream",
     "text": [
      "datetime64[ns]\n",
      "datetime64[ns]\n"
     ]
    }
   ],
   "source": [
    "weather_factors['DATE']=pd.to_datetime(weather_factors['DATE'], infer_datetime_format=True)\n",
    "\n",
    "\n",
    "print(weather_bikes['DATE'].dtype)\n",
    "print(weather_factors['DATE'].dtype)\n"
   ]
  },
  {
   "cell_type": "code",
   "execution_count": 353,
   "metadata": {
    "collapsed": false
   },
   "outputs": [
    {
     "data": {
      "text/html": [
       "<div>\n",
       "<table border=\"1\" class=\"dataframe\">\n",
       "  <thead>\n",
       "    <tr style=\"text-align: right;\">\n",
       "      <th></th>\n",
       "      <th>DATE</th>\n",
       "      <th>PRCP</th>\n",
       "      <th>SNWD</th>\n",
       "      <th>SNOW</th>\n",
       "      <th>TMAX</th>\n",
       "      <th>P_factor</th>\n",
       "      <th>S_factor</th>\n",
       "      <th>T_factor</th>\n",
       "      <th>Rating</th>\n",
       "      <th>Rating_Class</th>\n",
       "    </tr>\n",
       "  </thead>\n",
       "  <tbody>\n",
       "    <tr>\n",
       "      <th>19007</th>\n",
       "      <td>2015-11-01</td>\n",
       "      <td>0.00</td>\n",
       "      <td>0.0</td>\n",
       "      <td>0.0</td>\n",
       "      <td>65</td>\n",
       "      <td>0.0</td>\n",
       "      <td>0.0</td>\n",
       "      <td>0.0</td>\n",
       "      <td>0.0</td>\n",
       "      <td>Excellent</td>\n",
       "    </tr>\n",
       "    <tr>\n",
       "      <th>18998</th>\n",
       "      <td>2015-10-23</td>\n",
       "      <td>0.00</td>\n",
       "      <td>0.0</td>\n",
       "      <td>0.0</td>\n",
       "      <td>65</td>\n",
       "      <td>0.0</td>\n",
       "      <td>0.0</td>\n",
       "      <td>0.0</td>\n",
       "      <td>0.0</td>\n",
       "      <td>Excellent</td>\n",
       "    </tr>\n",
       "    <tr>\n",
       "      <th>18806</th>\n",
       "      <td>2015-04-14</td>\n",
       "      <td>0.01</td>\n",
       "      <td>0.0</td>\n",
       "      <td>0.0</td>\n",
       "      <td>65</td>\n",
       "      <td>0.0</td>\n",
       "      <td>0.0</td>\n",
       "      <td>0.0</td>\n",
       "      <td>0.0</td>\n",
       "      <td>Excellent</td>\n",
       "    </tr>\n",
       "    <tr>\n",
       "      <th>18985</th>\n",
       "      <td>2015-10-10</td>\n",
       "      <td>0.00</td>\n",
       "      <td>0.0</td>\n",
       "      <td>0.0</td>\n",
       "      <td>65</td>\n",
       "      <td>0.0</td>\n",
       "      <td>0.0</td>\n",
       "      <td>0.0</td>\n",
       "      <td>0.0</td>\n",
       "      <td>Excellent</td>\n",
       "    </tr>\n",
       "    <tr>\n",
       "      <th>18857</th>\n",
       "      <td>2015-06-04</td>\n",
       "      <td>0.00</td>\n",
       "      <td>0.0</td>\n",
       "      <td>0.0</td>\n",
       "      <td>65</td>\n",
       "      <td>0.0</td>\n",
       "      <td>0.0</td>\n",
       "      <td>0.0</td>\n",
       "      <td>0.0</td>\n",
       "      <td>Excellent</td>\n",
       "    </tr>\n",
       "  </tbody>\n",
       "</table>\n",
       "</div>"
      ],
      "text/plain": [
       "            DATE  PRCP  SNWD  SNOW  TMAX  P_factor  S_factor  T_factor  \\\n",
       "19007 2015-11-01  0.00   0.0   0.0    65       0.0       0.0       0.0   \n",
       "18998 2015-10-23  0.00   0.0   0.0    65       0.0       0.0       0.0   \n",
       "18806 2015-04-14  0.01   0.0   0.0    65       0.0       0.0       0.0   \n",
       "18985 2015-10-10  0.00   0.0   0.0    65       0.0       0.0       0.0   \n",
       "18857 2015-06-04  0.00   0.0   0.0    65       0.0       0.0       0.0   \n",
       "\n",
       "       Rating Rating_Class  \n",
       "19007     0.0    Excellent  \n",
       "18998     0.0    Excellent  \n",
       "18806     0.0    Excellent  \n",
       "18985     0.0    Excellent  \n",
       "18857     0.0    Excellent  "
      ]
     },
     "execution_count": 353,
     "metadata": {},
     "output_type": "execute_result"
    }
   ],
   "source": [
    "weather_factors.head(5)"
   ]
  },
  {
   "cell_type": "code",
   "execution_count": 123,
   "metadata": {
    "collapsed": false
   },
   "outputs": [
    {
     "data": {
      "text/html": [
       "<div>\n",
       "<table border=\"1\" class=\"dataframe\">\n",
       "  <thead>\n",
       "    <tr style=\"text-align: right;\">\n",
       "      <th></th>\n",
       "      <th>DATE</th>\n",
       "      <th>Total_rides</th>\n",
       "      <th>Weekday</th>\n",
       "      <th>Weekday_rides</th>\n",
       "      <th>Weekend_rides</th>\n",
       "      <th>Weekday_per</th>\n",
       "      <th>Weekend_per</th>\n",
       "      <th>PRCP</th>\n",
       "      <th>SNWD</th>\n",
       "      <th>SNOW</th>\n",
       "      <th>TMAX</th>\n",
       "      <th>P_factor</th>\n",
       "      <th>S_factor</th>\n",
       "      <th>T_factor</th>\n",
       "      <th>Rating</th>\n",
       "      <th>Rating_Class</th>\n",
       "    </tr>\n",
       "  </thead>\n",
       "  <tbody>\n",
       "    <tr>\n",
       "      <th>0</th>\n",
       "      <td>2014-01-01</td>\n",
       "      <td>6559</td>\n",
       "      <td>2</td>\n",
       "      <td>6559.0</td>\n",
       "      <td>NaN</td>\n",
       "      <td>15.618154</td>\n",
       "      <td>NaN</td>\n",
       "      <td>0.00</td>\n",
       "      <td>0.0</td>\n",
       "      <td>0.0</td>\n",
       "      <td>33</td>\n",
       "      <td>0.000000</td>\n",
       "      <td>0.0</td>\n",
       "      <td>87.100737</td>\n",
       "      <td>28.743243</td>\n",
       "      <td>Good</td>\n",
       "    </tr>\n",
       "    <tr>\n",
       "      <th>1</th>\n",
       "      <td>2014-01-02</td>\n",
       "      <td>9334</td>\n",
       "      <td>3</td>\n",
       "      <td>9334.0</td>\n",
       "      <td>NaN</td>\n",
       "      <td>22.225926</td>\n",
       "      <td>NaN</td>\n",
       "      <td>0.33</td>\n",
       "      <td>0.0</td>\n",
       "      <td>3.1</td>\n",
       "      <td>33</td>\n",
       "      <td>33.338721</td>\n",
       "      <td>100.0</td>\n",
       "      <td>87.100737</td>\n",
       "      <td>72.745021</td>\n",
       "      <td>Poor</td>\n",
       "    </tr>\n",
       "    <tr>\n",
       "      <th>2</th>\n",
       "      <td>2014-01-03</td>\n",
       "      <td>1288</td>\n",
       "      <td>4</td>\n",
       "      <td>1288.0</td>\n",
       "      <td>NaN</td>\n",
       "      <td>3.066959</td>\n",
       "      <td>NaN</td>\n",
       "      <td>0.29</td>\n",
       "      <td>5.9</td>\n",
       "      <td>3.3</td>\n",
       "      <td>18</td>\n",
       "      <td>28.585287</td>\n",
       "      <td>100.0</td>\n",
       "      <td>98.794168</td>\n",
       "      <td>75.035220</td>\n",
       "      <td>Poor</td>\n",
       "    </tr>\n",
       "    <tr>\n",
       "      <th>3</th>\n",
       "      <td>2014-01-04</td>\n",
       "      <td>2494</td>\n",
       "      <td>5</td>\n",
       "      <td>NaN</td>\n",
       "      <td>2494.0</td>\n",
       "      <td>NaN</td>\n",
       "      <td>5.938661</td>\n",
       "      <td>0.00</td>\n",
       "      <td>5.9</td>\n",
       "      <td>0.0</td>\n",
       "      <td>29</td>\n",
       "      <td>0.000000</td>\n",
       "      <td>0.0</td>\n",
       "      <td>92.512985</td>\n",
       "      <td>30.529285</td>\n",
       "      <td>Good</td>\n",
       "    </tr>\n",
       "    <tr>\n",
       "      <th>4</th>\n",
       "      <td>2014-01-05</td>\n",
       "      <td>2937</td>\n",
       "      <td>6</td>\n",
       "      <td>NaN</td>\n",
       "      <td>2937.0</td>\n",
       "      <td>NaN</td>\n",
       "      <td>6.993523</td>\n",
       "      <td>0.14</td>\n",
       "      <td>3.9</td>\n",
       "      <td>0.0</td>\n",
       "      <td>40</td>\n",
       "      <td>1.794890</td>\n",
       "      <td>0.0</td>\n",
       "      <td>71.349520</td>\n",
       "      <td>24.137655</td>\n",
       "      <td>Good</td>\n",
       "    </tr>\n",
       "  </tbody>\n",
       "</table>\n",
       "</div>"
      ],
      "text/plain": [
       "        DATE  Total_rides  Weekday  Weekday_rides  Weekend_rides  Weekday_per  \\\n",
       "0 2014-01-01         6559        2         6559.0            NaN    15.618154   \n",
       "1 2014-01-02         9334        3         9334.0            NaN    22.225926   \n",
       "2 2014-01-03         1288        4         1288.0            NaN     3.066959   \n",
       "3 2014-01-04         2494        5            NaN         2494.0          NaN   \n",
       "4 2014-01-05         2937        6            NaN         2937.0          NaN   \n",
       "\n",
       "   Weekend_per  PRCP  SNWD  SNOW  TMAX   P_factor  S_factor   T_factor  \\\n",
       "0          NaN  0.00   0.0   0.0    33   0.000000       0.0  87.100737   \n",
       "1          NaN  0.33   0.0   3.1    33  33.338721     100.0  87.100737   \n",
       "2          NaN  0.29   5.9   3.3    18  28.585287     100.0  98.794168   \n",
       "3     5.938661  0.00   5.9   0.0    29   0.000000       0.0  92.512985   \n",
       "4     6.993523  0.14   3.9   0.0    40   1.794890       0.0  71.349520   \n",
       "\n",
       "      Rating Rating_Class  \n",
       "0  28.743243         Good  \n",
       "1  72.745021         Poor  \n",
       "2  75.035220         Poor  \n",
       "3  30.529285         Good  \n",
       "4  24.137655         Good  "
      ]
     },
     "execution_count": 123,
     "metadata": {},
     "output_type": "execute_result"
    }
   ],
   "source": [
    "temp_df=pd.merge(weather_bikes,weather_factors,on='DATE',how='inner')\n",
    "temp_df.head(5)"
   ]
  },
  {
   "cell_type": "code",
   "execution_count": 124,
   "metadata": {
    "collapsed": false
   },
   "outputs": [
    {
     "data": {
      "text/html": [
       "<div>\n",
       "<table border=\"1\" class=\"dataframe\">\n",
       "  <thead>\n",
       "    <tr style=\"text-align: right;\">\n",
       "      <th></th>\n",
       "      <th>DATE</th>\n",
       "      <th>Total_rides</th>\n",
       "      <th>Weekday</th>\n",
       "      <th>Weekday_rides</th>\n",
       "      <th>Weekend_rides</th>\n",
       "      <th>Weekday_per</th>\n",
       "      <th>Weekend_per</th>\n",
       "      <th>PRCP</th>\n",
       "      <th>SNWD</th>\n",
       "      <th>SNOW</th>\n",
       "      <th>TMAX</th>\n",
       "      <th>P_factor</th>\n",
       "      <th>S_factor</th>\n",
       "      <th>T_factor</th>\n",
       "      <th>Rating</th>\n",
       "      <th>Rating_Class</th>\n",
       "    </tr>\n",
       "  </thead>\n",
       "  <tbody>\n",
       "    <tr>\n",
       "      <th>0</th>\n",
       "      <td>2014-01-01</td>\n",
       "      <td>6559</td>\n",
       "      <td>2</td>\n",
       "      <td>6559.0</td>\n",
       "      <td>NaN</td>\n",
       "      <td>15.618154</td>\n",
       "      <td>NaN</td>\n",
       "      <td>0.00</td>\n",
       "      <td>0.0</td>\n",
       "      <td>0.0</td>\n",
       "      <td>33</td>\n",
       "      <td>0.000000</td>\n",
       "      <td>0.0</td>\n",
       "      <td>87.100737</td>\n",
       "      <td>28.743243</td>\n",
       "      <td>Good</td>\n",
       "    </tr>\n",
       "    <tr>\n",
       "      <th>1</th>\n",
       "      <td>2014-01-02</td>\n",
       "      <td>9334</td>\n",
       "      <td>3</td>\n",
       "      <td>9334.0</td>\n",
       "      <td>NaN</td>\n",
       "      <td>22.225926</td>\n",
       "      <td>NaN</td>\n",
       "      <td>0.33</td>\n",
       "      <td>0.0</td>\n",
       "      <td>3.1</td>\n",
       "      <td>33</td>\n",
       "      <td>33.338721</td>\n",
       "      <td>100.0</td>\n",
       "      <td>87.100737</td>\n",
       "      <td>72.745021</td>\n",
       "      <td>Poor</td>\n",
       "    </tr>\n",
       "    <tr>\n",
       "      <th>2</th>\n",
       "      <td>2014-01-03</td>\n",
       "      <td>1288</td>\n",
       "      <td>4</td>\n",
       "      <td>1288.0</td>\n",
       "      <td>NaN</td>\n",
       "      <td>3.066959</td>\n",
       "      <td>NaN</td>\n",
       "      <td>0.29</td>\n",
       "      <td>5.9</td>\n",
       "      <td>3.3</td>\n",
       "      <td>18</td>\n",
       "      <td>28.585287</td>\n",
       "      <td>100.0</td>\n",
       "      <td>98.794168</td>\n",
       "      <td>75.035220</td>\n",
       "      <td>Poor</td>\n",
       "    </tr>\n",
       "    <tr>\n",
       "      <th>3</th>\n",
       "      <td>2014-01-04</td>\n",
       "      <td>2494</td>\n",
       "      <td>5</td>\n",
       "      <td>NaN</td>\n",
       "      <td>2494.0</td>\n",
       "      <td>NaN</td>\n",
       "      <td>5.938661</td>\n",
       "      <td>0.00</td>\n",
       "      <td>5.9</td>\n",
       "      <td>0.0</td>\n",
       "      <td>29</td>\n",
       "      <td>0.000000</td>\n",
       "      <td>0.0</td>\n",
       "      <td>92.512985</td>\n",
       "      <td>30.529285</td>\n",
       "      <td>Good</td>\n",
       "    </tr>\n",
       "    <tr>\n",
       "      <th>4</th>\n",
       "      <td>2014-01-05</td>\n",
       "      <td>2937</td>\n",
       "      <td>6</td>\n",
       "      <td>NaN</td>\n",
       "      <td>2937.0</td>\n",
       "      <td>NaN</td>\n",
       "      <td>6.993523</td>\n",
       "      <td>0.14</td>\n",
       "      <td>3.9</td>\n",
       "      <td>0.0</td>\n",
       "      <td>40</td>\n",
       "      <td>1.794890</td>\n",
       "      <td>0.0</td>\n",
       "      <td>71.349520</td>\n",
       "      <td>24.137655</td>\n",
       "      <td>Good</td>\n",
       "    </tr>\n",
       "  </tbody>\n",
       "</table>\n",
       "</div>"
      ],
      "text/plain": [
       "        DATE  Total_rides  Weekday  Weekday_rides  Weekend_rides  Weekday_per  \\\n",
       "0 2014-01-01         6559        2         6559.0            NaN    15.618154   \n",
       "1 2014-01-02         9334        3         9334.0            NaN    22.225926   \n",
       "2 2014-01-03         1288        4         1288.0            NaN     3.066959   \n",
       "3 2014-01-04         2494        5            NaN         2494.0          NaN   \n",
       "4 2014-01-05         2937        6            NaN         2937.0          NaN   \n",
       "\n",
       "   Weekend_per  PRCP  SNWD  SNOW  TMAX   P_factor  S_factor   T_factor  \\\n",
       "0          NaN  0.00   0.0   0.0    33   0.000000       0.0  87.100737   \n",
       "1          NaN  0.33   0.0   3.1    33  33.338721     100.0  87.100737   \n",
       "2          NaN  0.29   5.9   3.3    18  28.585287     100.0  98.794168   \n",
       "3     5.938661  0.00   5.9   0.0    29   0.000000       0.0  92.512985   \n",
       "4     6.993523  0.14   3.9   0.0    40   1.794890       0.0  71.349520   \n",
       "\n",
       "      Rating Rating_Class  \n",
       "0  28.743243         Good  \n",
       "1  72.745021         Poor  \n",
       "2  75.035220         Poor  \n",
       "3  30.529285         Good  \n",
       "4  24.137655         Good  "
      ]
     },
     "execution_count": 124,
     "metadata": {},
     "output_type": "execute_result"
    }
   ],
   "source": [
    "weather_factors=temp_df\n",
    "weather_factors.head(5)"
   ]
  },
  {
   "cell_type": "code",
   "execution_count": 371,
   "metadata": {
    "collapsed": false
   },
   "outputs": [
    {
     "data": {
      "text/plain": [
       "31147.0"
      ]
     },
     "execution_count": 371,
     "metadata": {},
     "output_type": "execute_result"
    }
   ],
   "source": [
    "max_riders=weather_factors['Weekday_rides'].max()\n",
    "weather_factors['Weekend_rides'].max()"
   ]
  },
  {
   "cell_type": "code",
   "execution_count": 136,
   "metadata": {
    "collapsed": false
   },
   "outputs": [],
   "source": [
    "weather_factors.sort_values('Rating', ascending=True, inplace=True)\n",
    "weather_factors['Percent_riders']=weather_factors['Total_rides'].map(per_riders)"
   ]
  },
  {
   "cell_type": "code",
   "execution_count": 137,
   "metadata": {
    "collapsed": false
   },
   "outputs": [
    {
     "data": {
      "text/html": [
       "<div>\n",
       "<table border=\"1\" class=\"dataframe\">\n",
       "  <thead>\n",
       "    <tr style=\"text-align: right;\">\n",
       "      <th></th>\n",
       "      <th>DATE</th>\n",
       "      <th>Total_rides</th>\n",
       "      <th>Weekday</th>\n",
       "      <th>Weekday_rides</th>\n",
       "      <th>Weekend_rides</th>\n",
       "      <th>Weekday_per</th>\n",
       "      <th>Weekend_per</th>\n",
       "      <th>PRCP</th>\n",
       "      <th>SNWD</th>\n",
       "      <th>SNOW</th>\n",
       "      <th>TMAX</th>\n",
       "      <th>P_factor</th>\n",
       "      <th>S_factor</th>\n",
       "      <th>T_factor</th>\n",
       "      <th>Rating</th>\n",
       "      <th>Rating_Class</th>\n",
       "      <th>Percent_riders</th>\n",
       "    </tr>\n",
       "  </thead>\n",
       "  <tbody>\n",
       "    <tr>\n",
       "      <th>285</th>\n",
       "      <td>2014-10-13</td>\n",
       "      <td>25616</td>\n",
       "      <td>0</td>\n",
       "      <td>25616.0</td>\n",
       "      <td>NaN</td>\n",
       "      <td>60.996285</td>\n",
       "      <td>NaN</td>\n",
       "      <td>0.05</td>\n",
       "      <td>0.0</td>\n",
       "      <td>0.0</td>\n",
       "      <td>65</td>\n",
       "      <td>0.0</td>\n",
       "      <td>0.0</td>\n",
       "      <td>0.0</td>\n",
       "      <td>0.0</td>\n",
       "      <td>Excellent</td>\n",
       "      <td>60.996285</td>\n",
       "    </tr>\n",
       "    <tr>\n",
       "      <th>273</th>\n",
       "      <td>2014-10-01</td>\n",
       "      <td>31197</td>\n",
       "      <td>2</td>\n",
       "      <td>31197.0</td>\n",
       "      <td>NaN</td>\n",
       "      <td>74.285646</td>\n",
       "      <td>NaN</td>\n",
       "      <td>0.02</td>\n",
       "      <td>0.0</td>\n",
       "      <td>0.0</td>\n",
       "      <td>65</td>\n",
       "      <td>0.0</td>\n",
       "      <td>0.0</td>\n",
       "      <td>0.0</td>\n",
       "      <td>0.0</td>\n",
       "      <td>Excellent</td>\n",
       "      <td>74.285646</td>\n",
       "    </tr>\n",
       "    <tr>\n",
       "      <th>315</th>\n",
       "      <td>2014-11-12</td>\n",
       "      <td>30830</td>\n",
       "      <td>2</td>\n",
       "      <td>30830.0</td>\n",
       "      <td>NaN</td>\n",
       "      <td>73.411754</td>\n",
       "      <td>NaN</td>\n",
       "      <td>0.00</td>\n",
       "      <td>0.0</td>\n",
       "      <td>0.0</td>\n",
       "      <td>65</td>\n",
       "      <td>0.0</td>\n",
       "      <td>0.0</td>\n",
       "      <td>0.0</td>\n",
       "      <td>0.0</td>\n",
       "      <td>Excellent</td>\n",
       "      <td>73.411754</td>\n",
       "    </tr>\n",
       "    <tr>\n",
       "      <th>334</th>\n",
       "      <td>2014-12-01</td>\n",
       "      <td>20398</td>\n",
       "      <td>0</td>\n",
       "      <td>20398.0</td>\n",
       "      <td>NaN</td>\n",
       "      <td>48.571293</td>\n",
       "      <td>NaN</td>\n",
       "      <td>0.09</td>\n",
       "      <td>0.0</td>\n",
       "      <td>0.0</td>\n",
       "      <td>65</td>\n",
       "      <td>0.0</td>\n",
       "      <td>0.0</td>\n",
       "      <td>0.0</td>\n",
       "      <td>0.0</td>\n",
       "      <td>Excellent</td>\n",
       "      <td>48.571293</td>\n",
       "    </tr>\n",
       "    <tr>\n",
       "      <th>123</th>\n",
       "      <td>2014-05-04</td>\n",
       "      <td>23450</td>\n",
       "      <td>6</td>\n",
       "      <td>NaN</td>\n",
       "      <td>23450.0</td>\n",
       "      <td>NaN</td>\n",
       "      <td>55.838651</td>\n",
       "      <td>0.02</td>\n",
       "      <td>0.0</td>\n",
       "      <td>0.0</td>\n",
       "      <td>65</td>\n",
       "      <td>0.0</td>\n",
       "      <td>0.0</td>\n",
       "      <td>0.0</td>\n",
       "      <td>0.0</td>\n",
       "      <td>Excellent</td>\n",
       "      <td>55.838651</td>\n",
       "    </tr>\n",
       "  </tbody>\n",
       "</table>\n",
       "</div>"
      ],
      "text/plain": [
       "          DATE  Total_rides  Weekday  Weekday_rides  Weekend_rides  \\\n",
       "285 2014-10-13        25616        0        25616.0            NaN   \n",
       "273 2014-10-01        31197        2        31197.0            NaN   \n",
       "315 2014-11-12        30830        2        30830.0            NaN   \n",
       "334 2014-12-01        20398        0        20398.0            NaN   \n",
       "123 2014-05-04        23450        6            NaN        23450.0   \n",
       "\n",
       "     Weekday_per  Weekend_per  PRCP  SNWD  SNOW  TMAX  P_factor  S_factor  \\\n",
       "285    60.996285          NaN  0.05   0.0   0.0    65       0.0       0.0   \n",
       "273    74.285646          NaN  0.02   0.0   0.0    65       0.0       0.0   \n",
       "315    73.411754          NaN  0.00   0.0   0.0    65       0.0       0.0   \n",
       "334    48.571293          NaN  0.09   0.0   0.0    65       0.0       0.0   \n",
       "123          NaN    55.838651  0.02   0.0   0.0    65       0.0       0.0   \n",
       "\n",
       "     T_factor  Rating Rating_Class  Percent_riders  \n",
       "285       0.0     0.0    Excellent       60.996285  \n",
       "273       0.0     0.0    Excellent       74.285646  \n",
       "315       0.0     0.0    Excellent       73.411754  \n",
       "334       0.0     0.0    Excellent       48.571293  \n",
       "123       0.0     0.0    Excellent       55.838651  "
      ]
     },
     "execution_count": 137,
     "metadata": {},
     "output_type": "execute_result"
    }
   ],
   "source": [
    "weather_factors.head(5)"
   ]
  },
  {
   "cell_type": "code",
   "execution_count": 135,
   "metadata": {
    "collapsed": false
   },
   "outputs": [
    {
     "data": {
      "text/plain": [
       "<matplotlib.axes._subplots.AxesSubplot at 0x2609edc0c88>"
      ]
     },
     "execution_count": 135,
     "metadata": {},
     "output_type": "execute_result"
    },
    {
     "data": {
      "text/plain": [
       "<matplotlib.figure.Figure at 0x2609ed90a58>"
      ]
     },
     "metadata": {},
     "output_type": "display_data"
    },
    {
     "data": {
      "image/png": "[encoded data removed]",
      "text/plain": [
       "<matplotlib.figure.Figure at 0x2609dcfd438>"
      ]
     },
     "metadata": {},
     "output_type": "display_data"
    }
   ],
   "source": [
    "plt.figure()\n",
    "#ax=weather_factors[['P_factor','S_factor','T_factor']].plot(kind='line',x=weather_factors['Rating_Class'])\n",
    "weather_factors.plot(x=weather_factors['Rating_Class'],y=['P_factor','S_factor','T_factor'],kind='line')"
   ]
  },
  {
   "cell_type": "code",
   "execution_count": null,
   "metadata": {
    "collapsed": true
   },
   "outputs": [],
   "source": [
    "Total_Riders_per=pd.DataFrame()"
   ]
  },
  {
   "cell_type": "code",
   "execution_count": 151,
   "metadata": {
    "collapsed": false
   },
   "outputs": [
    {
     "data": {
      "text/plain": [
       "<matplotlib.legend.Legend at 0x2609f13c080>"
      ]
     },
     "execution_count": 151,
     "metadata": {},
     "output_type": "execute_result"
    },
    {
     "data": {
      "image/png": "[encoded data removed]",
      "text/plain": [
       "<matplotlib.figure.Figure at 0x2609f2dd048>"
      ]
     },
     "metadata": {},
     "output_type": "display_data"
    }
   ],
   "source": [
    "ax=weather_factors.plot(y='Percent_riders',kind='scatter',x='Rating')\n",
    "weather_factors.plot(x=weather_factors['Rating_Class'],y=['P_factor','S_factor','T_factor'],title='Percent of Max Bicyclists vs. Weather Rating',ylim=(0,100),kind='line',ax=ax,rot=45)\n",
    "plt.legend(loc='upper center')"
   ]
  },
  {
   "cell_type": "code",
   "execution_count": null,
   "metadata": {
    "collapsed": true
   },
   "outputs": [],
   "source": [
    "weather_factors"
   ]
  }
 ],
 "metadata": {
  "kernelspec": {
   "display_name": "Python [Root]",
   "language": "python",
   "name": "Python [Root]"
  },
  "language_info": {
   "codemirror_mode": {
    "name": "ipython",
    "version": 3
   },
   "file_extension": ".py",
   "mimetype": "text/x-python",
   "name": "python",
   "nbconvert_exporter": "python",
   "pygments_lexer": "ipython3",
   "version": "3.5.2"
  }
 },
 "nbformat": 4,
 "nbformat_minor": 0
}
