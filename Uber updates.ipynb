{
 "cells": [
  {
   "cell_type": "code",
   "execution_count": 1,
   "metadata": {
    "collapsed": true
   },
   "outputs": [],
   "source": [
    "    %matplotlib inline\n",
    "import numpy as np\n",
    "import pandas as pd\n",
    "import matplotlib.pyplot as plt\n",
    "import os"
   ]
  },
  {
   "cell_type": "markdown",
   "metadata": {},
   "source": [
    "# Uber data "
   ]
  },
  {
   "cell_type": "code",
   "execution_count": 2,
   "metadata": {
    "collapsed": false,
    "scrolled": true
   },
   "outputs": [],
   "source": [
    "os.chdir('C:/Users/Charlotte/Desktop/python_course/Download')\n",
    "\n",
    "\n",
    "Uber=pd.read_csv('uber_janjun15.csv',parse_dates=True, infer_datetime_format=True)\n"
   ]
  },
  {
   "cell_type": "code",
   "execution_count": 3,
   "metadata": {
    "collapsed": true
   },
   "outputs": [],
   "source": [
    "dir_str='C:/Users/Charlotte/Desktop/python_course/Download'"
   ]
  },
  {
   "cell_type": "code",
   "execution_count": 4,
   "metadata": {
    "collapsed": false
   },
   "outputs": [
    {
     "name": "stdout",
     "output_type": "stream",
     "text": [
      "(14270479, 4)\n",
      "Index(['Dispatching_base_num', 'Pickup_date', 'Affiliated_base_num',\n",
      "       'locationID'],\n",
      "      dtype='object')\n"
     ]
    },
    {
     "data": {
      "text/html": [
       "<div>\n",
       "<table border=\"1\" class=\"dataframe\">\n",
       "  <thead>\n",
       "    <tr style=\"text-align: right;\">\n",
       "      <th></th>\n",
       "      <th>Dispatching_base_num</th>\n",
       "      <th>Pickup_date</th>\n",
       "      <th>Affiliated_base_num</th>\n",
       "      <th>locationID</th>\n",
       "    </tr>\n",
       "  </thead>\n",
       "  <tbody>\n",
       "    <tr>\n",
       "      <th>0</th>\n",
       "      <td>B02617</td>\n",
       "      <td>2015-05-17 09:47:00</td>\n",
       "      <td>B02617</td>\n",
       "      <td>141</td>\n",
       "    </tr>\n",
       "    <tr>\n",
       "      <th>1</th>\n",
       "      <td>B02617</td>\n",
       "      <td>2015-05-17 09:47:00</td>\n",
       "      <td>B02617</td>\n",
       "      <td>65</td>\n",
       "    </tr>\n",
       "    <tr>\n",
       "      <th>2</th>\n",
       "      <td>B02617</td>\n",
       "      <td>2015-05-17 09:47:00</td>\n",
       "      <td>B02617</td>\n",
       "      <td>100</td>\n",
       "    </tr>\n",
       "    <tr>\n",
       "      <th>3</th>\n",
       "      <td>B02617</td>\n",
       "      <td>2015-05-17 09:47:00</td>\n",
       "      <td>B02774</td>\n",
       "      <td>80</td>\n",
       "    </tr>\n",
       "    <tr>\n",
       "      <th>4</th>\n",
       "      <td>B02617</td>\n",
       "      <td>2015-05-17 09:47:00</td>\n",
       "      <td>B02617</td>\n",
       "      <td>90</td>\n",
       "    </tr>\n",
       "  </tbody>\n",
       "</table>\n",
       "</div>"
      ],
      "text/plain": [
       "  Dispatching_base_num          Pickup_date Affiliated_base_num  locationID\n",
       "0               B02617  2015-05-17 09:47:00              B02617         141\n",
       "1               B02617  2015-05-17 09:47:00              B02617          65\n",
       "2               B02617  2015-05-17 09:47:00              B02617         100\n",
       "3               B02617  2015-05-17 09:47:00              B02774          80\n",
       "4               B02617  2015-05-17 09:47:00              B02617          90"
      ]
     },
     "execution_count": 4,
     "metadata": {},
     "output_type": "execute_result"
    }
   ],
   "source": [
    "print(Uber.shape)\n",
    "print(Uber.columns)\n",
    "Uber.head(5)"
   ]
  },
  {
   "cell_type": "code",
   "execution_count": 5,
   "metadata": {
    "collapsed": true
   },
   "outputs": [],
   "source": [
    "Uber_datetime=pd.to_datetime(Uber['Pickup_date'], infer_datetime_format=True)\n",
    "Uber_time=Uber_datetime.dt.time\n",
    "Uber_date=Uber_datetime.dt.date"
   ]
  },
  {
   "cell_type": "code",
   "execution_count": 6,
   "metadata": {
    "collapsed": true
   },
   "outputs": [],
   "source": [
    "Pickup_Time=pd.DataFrame(Uber_time)\n",
    "Pickup_Date=pd.DataFrame(Uber_date)"
   ]
  },
  {
   "cell_type": "code",
   "execution_count": 7,
   "metadata": {
    "collapsed": false
   },
   "outputs": [
    {
     "data": {
      "text/html": [
       "<div>\n",
       "<table border=\"1\" class=\"dataframe\">\n",
       "  <thead>\n",
       "    <tr style=\"text-align: right;\">\n",
       "      <th></th>\n",
       "      <th>Pickup_time</th>\n",
       "    </tr>\n",
       "  </thead>\n",
       "  <tbody>\n",
       "    <tr>\n",
       "      <th>0</th>\n",
       "      <td>09:47:00</td>\n",
       "    </tr>\n",
       "    <tr>\n",
       "      <th>1</th>\n",
       "      <td>09:47:00</td>\n",
       "    </tr>\n",
       "    <tr>\n",
       "      <th>2</th>\n",
       "      <td>09:47:00</td>\n",
       "    </tr>\n",
       "    <tr>\n",
       "      <th>3</th>\n",
       "      <td>09:47:00</td>\n",
       "    </tr>\n",
       "    <tr>\n",
       "      <th>4</th>\n",
       "      <td>09:47:00</td>\n",
       "    </tr>\n",
       "  </tbody>\n",
       "</table>\n",
       "</div>"
      ],
      "text/plain": [
       "  Pickup_time\n",
       "0    09:47:00\n",
       "1    09:47:00\n",
       "2    09:47:00\n",
       "3    09:47:00\n",
       "4    09:47:00"
      ]
     },
     "execution_count": 7,
     "metadata": {},
     "output_type": "execute_result"
    }
   ],
   "source": [
    "Pickup_Time.columns=['Pickup_time']\n",
    "Pickup_Time.head(5)"
   ]
  },
  {
   "cell_type": "code",
   "execution_count": 8,
   "metadata": {
    "collapsed": false
   },
   "outputs": [
    {
     "data": {
      "text/html": [
       "<div>\n",
       "<table border=\"1\" class=\"dataframe\">\n",
       "  <thead>\n",
       "    <tr style=\"text-align: right;\">\n",
       "      <th></th>\n",
       "      <th>Pickup_date</th>\n",
       "    </tr>\n",
       "  </thead>\n",
       "  <tbody>\n",
       "    <tr>\n",
       "      <th>0</th>\n",
       "      <td>2015-05-17</td>\n",
       "    </tr>\n",
       "    <tr>\n",
       "      <th>1</th>\n",
       "      <td>2015-05-17</td>\n",
       "    </tr>\n",
       "    <tr>\n",
       "      <th>2</th>\n",
       "      <td>2015-05-17</td>\n",
       "    </tr>\n",
       "    <tr>\n",
       "      <th>3</th>\n",
       "      <td>2015-05-17</td>\n",
       "    </tr>\n",
       "    <tr>\n",
       "      <th>4</th>\n",
       "      <td>2015-05-17</td>\n",
       "    </tr>\n",
       "  </tbody>\n",
       "</table>\n",
       "</div>"
      ],
      "text/plain": [
       "  Pickup_date\n",
       "0  2015-05-17\n",
       "1  2015-05-17\n",
       "2  2015-05-17\n",
       "3  2015-05-17\n",
       "4  2015-05-17"
      ]
     },
     "execution_count": 8,
     "metadata": {},
     "output_type": "execute_result"
    }
   ],
   "source": [
    "Pickup_Date.columns=['Pickup_date']\n",
    "Pickup_Date.head(5)"
   ]
  },
  {
   "cell_type": "code",
   "execution_count": 9,
   "metadata": {
    "collapsed": false
   },
   "outputs": [
    {
     "data": {
      "text/html": [
       "<div>\n",
       "<table border=\"1\" class=\"dataframe\">\n",
       "  <thead>\n",
       "    <tr style=\"text-align: right;\">\n",
       "      <th></th>\n",
       "      <th>Dispatching_base_num</th>\n",
       "      <th>Pickup_date</th>\n",
       "      <th>Affiliated_base_num</th>\n",
       "      <th>locationID</th>\n",
       "      <th>Pickup_time</th>\n",
       "    </tr>\n",
       "  </thead>\n",
       "  <tbody>\n",
       "    <tr>\n",
       "      <th>0</th>\n",
       "      <td>B02617</td>\n",
       "      <td>2015-05-17</td>\n",
       "      <td>B02617</td>\n",
       "      <td>141</td>\n",
       "      <td>09:47:00</td>\n",
       "    </tr>\n",
       "    <tr>\n",
       "      <th>1</th>\n",
       "      <td>B02617</td>\n",
       "      <td>2015-05-17</td>\n",
       "      <td>B02617</td>\n",
       "      <td>65</td>\n",
       "      <td>09:47:00</td>\n",
       "    </tr>\n",
       "    <tr>\n",
       "      <th>2</th>\n",
       "      <td>B02617</td>\n",
       "      <td>2015-05-17</td>\n",
       "      <td>B02617</td>\n",
       "      <td>100</td>\n",
       "      <td>09:47:00</td>\n",
       "    </tr>\n",
       "    <tr>\n",
       "      <th>3</th>\n",
       "      <td>B02617</td>\n",
       "      <td>2015-05-17</td>\n",
       "      <td>B02774</td>\n",
       "      <td>80</td>\n",
       "      <td>09:47:00</td>\n",
       "    </tr>\n",
       "    <tr>\n",
       "      <th>4</th>\n",
       "      <td>B02617</td>\n",
       "      <td>2015-05-17</td>\n",
       "      <td>B02617</td>\n",
       "      <td>90</td>\n",
       "      <td>09:47:00</td>\n",
       "    </tr>\n",
       "  </tbody>\n",
       "</table>\n",
       "</div>"
      ],
      "text/plain": [
       "  Dispatching_base_num Pickup_date Affiliated_base_num  locationID Pickup_time\n",
       "0               B02617  2015-05-17              B02617         141    09:47:00\n",
       "1               B02617  2015-05-17              B02617          65    09:47:00\n",
       "2               B02617  2015-05-17              B02617         100    09:47:00\n",
       "3               B02617  2015-05-17              B02774          80    09:47:00\n",
       "4               B02617  2015-05-17              B02617          90    09:47:00"
      ]
     },
     "execution_count": 9,
     "metadata": {},
     "output_type": "execute_result"
    }
   ],
   "source": [
    "Pickups=Pickup_Date.join(Pickup_Time)\n",
    "Uber['Pickup_date']=Pickup_Date\n",
    "Uber['Pickup_time']=Pickup_Time\n",
    "Uber.head(5)"
   ]
  },
  {
   "cell_type": "code",
   "execution_count": 10,
   "metadata": {
    "collapsed": false
   },
   "outputs": [
    {
     "data": {
      "text/html": [
       "<div>\n",
       "<table border=\"1\" class=\"dataframe\">\n",
       "  <thead>\n",
       "    <tr style=\"text-align: right;\">\n",
       "      <th></th>\n",
       "      <th>Pickup_date</th>\n",
       "      <th>Pickup_time</th>\n",
       "      <th>Affiliated_base_num</th>\n",
       "      <th>locationID</th>\n",
       "    </tr>\n",
       "  </thead>\n",
       "  <tbody>\n",
       "    <tr>\n",
       "      <th>0</th>\n",
       "      <td>2015-05-17</td>\n",
       "      <td>09:47:00</td>\n",
       "      <td>B02617</td>\n",
       "      <td>141</td>\n",
       "    </tr>\n",
       "    <tr>\n",
       "      <th>1</th>\n",
       "      <td>2015-05-17</td>\n",
       "      <td>09:47:00</td>\n",
       "      <td>B02617</td>\n",
       "      <td>65</td>\n",
       "    </tr>\n",
       "    <tr>\n",
       "      <th>2</th>\n",
       "      <td>2015-05-17</td>\n",
       "      <td>09:47:00</td>\n",
       "      <td>B02617</td>\n",
       "      <td>100</td>\n",
       "    </tr>\n",
       "    <tr>\n",
       "      <th>3</th>\n",
       "      <td>2015-05-17</td>\n",
       "      <td>09:47:00</td>\n",
       "      <td>B02774</td>\n",
       "      <td>80</td>\n",
       "    </tr>\n",
       "    <tr>\n",
       "      <th>4</th>\n",
       "      <td>2015-05-17</td>\n",
       "      <td>09:47:00</td>\n",
       "      <td>B02617</td>\n",
       "      <td>90</td>\n",
       "    </tr>\n",
       "  </tbody>\n",
       "</table>\n",
       "</div>"
      ],
      "text/plain": [
       "  Pickup_date Pickup_time Affiliated_base_num  locationID\n",
       "0  2015-05-17    09:47:00              B02617         141\n",
       "1  2015-05-17    09:47:00              B02617          65\n",
       "2  2015-05-17    09:47:00              B02617         100\n",
       "3  2015-05-17    09:47:00              B02774          80\n",
       "4  2015-05-17    09:47:00              B02617          90"
      ]
     },
     "execution_count": 10,
     "metadata": {},
     "output_type": "execute_result"
    }
   ],
   "source": [
    "Uber=pd.DataFrame(Uber[['Pickup_date','Pickup_time','Affiliated_base_num','locationID']])\n",
    "Uber.head(5)"
   ]
  },
  {
   "cell_type": "code",
   "execution_count": 11,
   "metadata": {
    "collapsed": true
   },
   "outputs": [],
   "source": [
    "rides_date=pd.DataFrame((Uber['Pickup_date'].value_counts()))"
   ]
  },
  {
   "cell_type": "code",
   "execution_count": 12,
   "metadata": {
    "collapsed": false
   },
   "outputs": [
    {
     "data": {
      "text/plain": [
       "<matplotlib.axes._subplots.AxesSubplot at 0x2ae7802d748>"
      ]
     },
     "execution_count": 12,
     "metadata": {},
     "output_type": "execute_result"
    },
    {
     "data": {
      "image/png": "[encoded data removed]",
      "text/plain": [
       "<matplotlib.figure.Figure at 0x2ae2e2297f0>"
      ]
     },
     "metadata": {},
     "output_type": "display_data"
    }
   ],
   "source": [
    "rides_date.plot()"
   ]
  },
  {
   "cell_type": "code",
   "execution_count": 13,
   "metadata": {
    "collapsed": false
   },
   "outputs": [],
   "source": [
    "Loc_ID=pd.read_csv('taxi-zones.csv')"
   ]
  },
  {
   "cell_type": "code",
   "execution_count": 14,
   "metadata": {
    "collapsed": false,
    "scrolled": true
   },
   "outputs": [
    {
     "data": {
      "text/html": [
       "<div>\n",
       "<table border=\"1\" class=\"dataframe\">\n",
       "  <thead>\n",
       "    <tr style=\"text-align: right;\">\n",
       "      <th></th>\n",
       "      <th>Borough</th>\n",
       "      <th>Zone</th>\n",
       "    </tr>\n",
       "    <tr>\n",
       "      <th>LocationID</th>\n",
       "      <th></th>\n",
       "      <th></th>\n",
       "    </tr>\n",
       "  </thead>\n",
       "  <tbody>\n",
       "    <tr>\n",
       "      <th>1</th>\n",
       "      <td>EWR</td>\n",
       "      <td>Newark Airport</td>\n",
       "    </tr>\n",
       "    <tr>\n",
       "      <th>2</th>\n",
       "      <td>Queens</td>\n",
       "      <td>Jamaica Bay</td>\n",
       "    </tr>\n",
       "    <tr>\n",
       "      <th>3</th>\n",
       "      <td>Bronx</td>\n",
       "      <td>Allerton/Pelham Gardens</td>\n",
       "    </tr>\n",
       "    <tr>\n",
       "      <th>4</th>\n",
       "      <td>Manhattan</td>\n",
       "      <td>Alphabet City</td>\n",
       "    </tr>\n",
       "    <tr>\n",
       "      <th>5</th>\n",
       "      <td>Staten Island</td>\n",
       "      <td>Arden Heights</td>\n",
       "    </tr>\n",
       "  </tbody>\n",
       "</table>\n",
       "</div>"
      ],
      "text/plain": [
       "                  Borough                     Zone\n",
       "LocationID                                        \n",
       "1                     EWR           Newark Airport\n",
       "2                  Queens              Jamaica Bay\n",
       "3                   Bronx  Allerton/Pelham Gardens\n",
       "4               Manhattan            Alphabet City\n",
       "5           Staten Island            Arden Heights"
      ]
     },
     "execution_count": 14,
     "metadata": {},
     "output_type": "execute_result"
    }
   ],
   "source": [
    "Loc_ID.set_index('LocationID',inplace=True)\n",
    "Loc_ID.head(5)"
   ]
  },
  {
   "cell_type": "code",
   "execution_count": 15,
   "metadata": {
    "collapsed": false
   },
   "outputs": [],
   "source": [
    "Location_name=Loc_ID['Zone']+', '+Loc_ID['Borough']"
   ]
  },
  {
   "cell_type": "code",
   "execution_count": 16,
   "metadata": {
    "collapsed": false
   },
   "outputs": [
    {
     "name": "stdout",
     "output_type": "stream",
     "text": [
      "LocationID\n",
      "1                       Newark Airport, EWR\n",
      "2                       Jamaica Bay, Queens\n",
      "3            Allerton/Pelham Gardens, Bronx\n",
      "4                  Alphabet City, Manhattan\n",
      "5              Arden Heights, Staten Island\n",
      "6    Arrochar/Fort Wadsworth, Staten Island\n",
      "7                           Astoria, Queens\n",
      "dtype: object\n"
     ]
    }
   ],
   "source": [
    "print(Location_name[0:7])"
   ]
  },
  {
   "cell_type": "code",
   "execution_count": 17,
   "metadata": {
    "collapsed": true
   },
   "outputs": [],
   "source": [
    "Loc_ID['Location_name']=Location_name"
   ]
  },
  {
   "cell_type": "code",
   "execution_count": 18,
   "metadata": {
    "collapsed": false
   },
   "outputs": [
    {
     "data": {
      "text/html": [
       "<div>\n",
       "<table border=\"1\" class=\"dataframe\">\n",
       "  <thead>\n",
       "    <tr style=\"text-align: right;\">\n",
       "      <th></th>\n",
       "      <th>Borough</th>\n",
       "      <th>Zone</th>\n",
       "      <th>Location_name</th>\n",
       "    </tr>\n",
       "    <tr>\n",
       "      <th>LocationID</th>\n",
       "      <th></th>\n",
       "      <th></th>\n",
       "      <th></th>\n",
       "    </tr>\n",
       "  </thead>\n",
       "  <tbody>\n",
       "    <tr>\n",
       "      <th>1</th>\n",
       "      <td>EWR</td>\n",
       "      <td>Newark Airport</td>\n",
       "      <td>Newark Airport, EWR</td>\n",
       "    </tr>\n",
       "    <tr>\n",
       "      <th>2</th>\n",
       "      <td>Queens</td>\n",
       "      <td>Jamaica Bay</td>\n",
       "      <td>Jamaica Bay, Queens</td>\n",
       "    </tr>\n",
       "    <tr>\n",
       "      <th>3</th>\n",
       "      <td>Bronx</td>\n",
       "      <td>Allerton/Pelham Gardens</td>\n",
       "      <td>Allerton/Pelham Gardens, Bronx</td>\n",
       "    </tr>\n",
       "    <tr>\n",
       "      <th>4</th>\n",
       "      <td>Manhattan</td>\n",
       "      <td>Alphabet City</td>\n",
       "      <td>Alphabet City, Manhattan</td>\n",
       "    </tr>\n",
       "    <tr>\n",
       "      <th>5</th>\n",
       "      <td>Staten Island</td>\n",
       "      <td>Arden Heights</td>\n",
       "      <td>Arden Heights, Staten Island</td>\n",
       "    </tr>\n",
       "  </tbody>\n",
       "</table>\n",
       "</div>"
      ],
      "text/plain": [
       "                  Borough                     Zone  \\\n",
       "LocationID                                           \n",
       "1                     EWR           Newark Airport   \n",
       "2                  Queens              Jamaica Bay   \n",
       "3                   Bronx  Allerton/Pelham Gardens   \n",
       "4               Manhattan            Alphabet City   \n",
       "5           Staten Island            Arden Heights   \n",
       "\n",
       "                             Location_name  \n",
       "LocationID                                  \n",
       "1                      Newark Airport, EWR  \n",
       "2                      Jamaica Bay, Queens  \n",
       "3           Allerton/Pelham Gardens, Bronx  \n",
       "4                 Alphabet City, Manhattan  \n",
       "5             Arden Heights, Staten Island  "
      ]
     },
     "execution_count": 18,
     "metadata": {},
     "output_type": "execute_result"
    }
   ],
   "source": [
    "Loc_ID.head(5)"
   ]
  },
  {
   "cell_type": "markdown",
   "metadata": {},
   "source": [
    "### steal gelocator code from Chris"
   ]
  },
  {
   "cell_type": "markdown",
   "metadata": {},
   "source": [
    "import geocoder"
   ]
  },
  {
   "cell_type": "markdown",
   "metadata": {},
   "source": [
    "import geopy"
   ]
  },
  {
   "cell_type": "markdown",
   "metadata": {},
   "source": [
    "from geopy.geocoders import Nominatim\n",
    "geolocator = Nominatim()"
   ]
  },
  {
   "cell_type": "markdown",
   "metadata": {},
   "source": [
    "Loc_ID['Station_Coord'] = Loc_ID['Location_name'].map(lambda x: geolocator.geocode(x))"
   ]
  },
  {
   "cell_type": "code",
   "execution_count": 21,
   "metadata": {
    "collapsed": false
   },
   "outputs": [
    {
     "data": {
      "text/html": [
       "<div>\n",
       "<table border=\"1\" class=\"dataframe\">\n",
       "  <thead>\n",
       "    <tr style=\"text-align: right;\">\n",
       "      <th></th>\n",
       "      <th>Borough</th>\n",
       "      <th>Zone</th>\n",
       "      <th>Location_name</th>\n",
       "    </tr>\n",
       "    <tr>\n",
       "      <th>LocationID</th>\n",
       "      <th></th>\n",
       "      <th></th>\n",
       "      <th></th>\n",
       "    </tr>\n",
       "  </thead>\n",
       "  <tbody>\n",
       "    <tr>\n",
       "      <th>1</th>\n",
       "      <td>EWR</td>\n",
       "      <td>Newark Airport</td>\n",
       "      <td>Newark Airport, EWR</td>\n",
       "    </tr>\n",
       "    <tr>\n",
       "      <th>2</th>\n",
       "      <td>Queens</td>\n",
       "      <td>Jamaica Bay</td>\n",
       "      <td>Jamaica Bay, Queens</td>\n",
       "    </tr>\n",
       "    <tr>\n",
       "      <th>3</th>\n",
       "      <td>Bronx</td>\n",
       "      <td>Allerton/Pelham Gardens</td>\n",
       "      <td>Allerton/Pelham Gardens, Bronx</td>\n",
       "    </tr>\n",
       "    <tr>\n",
       "      <th>4</th>\n",
       "      <td>Manhattan</td>\n",
       "      <td>Alphabet City</td>\n",
       "      <td>Alphabet City, Manhattan</td>\n",
       "    </tr>\n",
       "    <tr>\n",
       "      <th>5</th>\n",
       "      <td>Staten Island</td>\n",
       "      <td>Arden Heights</td>\n",
       "      <td>Arden Heights, Staten Island</td>\n",
       "    </tr>\n",
       "  </tbody>\n",
       "</table>\n",
       "</div>"
      ],
      "text/plain": [
       "                  Borough                     Zone  \\\n",
       "LocationID                                           \n",
       "1                     EWR           Newark Airport   \n",
       "2                  Queens              Jamaica Bay   \n",
       "3                   Bronx  Allerton/Pelham Gardens   \n",
       "4               Manhattan            Alphabet City   \n",
       "5           Staten Island            Arden Heights   \n",
       "\n",
       "                             Location_name  \n",
       "LocationID                                  \n",
       "1                      Newark Airport, EWR  \n",
       "2                      Jamaica Bay, Queens  \n",
       "3           Allerton/Pelham Gardens, Bronx  \n",
       "4                 Alphabet City, Manhattan  \n",
       "5             Arden Heights, Staten Island  "
      ]
     },
     "execution_count": 21,
     "metadata": {},
     "output_type": "execute_result"
    }
   ],
   "source": [
    "Loc_ID.head(5)"
   ]
  },
  {
   "cell_type": "raw",
   "metadata": {},
   "source": []
  },
  {
   "cell_type": "markdown",
   "metadata": {},
   "source": [
    "# Citi bike data import and manipulation"
   ]
  },
  {
   "cell_type": "code",
   "execution_count": null,
   "metadata": {
    "collapsed": true
   },
   "outputs": [],
   "source": []
  },
  {
   "cell_type": "code",
   "execution_count": 22,
   "metadata": {
    "collapsed": true
   },
   "outputs": [],
   "source": [
    "#citibike = pd.read_csv('citibike2014Q4.csv')\n",
    "\n",
    "citibike2015Q1 = pd.read_csv('Citibike2015-Q1.csv')\n",
    "citibike2015Q2 = pd.read_csv('Citibike2015-Q2.csv')\n",
    "citibike = pd.concat([citibike2015Q1, citibike2015Q2])"
   ]
  },
  {
   "cell_type": "code",
   "execution_count": 23,
   "metadata": {
    "collapsed": false
   },
   "outputs": [
    {
     "data": {
      "text/html": [
       "<div>\n",
       "<table border=\"1\" class=\"dataframe\">\n",
       "  <thead>\n",
       "    <tr style=\"text-align: right;\">\n",
       "      <th></th>\n",
       "      <th>24-Hour Passes Purchased (midnight to 11:59 pm)</th>\n",
       "      <th>7-Day Passes Purchased (midnight to 11:59 pm)</th>\n",
       "      <th>Cumulative trips (since launch)</th>\n",
       "      <th>Cumulative trips (since launch):</th>\n",
       "      <th>Date</th>\n",
       "      <th>Miles traveled to date</th>\n",
       "      <th>Miles traveled to date:</th>\n",
       "      <th>Miles traveled today (midnight to 11:59 pm)</th>\n",
       "      <th>Total Annual Members (All Time)</th>\n",
       "      <th>Total Annual Memberships Sold</th>\n",
       "      <th>Trips over the past 24-hours (midnight to 11:59pm)</th>\n",
       "    </tr>\n",
       "  </thead>\n",
       "  <tbody>\n",
       "    <tr>\n",
       "      <th>0</th>\n",
       "      <td>267</td>\n",
       "      <td>11</td>\n",
       "      <td>NaN</td>\n",
       "      <td>15216843.0</td>\n",
       "      <td>1/1/2015</td>\n",
       "      <td>NaN</td>\n",
       "      <td>26055797.0</td>\n",
       "      <td>9191</td>\n",
       "      <td>127279.0</td>\n",
       "      <td>NaN</td>\n",
       "      <td>5792</td>\n",
       "    </tr>\n",
       "    <tr>\n",
       "      <th>1</th>\n",
       "      <td>298</td>\n",
       "      <td>8</td>\n",
       "      <td>NaN</td>\n",
       "      <td>15229214.0</td>\n",
       "      <td>1/2/2015</td>\n",
       "      <td>NaN</td>\n",
       "      <td>26074019.0</td>\n",
       "      <td>18222</td>\n",
       "      <td>127293.0</td>\n",
       "      <td>NaN</td>\n",
       "      <td>12371</td>\n",
       "    </tr>\n",
       "    <tr>\n",
       "      <th>2</th>\n",
       "      <td>96</td>\n",
       "      <td>7</td>\n",
       "      <td>NaN</td>\n",
       "      <td>15234048.0</td>\n",
       "      <td>1/3/2015</td>\n",
       "      <td>NaN</td>\n",
       "      <td>26080301.0</td>\n",
       "      <td>6282</td>\n",
       "      <td>127300.0</td>\n",
       "      <td>NaN</td>\n",
       "      <td>4834</td>\n",
       "    </tr>\n",
       "    <tr>\n",
       "      <th>3</th>\n",
       "      <td>152</td>\n",
       "      <td>5</td>\n",
       "      <td>NaN</td>\n",
       "      <td>15242557.0</td>\n",
       "      <td>1/4/2015</td>\n",
       "      <td>NaN</td>\n",
       "      <td>26092001.0</td>\n",
       "      <td>11700</td>\n",
       "      <td>127308.0</td>\n",
       "      <td>NaN</td>\n",
       "      <td>8509</td>\n",
       "    </tr>\n",
       "    <tr>\n",
       "      <th>4</th>\n",
       "      <td>88</td>\n",
       "      <td>12</td>\n",
       "      <td>NaN</td>\n",
       "      <td>15258349.0</td>\n",
       "      <td>1/5/2015</td>\n",
       "      <td>NaN</td>\n",
       "      <td>26112023.0</td>\n",
       "      <td>20022</td>\n",
       "      <td>127336.0</td>\n",
       "      <td>NaN</td>\n",
       "      <td>15792</td>\n",
       "    </tr>\n",
       "  </tbody>\n",
       "</table>\n",
       "</div>"
      ],
      "text/plain": [
       "   24-Hour Passes Purchased (midnight to 11:59 pm)  \\\n",
       "0                                              267   \n",
       "1                                              298   \n",
       "2                                               96   \n",
       "3                                              152   \n",
       "4                                               88   \n",
       "\n",
       "   7-Day Passes Purchased (midnight to 11:59 pm)  \\\n",
       "0                                             11   \n",
       "1                                              8   \n",
       "2                                              7   \n",
       "3                                              5   \n",
       "4                                             12   \n",
       "\n",
       "   Cumulative trips (since launch)  Cumulative trips (since launch):  \\\n",
       "0                              NaN                        15216843.0   \n",
       "1                              NaN                        15229214.0   \n",
       "2                              NaN                        15234048.0   \n",
       "3                              NaN                        15242557.0   \n",
       "4                              NaN                        15258349.0   \n",
       "\n",
       "       Date  Miles traveled to date  Miles traveled to date:  \\\n",
       "0  1/1/2015                     NaN               26055797.0   \n",
       "1  1/2/2015                     NaN               26074019.0   \n",
       "2  1/3/2015                     NaN               26080301.0   \n",
       "3  1/4/2015                     NaN               26092001.0   \n",
       "4  1/5/2015                     NaN               26112023.0   \n",
       "\n",
       "   Miles traveled today (midnight to 11:59 pm)  \\\n",
       "0                                         9191   \n",
       "1                                        18222   \n",
       "2                                         6282   \n",
       "3                                        11700   \n",
       "4                                        20022   \n",
       "\n",
       "   Total Annual Members (All Time)  Total Annual Memberships Sold  \\\n",
       "0                         127279.0                            NaN   \n",
       "1                         127293.0                            NaN   \n",
       "2                         127300.0                            NaN   \n",
       "3                         127308.0                            NaN   \n",
       "4                         127336.0                            NaN   \n",
       "\n",
       "   Trips over the past 24-hours (midnight to 11:59pm)  \n",
       "0                                               5792   \n",
       "1                                              12371   \n",
       "2                                               4834   \n",
       "3                                               8509   \n",
       "4                                              15792   "
      ]
     },
     "execution_count": 23,
     "metadata": {},
     "output_type": "execute_result"
    }
   ],
   "source": [
    "citibike.head(5)"
   ]
  },
  {
   "cell_type": "code",
   "execution_count": 24,
   "metadata": {
    "collapsed": false
   },
   "outputs": [],
   "source": [
    "Jan = pd.read_csv('201501-citibike-tripdata.csv')\n",
    "Feb = pd.read_csv('201502-citibike-tripdata.csv')\n",
    "Mar = pd.read_csv('201503-citibike-tripdata.csv')\n",
    "Apr = pd.read_csv('201504-citibike-tripdata.csv')\n",
    "May = pd.read_csv('201505-citibike-tripdata.csv')"
   ]
  },
  {
   "cell_type": "code",
   "execution_count": 25,
   "metadata": {
    "collapsed": true
   },
   "outputs": [],
   "source": [
    "citibike_trip = pd.concat([Jan,Feb,Mar,Apr,May])"
   ]
  },
  {
   "cell_type": "code",
   "execution_count": 26,
   "metadata": {
    "collapsed": false
   },
   "outputs": [
    {
     "data": {
      "text/html": [
       "<div>\n",
       "<table border=\"1\" class=\"dataframe\">\n",
       "  <thead>\n",
       "    <tr style=\"text-align: right;\">\n",
       "      <th></th>\n",
       "      <th>tripduration</th>\n",
       "      <th>starttime</th>\n",
       "      <th>stoptime</th>\n",
       "      <th>start station id</th>\n",
       "      <th>start station name</th>\n",
       "      <th>start station latitude</th>\n",
       "      <th>start station longitude</th>\n",
       "      <th>end station id</th>\n",
       "      <th>end station name</th>\n",
       "      <th>end station latitude</th>\n",
       "      <th>end station longitude</th>\n",
       "      <th>bikeid</th>\n",
       "      <th>usertype</th>\n",
       "      <th>birth year</th>\n",
       "      <th>gender</th>\n",
       "    </tr>\n",
       "  </thead>\n",
       "  <tbody>\n",
       "    <tr>\n",
       "      <th>0</th>\n",
       "      <td>1346</td>\n",
       "      <td>1/1/2015 0:01</td>\n",
       "      <td>1/1/2015 0:24</td>\n",
       "      <td>455</td>\n",
       "      <td>1 Ave &amp; E 44 St</td>\n",
       "      <td>40.750020</td>\n",
       "      <td>-73.969053</td>\n",
       "      <td>265</td>\n",
       "      <td>Stanton St &amp; Chrystie St</td>\n",
       "      <td>40.722293</td>\n",
       "      <td>-73.991475</td>\n",
       "      <td>18660</td>\n",
       "      <td>Subscriber</td>\n",
       "      <td>1960.0</td>\n",
       "      <td>2</td>\n",
       "    </tr>\n",
       "    <tr>\n",
       "      <th>1</th>\n",
       "      <td>363</td>\n",
       "      <td>1/1/2015 0:02</td>\n",
       "      <td>1/1/2015 0:08</td>\n",
       "      <td>434</td>\n",
       "      <td>9 Ave &amp; W 18 St</td>\n",
       "      <td>40.743174</td>\n",
       "      <td>-74.003664</td>\n",
       "      <td>482</td>\n",
       "      <td>W 15 St &amp; 7 Ave</td>\n",
       "      <td>40.739355</td>\n",
       "      <td>-73.999318</td>\n",
       "      <td>16085</td>\n",
       "      <td>Subscriber</td>\n",
       "      <td>1963.0</td>\n",
       "      <td>1</td>\n",
       "    </tr>\n",
       "    <tr>\n",
       "      <th>2</th>\n",
       "      <td>346</td>\n",
       "      <td>1/1/2015 0:04</td>\n",
       "      <td>1/1/2015 0:10</td>\n",
       "      <td>491</td>\n",
       "      <td>E 24 St &amp; Park Ave S</td>\n",
       "      <td>40.740964</td>\n",
       "      <td>-73.986022</td>\n",
       "      <td>505</td>\n",
       "      <td>6 Ave &amp; W 33 St</td>\n",
       "      <td>40.749013</td>\n",
       "      <td>-73.988484</td>\n",
       "      <td>20845</td>\n",
       "      <td>Subscriber</td>\n",
       "      <td>1974.0</td>\n",
       "      <td>1</td>\n",
       "    </tr>\n",
       "    <tr>\n",
       "      <th>3</th>\n",
       "      <td>182</td>\n",
       "      <td>1/1/2015 0:04</td>\n",
       "      <td>1/1/2015 0:07</td>\n",
       "      <td>384</td>\n",
       "      <td>Fulton St &amp; Waverly Ave</td>\n",
       "      <td>40.683178</td>\n",
       "      <td>-73.965964</td>\n",
       "      <td>399</td>\n",
       "      <td>Lafayette Ave &amp; St James Pl</td>\n",
       "      <td>40.688515</td>\n",
       "      <td>-73.964763</td>\n",
       "      <td>19610</td>\n",
       "      <td>Subscriber</td>\n",
       "      <td>1969.0</td>\n",
       "      <td>1</td>\n",
       "    </tr>\n",
       "    <tr>\n",
       "      <th>4</th>\n",
       "      <td>969</td>\n",
       "      <td>1/1/2015 0:05</td>\n",
       "      <td>1/1/2015 0:21</td>\n",
       "      <td>474</td>\n",
       "      <td>5 Ave &amp; E 29 St</td>\n",
       "      <td>40.745168</td>\n",
       "      <td>-73.986831</td>\n",
       "      <td>432</td>\n",
       "      <td>E 7 St &amp; Avenue A</td>\n",
       "      <td>40.726218</td>\n",
       "      <td>-73.983799</td>\n",
       "      <td>20197</td>\n",
       "      <td>Subscriber</td>\n",
       "      <td>1977.0</td>\n",
       "      <td>1</td>\n",
       "    </tr>\n",
       "  </tbody>\n",
       "</table>\n",
       "</div>"
      ],
      "text/plain": [
       "   tripduration      starttime       stoptime  start station id  \\\n",
       "0          1346  1/1/2015 0:01  1/1/2015 0:24               455   \n",
       "1           363  1/1/2015 0:02  1/1/2015 0:08               434   \n",
       "2           346  1/1/2015 0:04  1/1/2015 0:10               491   \n",
       "3           182  1/1/2015 0:04  1/1/2015 0:07               384   \n",
       "4           969  1/1/2015 0:05  1/1/2015 0:21               474   \n",
       "\n",
       "        start station name  start station latitude  start station longitude  \\\n",
       "0          1 Ave & E 44 St               40.750020               -73.969053   \n",
       "1          9 Ave & W 18 St               40.743174               -74.003664   \n",
       "2     E 24 St & Park Ave S               40.740964               -73.986022   \n",
       "3  Fulton St & Waverly Ave               40.683178               -73.965964   \n",
       "4          5 Ave & E 29 St               40.745168               -73.986831   \n",
       "\n",
       "   end station id             end station name  end station latitude  \\\n",
       "0             265     Stanton St & Chrystie St             40.722293   \n",
       "1             482              W 15 St & 7 Ave             40.739355   \n",
       "2             505              6 Ave & W 33 St             40.749013   \n",
       "3             399  Lafayette Ave & St James Pl             40.688515   \n",
       "4             432            E 7 St & Avenue A             40.726218   \n",
       "\n",
       "   end station longitude  bikeid    usertype  birth year  gender  \n",
       "0             -73.991475   18660  Subscriber      1960.0       2  \n",
       "1             -73.999318   16085  Subscriber      1963.0       1  \n",
       "2             -73.988484   20845  Subscriber      1974.0       1  \n",
       "3             -73.964763   19610  Subscriber      1969.0       1  \n",
       "4             -73.983799   20197  Subscriber      1977.0       1  "
      ]
     },
     "execution_count": 26,
     "metadata": {},
     "output_type": "execute_result"
    }
   ],
   "source": [
    "citibike_trip.head(5)"
   ]
  },
  {
   "cell_type": "code",
   "execution_count": 100,
   "metadata": {
    "collapsed": true
   },
   "outputs": [],
   "source": [
    "def parseDate(dateStr):\n",
    "    dateStr=str(dateStr)\n",
    "    return(dateStr.split(' '))"
   ]
  },
  {
   "cell_type": "code",
   "execution_count": 101,
   "metadata": {
    "collapsed": false
   },
   "outputs": [
    {
     "data": {
      "text/plain": [
       "['1/1/2015', '0:04']"
      ]
     },
     "execution_count": 101,
     "metadata": {},
     "output_type": "execute_result"
    }
   ],
   "source": [
    "parseDate('1/1/2015 0:04')"
   ]
  },
  {
   "cell_type": "code",
   "execution_count": 99,
   "metadata": {
    "collapsed": false
   },
   "outputs": [
    {
     "ename": "ValueError",
     "evalue": "unconverted data remains: :23",
     "output_type": "error",
     "traceback": [
      "\u001b[1;31m\u001b[0m",
      "\u001b[1;31mTypeError\u001b[0mTraceback (most recent call last)",
      "\u001b[1;32mC:\\Users\\Charlotte\\Anaconda31\\lib\\site-packages\\pandas\\tseries\\tools.py\u001b[0m in \u001b[0;36m_convert_listlike\u001b[1;34m(arg, box, format, name)\u001b[0m\n\u001b[0;32m    408\u001b[0m             \u001b[1;32mtry\u001b[0m\u001b[1;33m:\u001b[0m\u001b[1;33m\u001b[0m\u001b[0m\n\u001b[1;32m--> 409\u001b[1;33m                 \u001b[0mvalues\u001b[0m\u001b[1;33m,\u001b[0m \u001b[0mtz\u001b[0m \u001b[1;33m=\u001b[0m \u001b[0mtslib\u001b[0m\u001b[1;33m.\u001b[0m\u001b[0mdatetime_to_datetime64\u001b[0m\u001b[1;33m(\u001b[0m\u001b[0marg\u001b[0m\u001b[1;33m)\u001b[0m\u001b[1;33m\u001b[0m\u001b[0m\n\u001b[0m\u001b[0;32m    410\u001b[0m                 \u001b[1;32mreturn\u001b[0m \u001b[0mDatetimeIndex\u001b[0m\u001b[1;33m.\u001b[0m\u001b[0m_simple_new\u001b[0m\u001b[1;33m(\u001b[0m\u001b[0mvalues\u001b[0m\u001b[1;33m,\u001b[0m \u001b[0mname\u001b[0m\u001b[1;33m=\u001b[0m\u001b[0mname\u001b[0m\u001b[1;33m,\u001b[0m \u001b[0mtz\u001b[0m\u001b[1;33m=\u001b[0m\u001b[0mtz\u001b[0m\u001b[1;33m)\u001b[0m\u001b[1;33m\u001b[0m\u001b[0m\n",
      "\u001b[1;32mpandas\\tslib.pyx\u001b[0m in \u001b[0;36mpandas.tslib.datetime_to_datetime64 (pandas\\tslib.c:29768)\u001b[1;34m()\u001b[0m\n",
      "\u001b[1;31mTypeError\u001b[0m: Unrecognized value type: <class 'str'>",
      "\nDuring handling of the above exception, another exception occurred:\n",
      "\u001b[1;31mValueError\u001b[0mTraceback (most recent call last)",
      "\u001b[1;32m<ipython-input-99-b9bc4c9ecc26>\u001b[0m in \u001b[0;36m<module>\u001b[1;34m()\u001b[0m\n\u001b[0;32m      1\u001b[0m \u001b[1;31m#clean up the Date column- new df\u001b[0m\u001b[1;33m\u001b[0m\u001b[1;33m\u001b[0m\u001b[0m\n\u001b[0;32m      2\u001b[0m \u001b[0mtotal_bikes\u001b[0m\u001b[1;33m=\u001b[0m\u001b[0mpd\u001b[0m\u001b[1;33m.\u001b[0m\u001b[0mDataFrame\u001b[0m\u001b[1;33m(\u001b[0m\u001b[0mcitibike_trip\u001b[0m\u001b[1;33m[\u001b[0m\u001b[1;34m'starttime'\u001b[0m\u001b[1;33m]\u001b[0m\u001b[1;33m)\u001b[0m\u001b[1;33m\u001b[0m\u001b[0m\n\u001b[1;32m----> 3\u001b[1;33m \u001b[0mtotal_bikes\u001b[0m\u001b[1;33m[\u001b[0m\u001b[1;34m'starttime'\u001b[0m\u001b[1;33m]\u001b[0m \u001b[1;33m=\u001b[0m \u001b[0mpd\u001b[0m\u001b[1;33m.\u001b[0m\u001b[0mto_datetime\u001b[0m\u001b[1;33m(\u001b[0m\u001b[0mtotal_bikes\u001b[0m\u001b[1;33m[\u001b[0m\u001b[1;34m'starttime'\u001b[0m\u001b[1;33m]\u001b[0m\u001b[1;33m,\u001b[0m\u001b[0mformat\u001b[0m\u001b[1;33m=\u001b[0m\u001b[1;34m'%m/%d/%Y %M:%S'\u001b[0m\u001b[1;33m)\u001b[0m\u001b[1;33m\u001b[0m\u001b[0m\n\u001b[0m\u001b[0;32m      4\u001b[0m \u001b[1;31m#total_bikes['starttime'] = total_bikes['starttime'].map(lambda t: t.split(' '))\u001b[0m\u001b[1;33m\u001b[0m\u001b[1;33m\u001b[0m\u001b[0m\n\u001b[0;32m      5\u001b[0m \u001b[1;31m#total_bikes.head(5)\u001b[0m\u001b[1;33m\u001b[0m\u001b[1;33m\u001b[0m\u001b[0m\n",
      "\u001b[1;32mC:\\Users\\Charlotte\\Anaconda31\\lib\\site-packages\\pandas\\util\\decorators.py\u001b[0m in \u001b[0;36mwrapper\u001b[1;34m(*args, **kwargs)\u001b[0m\n\u001b[0;32m     89\u001b[0m                 \u001b[1;32melse\u001b[0m\u001b[1;33m:\u001b[0m\u001b[1;33m\u001b[0m\u001b[0m\n\u001b[0;32m     90\u001b[0m                     \u001b[0mkwargs\u001b[0m\u001b[1;33m[\u001b[0m\u001b[0mnew_arg_name\u001b[0m\u001b[1;33m]\u001b[0m \u001b[1;33m=\u001b[0m \u001b[0mnew_arg_value\u001b[0m\u001b[1;33m\u001b[0m\u001b[0m\n\u001b[1;32m---> 91\u001b[1;33m             \u001b[1;32mreturn\u001b[0m \u001b[0mfunc\u001b[0m\u001b[1;33m(\u001b[0m\u001b[1;33m*\u001b[0m\u001b[0margs\u001b[0m\u001b[1;33m,\u001b[0m \u001b[1;33m**\u001b[0m\u001b[0mkwargs\u001b[0m\u001b[1;33m)\u001b[0m\u001b[1;33m\u001b[0m\u001b[0m\n\u001b[0m\u001b[0;32m     92\u001b[0m         \u001b[1;32mreturn\u001b[0m \u001b[0mwrapper\u001b[0m\u001b[1;33m\u001b[0m\u001b[0m\n\u001b[0;32m     93\u001b[0m     \u001b[1;32mreturn\u001b[0m \u001b[0m_deprecate_kwarg\u001b[0m\u001b[1;33m\u001b[0m\u001b[0m\n",
      "\u001b[1;32mC:\\Users\\Charlotte\\Anaconda31\\lib\\site-packages\\pandas\\tseries\\tools.py\u001b[0m in \u001b[0;36mto_datetime\u001b[1;34m(arg, errors, dayfirst, yearfirst, utc, box, format, exact, coerce, unit, infer_datetime_format)\u001b[0m\n\u001b[0;32m    289\u001b[0m                         \u001b[0myearfirst\u001b[0m\u001b[1;33m=\u001b[0m\u001b[0myearfirst\u001b[0m\u001b[1;33m,\u001b[0m\u001b[1;33m\u001b[0m\u001b[0m\n\u001b[0;32m    290\u001b[0m                         \u001b[0mutc\u001b[0m\u001b[1;33m=\u001b[0m\u001b[0mutc\u001b[0m\u001b[1;33m,\u001b[0m \u001b[0mbox\u001b[0m\u001b[1;33m=\u001b[0m\u001b[0mbox\u001b[0m\u001b[1;33m,\u001b[0m \u001b[0mformat\u001b[0m\u001b[1;33m=\u001b[0m\u001b[0mformat\u001b[0m\u001b[1;33m,\u001b[0m \u001b[0mexact\u001b[0m\u001b[1;33m=\u001b[0m\u001b[0mexact\u001b[0m\u001b[1;33m,\u001b[0m\u001b[1;33m\u001b[0m\u001b[0m\n\u001b[1;32m--> 291\u001b[1;33m                         unit=unit, infer_datetime_format=infer_datetime_format)\n\u001b[0m\u001b[0;32m    292\u001b[0m \u001b[1;33m\u001b[0m\u001b[0m\n\u001b[0;32m    293\u001b[0m \u001b[1;33m\u001b[0m\u001b[0m\n",
      "\u001b[1;32mC:\\Users\\Charlotte\\Anaconda31\\lib\\site-packages\\pandas\\tseries\\tools.py\u001b[0m in \u001b[0;36m_to_datetime\u001b[1;34m(arg, errors, dayfirst, yearfirst, utc, box, format, exact, unit, freq, infer_datetime_format)\u001b[0m\n\u001b[0;32m    418\u001b[0m     \u001b[1;32melif\u001b[0m \u001b[0misinstance\u001b[0m\u001b[1;33m(\u001b[0m\u001b[0marg\u001b[0m\u001b[1;33m,\u001b[0m \u001b[0mABCSeries\u001b[0m\u001b[1;33m)\u001b[0m\u001b[1;33m:\u001b[0m\u001b[1;33m\u001b[0m\u001b[0m\n\u001b[0;32m    419\u001b[0m         \u001b[1;32mfrom\u001b[0m \u001b[0mpandas\u001b[0m \u001b[1;32mimport\u001b[0m \u001b[0mSeries\u001b[0m\u001b[1;33m\u001b[0m\u001b[0m\n\u001b[1;32m--> 420\u001b[1;33m         \u001b[0mvalues\u001b[0m \u001b[1;33m=\u001b[0m \u001b[0m_convert_listlike\u001b[0m\u001b[1;33m(\u001b[0m\u001b[0marg\u001b[0m\u001b[1;33m.\u001b[0m\u001b[0m_values\u001b[0m\u001b[1;33m,\u001b[0m \u001b[1;32mFalse\u001b[0m\u001b[1;33m,\u001b[0m \u001b[0mformat\u001b[0m\u001b[1;33m)\u001b[0m\u001b[1;33m\u001b[0m\u001b[0m\n\u001b[0m\u001b[0;32m    421\u001b[0m         \u001b[1;32mreturn\u001b[0m \u001b[0mSeries\u001b[0m\u001b[1;33m(\u001b[0m\u001b[0mvalues\u001b[0m\u001b[1;33m,\u001b[0m \u001b[0mindex\u001b[0m\u001b[1;33m=\u001b[0m\u001b[0marg\u001b[0m\u001b[1;33m.\u001b[0m\u001b[0mindex\u001b[0m\u001b[1;33m,\u001b[0m \u001b[0mname\u001b[0m\u001b[1;33m=\u001b[0m\u001b[0marg\u001b[0m\u001b[1;33m.\u001b[0m\u001b[0mname\u001b[0m\u001b[1;33m)\u001b[0m\u001b[1;33m\u001b[0m\u001b[0m\n\u001b[0;32m    422\u001b[0m     \u001b[1;32melif\u001b[0m \u001b[0misinstance\u001b[0m\u001b[1;33m(\u001b[0m\u001b[0marg\u001b[0m\u001b[1;33m,\u001b[0m \u001b[1;33m(\u001b[0m\u001b[0mABCDataFrame\u001b[0m\u001b[1;33m,\u001b[0m \u001b[0mMutableMapping\u001b[0m\u001b[1;33m)\u001b[0m\u001b[1;33m)\u001b[0m\u001b[1;33m:\u001b[0m\u001b[1;33m\u001b[0m\u001b[0m\n",
      "\u001b[1;32mC:\\Users\\Charlotte\\Anaconda31\\lib\\site-packages\\pandas\\tseries\\tools.py\u001b[0m in \u001b[0;36m_convert_listlike\u001b[1;34m(arg, box, format, name)\u001b[0m\n\u001b[0;32m    410\u001b[0m                 \u001b[1;32mreturn\u001b[0m \u001b[0mDatetimeIndex\u001b[0m\u001b[1;33m.\u001b[0m\u001b[0m_simple_new\u001b[0m\u001b[1;33m(\u001b[0m\u001b[0mvalues\u001b[0m\u001b[1;33m,\u001b[0m \u001b[0mname\u001b[0m\u001b[1;33m=\u001b[0m\u001b[0mname\u001b[0m\u001b[1;33m,\u001b[0m \u001b[0mtz\u001b[0m\u001b[1;33m=\u001b[0m\u001b[0mtz\u001b[0m\u001b[1;33m)\u001b[0m\u001b[1;33m\u001b[0m\u001b[0m\n\u001b[0;32m    411\u001b[0m             \u001b[1;32mexcept\u001b[0m \u001b[1;33m(\u001b[0m\u001b[0mValueError\u001b[0m\u001b[1;33m,\u001b[0m \u001b[0mTypeError\u001b[0m\u001b[1;33m)\u001b[0m\u001b[1;33m:\u001b[0m\u001b[1;33m\u001b[0m\u001b[0m\n\u001b[1;32m--> 412\u001b[1;33m                 \u001b[1;32mraise\u001b[0m \u001b[0me\u001b[0m\u001b[1;33m\u001b[0m\u001b[0m\n\u001b[0m\u001b[0;32m    413\u001b[0m \u001b[1;33m\u001b[0m\u001b[0m\n\u001b[0;32m    414\u001b[0m     \u001b[1;32mif\u001b[0m \u001b[0marg\u001b[0m \u001b[1;32mis\u001b[0m \u001b[1;32mNone\u001b[0m\u001b[1;33m:\u001b[0m\u001b[1;33m\u001b[0m\u001b[0m\n",
      "\u001b[1;32mC:\\Users\\Charlotte\\Anaconda31\\lib\\site-packages\\pandas\\tseries\\tools.py\u001b[0m in \u001b[0;36m_convert_listlike\u001b[1;34m(arg, box, format, name)\u001b[0m\n\u001b[0;32m    374\u001b[0m                     \u001b[1;32mtry\u001b[0m\u001b[1;33m:\u001b[0m\u001b[1;33m\u001b[0m\u001b[0m\n\u001b[0;32m    375\u001b[0m                         result = tslib.array_strptime(\n\u001b[1;32m--> 376\u001b[1;33m                             arg, format, exact=exact, errors=errors)\n\u001b[0m\u001b[0;32m    377\u001b[0m                     \u001b[1;32mexcept\u001b[0m \u001b[0mtslib\u001b[0m\u001b[1;33m.\u001b[0m\u001b[0mOutOfBoundsDatetime\u001b[0m\u001b[1;33m:\u001b[0m\u001b[1;33m\u001b[0m\u001b[0m\n\u001b[0;32m    378\u001b[0m                         \u001b[1;32mif\u001b[0m \u001b[0merrors\u001b[0m \u001b[1;33m==\u001b[0m \u001b[1;34m'raise'\u001b[0m\u001b[1;33m:\u001b[0m\u001b[1;33m\u001b[0m\u001b[0m\n",
      "\u001b[1;32mpandas\\tslib.pyx\u001b[0m in \u001b[0;36mpandas.tslib.array_strptime (pandas\\tslib.c:57860)\u001b[1;34m()\u001b[0m\n",
      "\u001b[1;31mValueError\u001b[0m: unconverted data remains: :23"
     ]
    }
   ],
   "source": [
    "#clean up the Date column- new df\n",
    "total_bikes=pd.DataFrame(citibike_trip['starttime'])\n",
    "total_bikes['starttime'] = pd.to_datetime(total_bikes['starttime'],format='%m/%d/%Y %M:%S')\n",
    "#total_bikes['starttime'] = total_bikes['starttime'].map(lambda t: t.split(' '))\n",
    "#total_bikes.head(5)\n"
   ]
  },
  {
   "cell_type": "markdown",
   "metadata": {},
   "source": [
    "# Weather data import and manipulation "
   ]
  },
  {
   "cell_type": "code",
   "execution_count": 27,
   "metadata": {
    "collapsed": false
   },
   "outputs": [
    {
     "data": {
      "text/html": [
       "<div>\n",
       "<table border=\"1\" class=\"dataframe\">\n",
       "  <thead>\n",
       "    <tr style=\"text-align: right;\">\n",
       "      <th></th>\n",
       "      <th>STATION_NAME</th>\n",
       "      <th>DATE</th>\n",
       "      <th>MDPR</th>\n",
       "      <th>DAPR</th>\n",
       "      <th>PRCP</th>\n",
       "      <th>SNWD</th>\n",
       "      <th>SNOW</th>\n",
       "      <th>TAVG</th>\n",
       "      <th>TMAX</th>\n",
       "      <th>TMIN</th>\n",
       "      <th>...</th>\n",
       "      <th>PGTM</th>\n",
       "      <th>WT09</th>\n",
       "      <th>WT01</th>\n",
       "      <th>WT06</th>\n",
       "      <th>WT05</th>\n",
       "      <th>WT02</th>\n",
       "      <th>WT11</th>\n",
       "      <th>WT04</th>\n",
       "      <th>WT08</th>\n",
       "      <th>WT03</th>\n",
       "    </tr>\n",
       "  </thead>\n",
       "  <tbody>\n",
       "    <tr>\n",
       "      <th>18703</th>\n",
       "      <td>NY CITY CENTRAL PARK NY US</td>\n",
       "      <td>20150101</td>\n",
       "      <td>-9999.0</td>\n",
       "      <td>-9999</td>\n",
       "      <td>0.0</td>\n",
       "      <td>0.0</td>\n",
       "      <td>0.0</td>\n",
       "      <td>None</td>\n",
       "      <td>39</td>\n",
       "      <td>27</td>\n",
       "      <td>...</td>\n",
       "      <td>-9999</td>\n",
       "      <td>-9999</td>\n",
       "      <td>-9999</td>\n",
       "      <td>-9999</td>\n",
       "      <td>-9999</td>\n",
       "      <td>-9999</td>\n",
       "      <td>-9999</td>\n",
       "      <td>-9999</td>\n",
       "      <td>-9999</td>\n",
       "      <td>-9999</td>\n",
       "    </tr>\n",
       "    <tr>\n",
       "      <th>18704</th>\n",
       "      <td>NY CITY CENTRAL PARK NY US</td>\n",
       "      <td>20150102</td>\n",
       "      <td>-9999.0</td>\n",
       "      <td>-9999</td>\n",
       "      <td>0.0</td>\n",
       "      <td>0.0</td>\n",
       "      <td>0.0</td>\n",
       "      <td>None</td>\n",
       "      <td>42</td>\n",
       "      <td>35</td>\n",
       "      <td>...</td>\n",
       "      <td>-9999</td>\n",
       "      <td>-9999</td>\n",
       "      <td>-9999</td>\n",
       "      <td>-9999</td>\n",
       "      <td>-9999</td>\n",
       "      <td>-9999</td>\n",
       "      <td>-9999</td>\n",
       "      <td>-9999</td>\n",
       "      <td>-9999</td>\n",
       "      <td>-9999</td>\n",
       "    </tr>\n",
       "  </tbody>\n",
       "</table>\n",
       "<p>2 rows × 28 columns</p>\n",
       "</div>"
      ],
      "text/plain": [
       "                     STATION_NAME      DATE    MDPR  DAPR  PRCP  SNWD  SNOW  \\\n",
       "18703  NY CITY CENTRAL PARK NY US  20150101 -9999.0 -9999   0.0   0.0   0.0   \n",
       "18704  NY CITY CENTRAL PARK NY US  20150102 -9999.0 -9999   0.0   0.0   0.0   \n",
       "\n",
       "       TAVG  TMAX  TMIN  ...   PGTM  WT09  WT01  WT06  WT05  WT02  WT11  WT04  \\\n",
       "18703  None    39    27  ...  -9999 -9999 -9999 -9999 -9999 -9999 -9999 -9999   \n",
       "18704  None    42    35  ...  -9999 -9999 -9999 -9999 -9999 -9999 -9999 -9999   \n",
       "\n",
       "       WT08  WT03  \n",
       "18703 -9999 -9999  \n",
       "18704 -9999 -9999  \n",
       "\n",
       "[2 rows x 28 columns]"
      ]
     },
     "execution_count": 27,
     "metadata": {},
     "output_type": "execute_result"
    }
   ],
   "source": [
    "os.chdir(dir_str)\n",
    "weatherData2015 = pd.read_csv('2015WeatherData.csv')\n",
    "#Only looking at central park data\n",
    "weatherData2015 = weatherData2015[(weatherData2015['STATION_NAME'] == 'NY CITY CENTRAL PARK NY US')]\n",
    "\n",
    "weatherData2015['TAVG'] = weatherData2015['TAVG'].map(lambda x: x if x > -100 else None)\n",
    "del weatherData2015['STATION']\n",
    "\n",
    "weatherData2015.head(2)"
   ]
  },
  {
   "cell_type": "code",
   "execution_count": 28,
   "metadata": {
    "collapsed": false
   },
   "outputs": [],
   "source": [
    "#clean up the Date column\n",
    "weatherData2015['DATE'] = pd.to_datetime(weatherData2015['DATE'],format='%Y%m%d')\n",
    "weatherData2015['DATE'] = pd.to_datetime(weatherData2015['DATE'], format='%m-%d-%Y')\n",
    "weatherData2015['DATE'] = weatherData2015['DATE'].map(lambda t: t.strftime('%m-%d-%Y'))\n"
   ]
  },
  {
   "cell_type": "code",
   "execution_count": 29,
   "metadata": {
    "collapsed": false
   },
   "outputs": [
    {
     "data": {
      "text/html": [
       "<div>\n",
       "<table border=\"1\" class=\"dataframe\">\n",
       "  <thead>\n",
       "    <tr style=\"text-align: right;\">\n",
       "      <th></th>\n",
       "      <th>STATION_NAME</th>\n",
       "      <th>DATE</th>\n",
       "      <th>MDPR</th>\n",
       "      <th>DAPR</th>\n",
       "      <th>PRCP</th>\n",
       "      <th>SNWD</th>\n",
       "      <th>SNOW</th>\n",
       "      <th>TAVG</th>\n",
       "      <th>TMAX</th>\n",
       "      <th>TMIN</th>\n",
       "      <th>...</th>\n",
       "      <th>PGTM</th>\n",
       "      <th>WT09</th>\n",
       "      <th>WT01</th>\n",
       "      <th>WT06</th>\n",
       "      <th>WT05</th>\n",
       "      <th>WT02</th>\n",
       "      <th>WT11</th>\n",
       "      <th>WT04</th>\n",
       "      <th>WT08</th>\n",
       "      <th>WT03</th>\n",
       "    </tr>\n",
       "  </thead>\n",
       "  <tbody>\n",
       "    <tr>\n",
       "      <th>18703</th>\n",
       "      <td>NY CITY CENTRAL PARK NY US</td>\n",
       "      <td>01-01-2015</td>\n",
       "      <td>-9999.0</td>\n",
       "      <td>-9999</td>\n",
       "      <td>0.00</td>\n",
       "      <td>0.0</td>\n",
       "      <td>0.0</td>\n",
       "      <td>None</td>\n",
       "      <td>39</td>\n",
       "      <td>27</td>\n",
       "      <td>...</td>\n",
       "      <td>-9999</td>\n",
       "      <td>-9999</td>\n",
       "      <td>-9999</td>\n",
       "      <td>-9999</td>\n",
       "      <td>-9999</td>\n",
       "      <td>-9999</td>\n",
       "      <td>-9999</td>\n",
       "      <td>-9999</td>\n",
       "      <td>-9999</td>\n",
       "      <td>-9999</td>\n",
       "    </tr>\n",
       "    <tr>\n",
       "      <th>18704</th>\n",
       "      <td>NY CITY CENTRAL PARK NY US</td>\n",
       "      <td>01-02-2015</td>\n",
       "      <td>-9999.0</td>\n",
       "      <td>-9999</td>\n",
       "      <td>0.00</td>\n",
       "      <td>0.0</td>\n",
       "      <td>0.0</td>\n",
       "      <td>None</td>\n",
       "      <td>42</td>\n",
       "      <td>35</td>\n",
       "      <td>...</td>\n",
       "      <td>-9999</td>\n",
       "      <td>-9999</td>\n",
       "      <td>-9999</td>\n",
       "      <td>-9999</td>\n",
       "      <td>-9999</td>\n",
       "      <td>-9999</td>\n",
       "      <td>-9999</td>\n",
       "      <td>-9999</td>\n",
       "      <td>-9999</td>\n",
       "      <td>-9999</td>\n",
       "    </tr>\n",
       "    <tr>\n",
       "      <th>18705</th>\n",
       "      <td>NY CITY CENTRAL PARK NY US</td>\n",
       "      <td>01-03-2015</td>\n",
       "      <td>-9999.0</td>\n",
       "      <td>-9999</td>\n",
       "      <td>0.71</td>\n",
       "      <td>0.0</td>\n",
       "      <td>0.0</td>\n",
       "      <td>None</td>\n",
       "      <td>42</td>\n",
       "      <td>33</td>\n",
       "      <td>...</td>\n",
       "      <td>-9999</td>\n",
       "      <td>-9999</td>\n",
       "      <td>1</td>\n",
       "      <td>-9999</td>\n",
       "      <td>-9999</td>\n",
       "      <td>-9999</td>\n",
       "      <td>-9999</td>\n",
       "      <td>-9999</td>\n",
       "      <td>1</td>\n",
       "      <td>-9999</td>\n",
       "    </tr>\n",
       "    <tr>\n",
       "      <th>18706</th>\n",
       "      <td>NY CITY CENTRAL PARK NY US</td>\n",
       "      <td>01-04-2015</td>\n",
       "      <td>-9999.0</td>\n",
       "      <td>-9999</td>\n",
       "      <td>0.30</td>\n",
       "      <td>0.0</td>\n",
       "      <td>0.0</td>\n",
       "      <td>None</td>\n",
       "      <td>56</td>\n",
       "      <td>41</td>\n",
       "      <td>...</td>\n",
       "      <td>-9999</td>\n",
       "      <td>-9999</td>\n",
       "      <td>1</td>\n",
       "      <td>-9999</td>\n",
       "      <td>-9999</td>\n",
       "      <td>-9999</td>\n",
       "      <td>-9999</td>\n",
       "      <td>-9999</td>\n",
       "      <td>-9999</td>\n",
       "      <td>-9999</td>\n",
       "    </tr>\n",
       "    <tr>\n",
       "      <th>18707</th>\n",
       "      <td>NY CITY CENTRAL PARK NY US</td>\n",
       "      <td>01-05-2015</td>\n",
       "      <td>-9999.0</td>\n",
       "      <td>-9999</td>\n",
       "      <td>0.00</td>\n",
       "      <td>0.0</td>\n",
       "      <td>0.0</td>\n",
       "      <td>None</td>\n",
       "      <td>49</td>\n",
       "      <td>21</td>\n",
       "      <td>...</td>\n",
       "      <td>-9999</td>\n",
       "      <td>-9999</td>\n",
       "      <td>-9999</td>\n",
       "      <td>-9999</td>\n",
       "      <td>-9999</td>\n",
       "      <td>-9999</td>\n",
       "      <td>-9999</td>\n",
       "      <td>-9999</td>\n",
       "      <td>-9999</td>\n",
       "      <td>-9999</td>\n",
       "    </tr>\n",
       "  </tbody>\n",
       "</table>\n",
       "<p>5 rows × 28 columns</p>\n",
       "</div>"
      ],
      "text/plain": [
       "                     STATION_NAME        DATE    MDPR  DAPR  PRCP  SNWD  SNOW  \\\n",
       "18703  NY CITY CENTRAL PARK NY US  01-01-2015 -9999.0 -9999  0.00   0.0   0.0   \n",
       "18704  NY CITY CENTRAL PARK NY US  01-02-2015 -9999.0 -9999  0.00   0.0   0.0   \n",
       "18705  NY CITY CENTRAL PARK NY US  01-03-2015 -9999.0 -9999  0.71   0.0   0.0   \n",
       "18706  NY CITY CENTRAL PARK NY US  01-04-2015 -9999.0 -9999  0.30   0.0   0.0   \n",
       "18707  NY CITY CENTRAL PARK NY US  01-05-2015 -9999.0 -9999  0.00   0.0   0.0   \n",
       "\n",
       "       TAVG  TMAX  TMIN  ...   PGTM  WT09  WT01  WT06  WT05  WT02  WT11  WT04  \\\n",
       "18703  None    39    27  ...  -9999 -9999 -9999 -9999 -9999 -9999 -9999 -9999   \n",
       "18704  None    42    35  ...  -9999 -9999 -9999 -9999 -9999 -9999 -9999 -9999   \n",
       "18705  None    42    33  ...  -9999 -9999     1 -9999 -9999 -9999 -9999 -9999   \n",
       "18706  None    56    41  ...  -9999 -9999     1 -9999 -9999 -9999 -9999 -9999   \n",
       "18707  None    49    21  ...  -9999 -9999 -9999 -9999 -9999 -9999 -9999 -9999   \n",
       "\n",
       "       WT08  WT03  \n",
       "18703 -9999 -9999  \n",
       "18704 -9999 -9999  \n",
       "18705     1 -9999  \n",
       "18706 -9999 -9999  \n",
       "18707 -9999 -9999  \n",
       "\n",
       "[5 rows x 28 columns]"
      ]
     },
     "execution_count": 29,
     "metadata": {},
     "output_type": "execute_result"
    }
   ],
   "source": [
    "weatherData2015.head(5)"
   ]
  },
  {
   "cell_type": "code",
   "execution_count": 69,
   "metadata": {
    "collapsed": false
   },
   "outputs": [
    {
     "name": "stdout",
     "output_type": "stream",
     "text": [
      "[0, 1, 2, 3, 4]\n"
     ]
    }
   ],
   "source": [
    "import math \n",
    "import numpy as np\n",
    "T_sample=list(range(0,110))\n",
    "print(T_sample[0:5])\n",
    "T_factor=pd.DataFrame(T_sample)\n",
    "T_factor['T_Factor']=T_factor[0].map(lambda x: -100*np.exp(-(.002*((x-65)**2))))"
   ]
  },
  {
   "cell_type": "code",
   "execution_count": 79,
   "metadata": {
    "collapsed": false
   },
   "outputs": [
    {
     "data": {
      "text/html": [
       "<div>\n",
       "<table border=\"1\" class=\"dataframe\">\n",
       "  <thead>\n",
       "    <tr style=\"text-align: right;\">\n",
       "      <th></th>\n",
       "      <th>Temp</th>\n",
       "      <th>T_Factor</th>\n",
       "    </tr>\n",
       "  </thead>\n",
       "  <tbody>\n",
       "    <tr>\n",
       "      <th>18703</th>\n",
       "      <td>39</td>\n",
       "      <td>74.127770</td>\n",
       "    </tr>\n",
       "    <tr>\n",
       "      <th>18704</th>\n",
       "      <td>42</td>\n",
       "      <td>65.285058</td>\n",
       "    </tr>\n",
       "    <tr>\n",
       "      <th>18705</th>\n",
       "      <td>42</td>\n",
       "      <td>65.285058</td>\n",
       "    </tr>\n",
       "    <tr>\n",
       "      <th>18706</th>\n",
       "      <td>56</td>\n",
       "      <td>14.955880</td>\n",
       "    </tr>\n",
       "    <tr>\n",
       "      <th>18707</th>\n",
       "      <td>49</td>\n",
       "      <td>40.070421</td>\n",
       "    </tr>\n",
       "  </tbody>\n",
       "</table>\n",
       "</div>"
      ],
      "text/plain": [
       "       Temp   T_Factor\n",
       "18703    39  74.127770\n",
       "18704    42  65.285058\n",
       "18705    42  65.285058\n",
       "18706    56  14.955880\n",
       "18707    49  40.070421"
      ]
     },
     "execution_count": 79,
     "metadata": {},
     "output_type": "execute_result"
    }
   ],
   "source": [
    "Temp_2015=weatherData2015['TMAX']\n",
    "T_factor=pd.DataFrame(Temp_2015)\n",
    "T_factor.columns=['Temp']\n",
    "T_factor['T_Factor']=T_factor['Temp'].map(lambda x: 100-100*np.exp(-(.002*((x-65)**2))))\n",
    "T_factor.head(5)"
   ]
  },
  {
   "cell_type": "code",
   "execution_count": 80,
   "metadata": {
    "collapsed": true
   },
   "outputs": [],
   "source": [
    "T_factor['Date']=weatherData2015['DATE']"
   ]
  },
  {
   "cell_type": "code",
   "execution_count": 81,
   "metadata": {
    "collapsed": false
   },
   "outputs": [
    {
     "data": {
      "text/html": [
       "<div>\n",
       "<table border=\"1\" class=\"dataframe\">\n",
       "  <thead>\n",
       "    <tr style=\"text-align: right;\">\n",
       "      <th></th>\n",
       "      <th>Temp</th>\n",
       "      <th>T_Factor</th>\n",
       "      <th>Date</th>\n",
       "    </tr>\n",
       "  </thead>\n",
       "  <tbody>\n",
       "    <tr>\n",
       "      <th>18703</th>\n",
       "      <td>39</td>\n",
       "      <td>74.127770</td>\n",
       "      <td>01-01-2015</td>\n",
       "    </tr>\n",
       "    <tr>\n",
       "      <th>18704</th>\n",
       "      <td>42</td>\n",
       "      <td>65.285058</td>\n",
       "      <td>01-02-2015</td>\n",
       "    </tr>\n",
       "    <tr>\n",
       "      <th>18705</th>\n",
       "      <td>42</td>\n",
       "      <td>65.285058</td>\n",
       "      <td>01-03-2015</td>\n",
       "    </tr>\n",
       "    <tr>\n",
       "      <th>18706</th>\n",
       "      <td>56</td>\n",
       "      <td>14.955880</td>\n",
       "      <td>01-04-2015</td>\n",
       "    </tr>\n",
       "    <tr>\n",
       "      <th>18707</th>\n",
       "      <td>49</td>\n",
       "      <td>40.070421</td>\n",
       "      <td>01-05-2015</td>\n",
       "    </tr>\n",
       "  </tbody>\n",
       "</table>\n",
       "</div>"
      ],
      "text/plain": [
       "       Temp   T_Factor        Date\n",
       "18703    39  74.127770  01-01-2015\n",
       "18704    42  65.285058  01-02-2015\n",
       "18705    42  65.285058  01-03-2015\n",
       "18706    56  14.955880  01-04-2015\n",
       "18707    49  40.070421  01-05-2015"
      ]
     },
     "execution_count": 81,
     "metadata": {},
     "output_type": "execute_result"
    }
   ],
   "source": [
    "T_factor.head(5)"
   ]
  },
  {
   "cell_type": "code",
   "execution_count": 84,
   "metadata": {
    "collapsed": false
   },
   "outputs": [
    {
     "data": {
      "text/html": [
       "<div>\n",
       "<table border=\"1\" class=\"dataframe\">\n",
       "  <thead>\n",
       "    <tr style=\"text-align: right;\">\n",
       "      <th></th>\n",
       "      <th>Temp</th>\n",
       "      <th>T_Factor</th>\n",
       "      <th>Date</th>\n",
       "    </tr>\n",
       "  </thead>\n",
       "  <tbody>\n",
       "    <tr>\n",
       "      <th>18703</th>\n",
       "      <td>39</td>\n",
       "      <td>74.127770</td>\n",
       "      <td>01-01-2015</td>\n",
       "    </tr>\n",
       "    <tr>\n",
       "      <th>18704</th>\n",
       "      <td>42</td>\n",
       "      <td>65.285058</td>\n",
       "      <td>01-02-2015</td>\n",
       "    </tr>\n",
       "    <tr>\n",
       "      <th>18705</th>\n",
       "      <td>42</td>\n",
       "      <td>65.285058</td>\n",
       "      <td>01-03-2015</td>\n",
       "    </tr>\n",
       "    <tr>\n",
       "      <th>18706</th>\n",
       "      <td>56</td>\n",
       "      <td>14.955880</td>\n",
       "      <td>01-04-2015</td>\n",
       "    </tr>\n",
       "    <tr>\n",
       "      <th>18707</th>\n",
       "      <td>49</td>\n",
       "      <td>40.070421</td>\n",
       "      <td>01-05-2015</td>\n",
       "    </tr>\n",
       "  </tbody>\n",
       "</table>\n",
       "</div>"
      ],
      "text/plain": [
       "       Temp   T_Factor        Date\n",
       "18703    39  74.127770  01-01-2015\n",
       "18704    42  65.285058  01-02-2015\n",
       "18705    42  65.285058  01-03-2015\n",
       "18706    56  14.955880  01-04-2015\n",
       "18707    49  40.070421  01-05-2015"
      ]
     },
     "execution_count": 84,
     "metadata": {},
     "output_type": "execute_result"
    }
   ],
   "source": [
    "T_factor.set_index('Date')\n",
    "T_factor.head(5)"
   ]
  },
  {
   "cell_type": "code",
   "execution_count": 90,
   "metadata": {
    "collapsed": false
   },
   "outputs": [
    {
     "data": {
      "text/plain": [
       "(array([   0.,   50.,  100.,  150.,  200.,  250.,  300.,  350.,  400.]),\n",
       " <a list of 9 Text xticklabel objects>)"
      ]
     },
     "execution_count": 90,
     "metadata": {},
     "output_type": "execute_result"
    },
    {
     "data": {
      "image/png": "[encoded data removed]",
      "text/plain": [
       "<matplotlib.figure.Figure at 0x2ae0e2e3ef0>"
      ]
     },
     "metadata": {},
     "output_type": "display_data"
    }
   ],
   "source": [
    "Wplt=T_factor.plot(kind='line',x='Date')\n",
    "plt.xticks(rotation=90)"
   ]
  },
  {
   "cell_type": "code",
   "execution_count": null,
   "metadata": {
    "collapsed": true
   },
   "outputs": [],
   "source": []
  }
 ],
 "metadata": {
  "kernelspec": {
   "display_name": "Python [Root]",
   "language": "python",
   "name": "Python [Root]"
  },
  "language_info": {
   "codemirror_mode": {
    "name": "ipython",
    "version": 3
   },
   "file_extension": ".py",
   "mimetype": "text/x-python",
   "name": "python",
   "nbconvert_exporter": "python",
   "pygments_lexer": "ipython3",
   "version": "3.5.2"
  }
 },
 "nbformat": 4,
 "nbformat_minor": 0
}
